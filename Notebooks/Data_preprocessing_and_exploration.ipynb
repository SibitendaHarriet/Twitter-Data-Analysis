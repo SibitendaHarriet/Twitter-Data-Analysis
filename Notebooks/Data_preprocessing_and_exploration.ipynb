{
 "metadata": {
  "language_info": {
   "codemirror_mode": {
    "name": "ipython",
    "version": 3
   },
   "file_extension": ".py",
   "mimetype": "text/x-python",
   "name": "python",
   "nbconvert_exporter": "python",
   "pygments_lexer": "ipython3",
   "version": "3.8.5"
  },
  "orig_nbformat": 2,
  "kernelspec": {
   "name": "python385jvsc74a57bd0c30745a67ab3077685183c6616f760120387d2e186c7e6a99675e86d34cdfa12",
   "display_name": "Python 3.8.5 64-bit ('base': conda)"
  }
 },
 "nbformat": 4,
 "nbformat_minor": 2,
 "cells": [
  {
   "source": [
    "<h1>Data Preprocessing<h1>"
   ],
   "cell_type": "markdown",
   "metadata": {}
  },
  {
   "source": [
    "<h2>Data reading<h2>"
   ],
   "cell_type": "markdown",
   "metadata": {}
  },
  {
   "cell_type": "code",
   "execution_count": 2,
   "metadata": {},
   "outputs": [],
   "source": [
    "import pandas as pd\n",
    "import sys\n",
    "import os\n",
    "\n",
    "sys.path.append(os.path.abspath(os.path.join('..')))\n",
    "\n",
    "from extract_dataframe import TweetDfExtractor\n",
    "from extract_dataframe import read_json\n",
    "\n",
    "_, tweet_list = read_json(\"../data/covid19.json\")"
   ]
  },
  {
   "cell_type": "code",
   "execution_count": 2,
   "metadata": {},
   "outputs": [
    {
     "output_type": "execute_result",
     "data": {
      "text/plain": [
       "                       created_at  \\\n",
       "0  Fri Jun 18 17:55:49 +0000 2021   \n",
       "1  Fri Jun 18 17:55:59 +0000 2021   \n",
       "2  Fri Jun 18 17:56:07 +0000 2021   \n",
       "3  Fri Jun 18 17:56:10 +0000 2021   \n",
       "4  Fri Jun 18 17:56:20 +0000 2021   \n",
       "\n",
       "                                              source  \\\n",
       "0  <a href=\"http://twitter.com/download/iphone\" r...   \n",
       "1  <a href=\"https://mobile.twitter.com\" rel=\"nofo...   \n",
       "2  <a href=\"http://twitter.com/download/iphone\" r...   \n",
       "3  <a href=\"https://mobile.twitter.com\" rel=\"nofo...   \n",
       "4  <a href=\"http://twitter.com/download/android\" ...   \n",
       "\n",
       "                                       original_text  polarity  subjectivity  \\\n",
       "0  🚨Africa is \"in the midst of a full-blown third...  0.166667      0.188889   \n",
       "1  Dr Moeti is head of WHO in Africa, and one of ...  0.133333      0.455556   \n",
       "2  Thank you @research2note for creating this ama...  0.316667      0.483333   \n",
       "3  Former Pfizer VP and Virologist, Dr. Michael Y...  0.086111      0.197222   \n",
       "4  I think it’s important that we don’t sell COVA...  0.280000      0.620000   \n",
       "\n",
       "  lang  favorite_count  retweet_count original_author  followers_count  \\\n",
       "0   en             548            612     ketuesriche              551   \n",
       "1   en             195             92        Grid1949               66   \n",
       "2   en               2              1   LeeTomlinson8             1195   \n",
       "3   en            1580            899         RIPNY08             2666   \n",
       "4   en              72             20          pash22            28250   \n",
       "\n",
       "   friends_count possibly_sensitive  \\\n",
       "0            351              False   \n",
       "1             92              False   \n",
       "2           1176               None   \n",
       "3           2704              False   \n",
       "4          30819               None   \n",
       "\n",
       "                                            hashtags  \\\n",
       "0                                                 []   \n",
       "1                                                 []   \n",
       "2  [{'text': 'red4research', 'indices': [103, 116]}]   \n",
       "3                                                 []   \n",
       "4                                                 []   \n",
       "\n",
       "                                       user_mentions                place  \n",
       "0  [{'screen_name': 'TelGlobalHealth', 'name': 'T...                 Mass  \n",
       "1  [{'screen_name': 'globalhlthtwit', 'name': 'An...  Edinburgh, Scotland  \n",
       "2  [{'screen_name': 'NHSRDForum', 'name': 'NHS R&...                 None  \n",
       "3  [{'screen_name': 'HighWireTalk', 'name': 'The ...                 None  \n",
       "4  [{'screen_name': 'PeterHotez', 'name': 'Prof P...       United Kingdom  "
      ],
      "text/html": "<div>\n<style scoped>\n    .dataframe tbody tr th:only-of-type {\n        vertical-align: middle;\n    }\n\n    .dataframe tbody tr th {\n        vertical-align: top;\n    }\n\n    .dataframe thead th {\n        text-align: right;\n    }\n</style>\n<table border=\"1\" class=\"dataframe\">\n  <thead>\n    <tr style=\"text-align: right;\">\n      <th></th>\n      <th>created_at</th>\n      <th>source</th>\n      <th>original_text</th>\n      <th>polarity</th>\n      <th>subjectivity</th>\n      <th>lang</th>\n      <th>favorite_count</th>\n      <th>retweet_count</th>\n      <th>original_author</th>\n      <th>followers_count</th>\n      <th>friends_count</th>\n      <th>possibly_sensitive</th>\n      <th>hashtags</th>\n      <th>user_mentions</th>\n      <th>place</th>\n    </tr>\n  </thead>\n  <tbody>\n    <tr>\n      <th>0</th>\n      <td>Fri Jun 18 17:55:49 +0000 2021</td>\n      <td>&lt;a href=\"http://twitter.com/download/iphone\" r...</td>\n      <td>🚨Africa is \"in the midst of a full-blown third...</td>\n      <td>0.166667</td>\n      <td>0.188889</td>\n      <td>en</td>\n      <td>548</td>\n      <td>612</td>\n      <td>ketuesriche</td>\n      <td>551</td>\n      <td>351</td>\n      <td>False</td>\n      <td>[]</td>\n      <td>[{'screen_name': 'TelGlobalHealth', 'name': 'T...</td>\n      <td>Mass</td>\n    </tr>\n    <tr>\n      <th>1</th>\n      <td>Fri Jun 18 17:55:59 +0000 2021</td>\n      <td>&lt;a href=\"https://mobile.twitter.com\" rel=\"nofo...</td>\n      <td>Dr Moeti is head of WHO in Africa, and one of ...</td>\n      <td>0.133333</td>\n      <td>0.455556</td>\n      <td>en</td>\n      <td>195</td>\n      <td>92</td>\n      <td>Grid1949</td>\n      <td>66</td>\n      <td>92</td>\n      <td>False</td>\n      <td>[]</td>\n      <td>[{'screen_name': 'globalhlthtwit', 'name': 'An...</td>\n      <td>Edinburgh, Scotland</td>\n    </tr>\n    <tr>\n      <th>2</th>\n      <td>Fri Jun 18 17:56:07 +0000 2021</td>\n      <td>&lt;a href=\"http://twitter.com/download/iphone\" r...</td>\n      <td>Thank you @research2note for creating this ama...</td>\n      <td>0.316667</td>\n      <td>0.483333</td>\n      <td>en</td>\n      <td>2</td>\n      <td>1</td>\n      <td>LeeTomlinson8</td>\n      <td>1195</td>\n      <td>1176</td>\n      <td>None</td>\n      <td>[{'text': 'red4research', 'indices': [103, 116]}]</td>\n      <td>[{'screen_name': 'NHSRDForum', 'name': 'NHS R&amp;...</td>\n      <td>None</td>\n    </tr>\n    <tr>\n      <th>3</th>\n      <td>Fri Jun 18 17:56:10 +0000 2021</td>\n      <td>&lt;a href=\"https://mobile.twitter.com\" rel=\"nofo...</td>\n      <td>Former Pfizer VP and Virologist, Dr. Michael Y...</td>\n      <td>0.086111</td>\n      <td>0.197222</td>\n      <td>en</td>\n      <td>1580</td>\n      <td>899</td>\n      <td>RIPNY08</td>\n      <td>2666</td>\n      <td>2704</td>\n      <td>False</td>\n      <td>[]</td>\n      <td>[{'screen_name': 'HighWireTalk', 'name': 'The ...</td>\n      <td>None</td>\n    </tr>\n    <tr>\n      <th>4</th>\n      <td>Fri Jun 18 17:56:20 +0000 2021</td>\n      <td>&lt;a href=\"http://twitter.com/download/android\" ...</td>\n      <td>I think it’s important that we don’t sell COVA...</td>\n      <td>0.280000</td>\n      <td>0.620000</td>\n      <td>en</td>\n      <td>72</td>\n      <td>20</td>\n      <td>pash22</td>\n      <td>28250</td>\n      <td>30819</td>\n      <td>None</td>\n      <td>[]</td>\n      <td>[{'screen_name': 'PeterHotez', 'name': 'Prof P...</td>\n      <td>United Kingdom</td>\n    </tr>\n  </tbody>\n</table>\n</div>"
     },
     "metadata": {},
     "execution_count": 2
    }
   ],
   "source": [
    "tweets_df_extractor = TweetDfExtractor(tweet_list)\n",
    "tweets_df = tweets_df_extractor.get_tweet_df()\n",
    "tweets_df.head()"
   ]
  },
  {
   "source": [
    "tweets_df.info()"
   ],
   "cell_type": "code",
   "metadata": {},
   "execution_count": 3,
   "outputs": [
    {
     "output_type": "stream",
     "name": "stdout",
     "text": [
      "<class 'pandas.core.frame.DataFrame'>\nRangeIndex: 6532 entries, 0 to 6531\nData columns (total 15 columns):\n #   Column              Non-Null Count  Dtype  \n---  ------              --------------  -----  \n 0   created_at          6532 non-null   object \n 1   source              6532 non-null   object \n 2   original_text       6532 non-null   object \n 3   polarity            6532 non-null   float64\n 4   subjectivity        6532 non-null   float64\n 5   lang                6532 non-null   object \n 6   favorite_count      6532 non-null   int64  \n 7   retweet_count       6532 non-null   int64  \n 8   original_author     6532 non-null   object \n 9   followers_count     6532 non-null   int64  \n 10  friends_count       6532 non-null   int64  \n 11  possibly_sensitive  3618 non-null   object \n 12  hashtags            6532 non-null   object \n 13  user_mentions       6532 non-null   object \n 14  place               4088 non-null   object \ndtypes: float64(2), int64(4), object(9)\nmemory usage: 765.6+ KB\n"
     ]
    }
   ]
  },
  {
   "source": [
    "<h2>Missing values<h2>"
   ],
   "cell_type": "markdown",
   "metadata": {}
  },
  {
   "cell_type": "code",
   "execution_count": 4,
   "metadata": {},
   "outputs": [
    {
     "output_type": "execute_result",
     "data": {
      "text/plain": [
       "created_at               0\n",
       "source                   0\n",
       "original_text            0\n",
       "polarity                 0\n",
       "subjectivity             0\n",
       "lang                     0\n",
       "favorite_count           0\n",
       "retweet_count            0\n",
       "original_author          0\n",
       "followers_count          0\n",
       "friends_count            0\n",
       "possibly_sensitive    2914\n",
       "hashtags                 0\n",
       "user_mentions            0\n",
       "place                 2444\n",
       "dtype: int64"
      ]
     },
     "metadata": {},
     "execution_count": 4
    }
   ],
   "source": [
    "tweets_df.isna().sum()"
   ]
  },
  {
   "source": [
    "<h2>Remove unwanted columns<h2>"
   ],
   "cell_type": "markdown",
   "metadata": {}
  },
  {
   "cell_type": "code",
   "execution_count": 6,
   "metadata": {},
   "outputs": [],
   "source": [
    "from clean_tweets_dataframe import Clean_Tweets"
   ]
  },
  {
   "cell_type": "code",
   "execution_count": 7,
   "metadata": {},
   "outputs": [
    {
     "output_type": "stream",
     "name": "stdout",
     "text": [
      "Automation in Action...!!!\n"
     ]
    },
    {
     "output_type": "execute_result",
     "data": {
      "text/plain": [
       "Index(['created_at', 'source', 'original_text', 'polarity', 'subjectivity',\n",
       "       'lang', 'favorite_count', 'retweet_count', 'original_author',\n",
       "       'followers_count', 'friends_count', 'hashtags', 'user_mentions',\n",
       "       'place'],\n",
       "      dtype='object')"
      ]
     },
     "metadata": {},
     "execution_count": 7
    }
   ],
   "source": [
    "# remove \"possibly_sensitive\" column\n",
    "clean_tweets = Clean_Tweets(tweets_df)\n",
    "tweets_df = clean_tweets.drop_unwanted_column(tweets_df, [\"possibly_sensitive\"])\n",
    "tweets_df.columns"
   ]
  },
  {
   "source": [
    "<h2>Drop duplicates<h2>"
   ],
   "cell_type": "markdown",
   "metadata": {}
  },
  {
   "cell_type": "code",
   "execution_count": 8,
   "metadata": {},
   "outputs": [
    {
     "output_type": "execute_result",
     "data": {
      "text/plain": [
       "(6532, 14)"
      ]
     },
     "metadata": {},
     "execution_count": 8
    }
   ],
   "source": [
    "# shape of tweets_df\n",
    "tweets_df.shape"
   ]
  },
  {
   "cell_type": "code",
   "execution_count": 11,
   "metadata": {},
   "outputs": [
    {
     "output_type": "execute_result",
     "data": {
      "text/plain": [
       "(6532, 14)"
      ]
     },
     "metadata": {},
     "execution_count": 11
    }
   ],
   "source": [
    "tweets_df = clean_tweets.drop_duplicate(tweets_df)\n",
    "tweets_df.shape"
   ]
  },
  {
   "source": [
    "There were no duplicate rows."
   ],
   "cell_type": "markdown",
   "metadata": {}
  },
  {
   "source": [
    "<h2>Convert to datetime<h2>"
   ],
   "cell_type": "markdown",
   "metadata": {}
  },
  {
   "cell_type": "code",
   "execution_count": 13,
   "metadata": {},
   "outputs": [
    {
     "output_type": "stream",
     "name": "stdout",
     "text": [
      "<class 'pandas.core.frame.DataFrame'>\nRangeIndex: 6532 entries, 0 to 6531\nData columns (total 14 columns):\n #   Column           Non-Null Count  Dtype              \n---  ------           --------------  -----              \n 0   created_at       6532 non-null   datetime64[ns, UTC]\n 1   source           6532 non-null   object             \n 2   original_text    6532 non-null   object             \n 3   polarity         6532 non-null   float64            \n 4   subjectivity     6532 non-null   float64            \n 5   lang             6532 non-null   object             \n 6   favorite_count   6532 non-null   int64              \n 7   retweet_count    6532 non-null   int64              \n 8   original_author  6532 non-null   object             \n 9   followers_count  6532 non-null   int64              \n 10  friends_count    6532 non-null   int64              \n 11  hashtags         6532 non-null   object             \n 12  user_mentions    6532 non-null   object             \n 13  place            4088 non-null   object             \ndtypes: datetime64[ns, UTC](1), float64(2), int64(4), object(7)\nmemory usage: 714.6+ KB\n"
     ]
    }
   ],
   "source": [
    "tweets_df = clean_tweets.convert_to_datetime(tweets_df)\n",
    "tweets_df.info()"
   ]
  },
  {
   "source": [
    "<h2>Remove tweets that are not english<h2>"
   ],
   "cell_type": "markdown",
   "metadata": {}
  },
  {
   "cell_type": "code",
   "execution_count": 14,
   "metadata": {},
   "outputs": [
    {
     "output_type": "execute_result",
     "data": {
      "text/plain": [
       "(6532, 14)"
      ]
     },
     "metadata": {},
     "execution_count": 14
    }
   ],
   "source": [
    "tweets_df.shape"
   ]
  },
  {
   "cell_type": "code",
   "execution_count": 15,
   "metadata": {},
   "outputs": [
    {
     "output_type": "execute_result",
     "data": {
      "text/plain": [
       "(6532, 14)"
      ]
     },
     "metadata": {},
     "execution_count": 15
    }
   ],
   "source": [
    "tweets_df = clean_tweets.remove_non_english_tweets(tweets_df)\n",
    "tweets_df.shape"
   ]
  },
  {
   "source": [
    "There are no non-english tweets."
   ],
   "cell_type": "markdown",
   "metadata": {}
  },
  {
   "source": [
    "<h2>Clean original_text<h2>"
   ],
   "cell_type": "markdown",
   "metadata": {}
  },
  {
   "cell_type": "code",
   "execution_count": 22,
   "metadata": {},
   "outputs": [
    {
     "output_type": "stream",
     "name": "stderr",
     "text": [
      "<ipython-input-22-1da51f7bb4c2>:2: FutureWarning: The default value of regex will change from True to False in a future version.\n  tweets_df[\"clean_text\"] = tweets_df[\"original_text\"].str.replace(\"[^a-zA-Z#@\\s]\", \"\")\n"
     ]
    },
    {
     "output_type": "execute_result",
     "data": {
      "text/plain": [
       "                                          original_text  \\\n",
       "0     🚨Africa is \"in the midst of a full-blown third...   \n",
       "1     Dr Moeti is head of WHO in Africa, and one of ...   \n",
       "2     Thank you @research2note for creating this ama...   \n",
       "3     Former Pfizer VP and Virologist, Dr. Michael Y...   \n",
       "4     I think it’s important that we don’t sell COVA...   \n",
       "...                                                 ...   \n",
       "6527  RT @Givenkazeni: Zweli please just release the...   \n",
       "6528  Former Pfizer VP and Virologist, Dr. Michael Y...   \n",
       "6529  @Jenfeds73 @DcrInYYC Respectfully, veterinaria...   \n",
       "6530  \"Africa needs millions more doses here &amp; n...   \n",
       "6531  RT @shawajason: Liars. You tried to load off y...   \n",
       "\n",
       "                                             clean_text  \n",
       "0     Africa is in the midst of a fullblown third wa...  \n",
       "1     Dr Moeti is head of WHO in Africa and one of t...  \n",
       "2     Thank you @researchnote for creating this amaz...  \n",
       "3     Former Pfizer VP and Virologist Dr Michael Yea...  \n",
       "4     I think its important that we dont sell COVAX ...  \n",
       "...                                                 ...  \n",
       "6527  RT @Givenkazeni Zweli please just release the ...  \n",
       "6528  Former Pfizer VP and Virologist Dr Michael Yea...  \n",
       "6529  @Jenfeds @DcrInYYC Respectfully veterinarians ...  \n",
       "6530  Africa needs millions more doses here amp now ...  \n",
       "6531  RT @shawajason Liars You tried to load off you...  \n",
       "\n",
       "[6532 rows x 2 columns]"
      ],
      "text/html": "<div>\n<style scoped>\n    .dataframe tbody tr th:only-of-type {\n        vertical-align: middle;\n    }\n\n    .dataframe tbody tr th {\n        vertical-align: top;\n    }\n\n    .dataframe thead th {\n        text-align: right;\n    }\n</style>\n<table border=\"1\" class=\"dataframe\">\n  <thead>\n    <tr style=\"text-align: right;\">\n      <th></th>\n      <th>original_text</th>\n      <th>clean_text</th>\n    </tr>\n  </thead>\n  <tbody>\n    <tr>\n      <th>0</th>\n      <td>🚨Africa is \"in the midst of a full-blown third...</td>\n      <td>Africa is in the midst of a fullblown third wa...</td>\n    </tr>\n    <tr>\n      <th>1</th>\n      <td>Dr Moeti is head of WHO in Africa, and one of ...</td>\n      <td>Dr Moeti is head of WHO in Africa and one of t...</td>\n    </tr>\n    <tr>\n      <th>2</th>\n      <td>Thank you @research2note for creating this ama...</td>\n      <td>Thank you @researchnote for creating this amaz...</td>\n    </tr>\n    <tr>\n      <th>3</th>\n      <td>Former Pfizer VP and Virologist, Dr. Michael Y...</td>\n      <td>Former Pfizer VP and Virologist Dr Michael Yea...</td>\n    </tr>\n    <tr>\n      <th>4</th>\n      <td>I think it’s important that we don’t sell COVA...</td>\n      <td>I think its important that we dont sell COVAX ...</td>\n    </tr>\n    <tr>\n      <th>...</th>\n      <td>...</td>\n      <td>...</td>\n    </tr>\n    <tr>\n      <th>6527</th>\n      <td>RT @Givenkazeni: Zweli please just release the...</td>\n      <td>RT @Givenkazeni Zweli please just release the ...</td>\n    </tr>\n    <tr>\n      <th>6528</th>\n      <td>Former Pfizer VP and Virologist, Dr. Michael Y...</td>\n      <td>Former Pfizer VP and Virologist Dr Michael Yea...</td>\n    </tr>\n    <tr>\n      <th>6529</th>\n      <td>@Jenfeds73 @DcrInYYC Respectfully, veterinaria...</td>\n      <td>@Jenfeds @DcrInYYC Respectfully veterinarians ...</td>\n    </tr>\n    <tr>\n      <th>6530</th>\n      <td>\"Africa needs millions more doses here &amp;amp; n...</td>\n      <td>Africa needs millions more doses here amp now ...</td>\n    </tr>\n    <tr>\n      <th>6531</th>\n      <td>RT @shawajason: Liars. You tried to load off y...</td>\n      <td>RT @shawajason Liars You tried to load off you...</td>\n    </tr>\n  </tbody>\n</table>\n<p>6532 rows × 2 columns</p>\n</div>"
     },
     "metadata": {},
     "execution_count": 22
    }
   ],
   "source": [
    "# remove non-alphabetic characters\n",
    "tweets_df[\"clean_text\"] = tweets_df[\"original_text\"].str.replace(\"[^a-zA-Z#@\\s]\", \"\")\n",
    "tweets_df[\"clean_text\"] = tweets_df[\"clean_text\"].str.replace(\"\\n\", \"\\s\")\n",
    "tweets_df[[\"original_text\", \"clean_text\"]]"
   ]
  },
  {
   "source": [
    "<h2>Save pre-processed data<h2>"
   ],
   "cell_type": "markdown",
   "metadata": {}
  },
  {
   "cell_type": "code",
   "execution_count": 23,
   "metadata": {},
   "outputs": [],
   "source": [
    "tweets_df.to_csv(\"../data/processed_tweets.csv\")"
   ]
  },
  {
   "source": [
    "<h1>Data Exploration<h1>"
   ],
   "cell_type": "markdown",
   "metadata": {}
  },
  {
   "source": [
    "<h2>Basic info<h2>"
   ],
   "cell_type": "markdown",
   "metadata": {}
  },
  {
   "cell_type": "code",
   "execution_count": 3,
   "metadata": {},
   "outputs": [],
   "source": [
    "tweets_df = pd.read_csv(\"../data/processed_tweets.csv\")"
   ]
  },
  {
   "cell_type": "code",
   "execution_count": 4,
   "metadata": {},
   "outputs": [
    {
     "output_type": "execute_result",
     "data": {
      "text/plain": [
       "(6532, 16)"
      ]
     },
     "metadata": {},
     "execution_count": 4
    }
   ],
   "source": [
    "# shape of dataframe\n",
    "tweets_df.shape"
   ]
  },
  {
   "cell_type": "code",
   "execution_count": 6,
   "metadata": {},
   "outputs": [
    {
     "output_type": "stream",
     "name": "stdout",
     "text": [
      "<class 'pandas.core.frame.DataFrame'>\nRangeIndex: 6532 entries, 0 to 6531\nData columns (total 16 columns):\n #   Column           Non-Null Count  Dtype  \n---  ------           --------------  -----  \n 0   Unnamed: 0       6532 non-null   int64  \n 1   created_at       6532 non-null   object \n 2   source           6532 non-null   object \n 3   original_text    6532 non-null   object \n 4   polarity         6532 non-null   float64\n 5   subjectivity     6532 non-null   float64\n 6   lang             6532 non-null   object \n 7   favorite_count   6532 non-null   int64  \n 8   retweet_count    6532 non-null   int64  \n 9   original_author  6532 non-null   object \n 10  followers_count  6532 non-null   int64  \n 11  friends_count    6532 non-null   int64  \n 12  hashtags         6532 non-null   object \n 13  user_mentions    6532 non-null   object \n 14  place            4088 non-null   object \n 15  clean_text       6532 non-null   object \ndtypes: float64(2), int64(5), object(9)\nmemory usage: 816.6+ KB\n"
     ]
    }
   ],
   "source": [
    "# general info about null values, data types, columns\n",
    "tweets_df.info()"
   ]
  },
  {
   "cell_type": "code",
   "execution_count": 30,
   "metadata": {},
   "outputs": [
    {
     "output_type": "execute_result",
     "data": {
      "text/plain": [
       "        Unnamed: 0     polarity  subjectivity  favorite_count  retweet_count  \\\n",
       "count  6532.000000  6532.000000   6532.000000     6532.000000    6532.000000   \n",
       "mean   3265.500000     0.050195      0.412159      242.896050     126.928353   \n",
       "std    1885.770311     0.311941      0.316800      617.588401     258.437016   \n",
       "min       0.000000    -1.000000      0.000000        0.000000       0.000000   \n",
       "25%    1632.750000     0.000000      0.125000        0.000000       0.000000   \n",
       "50%    3265.500000     0.028125      0.400000       28.000000      14.000000   \n",
       "75%    4898.250000     0.207273      0.633333      309.000000     131.250000   \n",
       "max    6531.000000     1.000000      1.000000    20527.000000    6847.000000   \n",
       "\n",
       "       followers_count  friends_count  \n",
       "count     6.532000e+03    6532.000000  \n",
       "mean      1.649915e+04    1707.652021  \n",
       "std       2.597877e+05    5148.761957  \n",
       "min       0.000000e+00       0.000000  \n",
       "25%       8.900000e+01     162.000000  \n",
       "50%       4.545000e+02     560.500000  \n",
       "75%       1.769000e+03    1765.000000  \n",
       "max       1.366658e+07  237298.000000  "
      ],
      "text/html": "<div>\n<style scoped>\n    .dataframe tbody tr th:only-of-type {\n        vertical-align: middle;\n    }\n\n    .dataframe tbody tr th {\n        vertical-align: top;\n    }\n\n    .dataframe thead th {\n        text-align: right;\n    }\n</style>\n<table border=\"1\" class=\"dataframe\">\n  <thead>\n    <tr style=\"text-align: right;\">\n      <th></th>\n      <th>Unnamed: 0</th>\n      <th>polarity</th>\n      <th>subjectivity</th>\n      <th>favorite_count</th>\n      <th>retweet_count</th>\n      <th>followers_count</th>\n      <th>friends_count</th>\n    </tr>\n  </thead>\n  <tbody>\n    <tr>\n      <th>count</th>\n      <td>6532.000000</td>\n      <td>6532.000000</td>\n      <td>6532.000000</td>\n      <td>6532.000000</td>\n      <td>6532.000000</td>\n      <td>6.532000e+03</td>\n      <td>6532.000000</td>\n    </tr>\n    <tr>\n      <th>mean</th>\n      <td>3265.500000</td>\n      <td>0.050195</td>\n      <td>0.412159</td>\n      <td>242.896050</td>\n      <td>126.928353</td>\n      <td>1.649915e+04</td>\n      <td>1707.652021</td>\n    </tr>\n    <tr>\n      <th>std</th>\n      <td>1885.770311</td>\n      <td>0.311941</td>\n      <td>0.316800</td>\n      <td>617.588401</td>\n      <td>258.437016</td>\n      <td>2.597877e+05</td>\n      <td>5148.761957</td>\n    </tr>\n    <tr>\n      <th>min</th>\n      <td>0.000000</td>\n      <td>-1.000000</td>\n      <td>0.000000</td>\n      <td>0.000000</td>\n      <td>0.000000</td>\n      <td>0.000000e+00</td>\n      <td>0.000000</td>\n    </tr>\n    <tr>\n      <th>25%</th>\n      <td>1632.750000</td>\n      <td>0.000000</td>\n      <td>0.125000</td>\n      <td>0.000000</td>\n      <td>0.000000</td>\n      <td>8.900000e+01</td>\n      <td>162.000000</td>\n    </tr>\n    <tr>\n      <th>50%</th>\n      <td>3265.500000</td>\n      <td>0.028125</td>\n      <td>0.400000</td>\n      <td>28.000000</td>\n      <td>14.000000</td>\n      <td>4.545000e+02</td>\n      <td>560.500000</td>\n    </tr>\n    <tr>\n      <th>75%</th>\n      <td>4898.250000</td>\n      <td>0.207273</td>\n      <td>0.633333</td>\n      <td>309.000000</td>\n      <td>131.250000</td>\n      <td>1.769000e+03</td>\n      <td>1765.000000</td>\n    </tr>\n    <tr>\n      <th>max</th>\n      <td>6531.000000</td>\n      <td>1.000000</td>\n      <td>1.000000</td>\n      <td>20527.000000</td>\n      <td>6847.000000</td>\n      <td>1.366658e+07</td>\n      <td>237298.000000</td>\n    </tr>\n  </tbody>\n</table>\n</div>"
     },
     "metadata": {},
     "execution_count": 30
    }
   ],
   "source": [
    "# stats about numerical columns\n",
    "tweets_df.describe()"
   ]
  },
  {
   "source": [
    "<h2>Location<h2>"
   ],
   "cell_type": "markdown",
   "metadata": {}
  },
  {
   "cell_type": "code",
   "execution_count": 9,
   "metadata": {},
   "outputs": [
    {
     "output_type": "execute_result",
     "data": {
      "text/plain": [
       "United States                     53\n",
       "South Africa                      53\n",
       "Malaysia                          45\n",
       "കേരളം                             45\n",
       "Canada                            44\n",
       "                                  ..\n",
       "NEVERLAND                          1\n",
       "Cherokee National Forest,TN/NC     1\n",
       "Barcelona, Espanya                 1\n",
       "ÜT: 43.648055,-79.379878           1\n",
       "Sanaa                              1\n",
       "Name: place, Length: 2256, dtype: int64"
      ]
     },
     "metadata": {},
     "execution_count": 9
    }
   ],
   "source": [
    "tweets_df.place.value_counts()"
   ]
  },
  {
   "cell_type": "code",
   "execution_count": 19,
   "metadata": {},
   "outputs": [
    {
     "output_type": "stream",
     "name": "stderr",
     "text": [
      "/home/z/anaconda3/lib/python3.8/site-packages/matplotlib/textpath.py:74: RuntimeWarning: Glyph 3349 missing from current font.\n",
      "  font.set_text(s, 0.0, flags=LOAD_NO_HINTING)\n",
      "/home/z/anaconda3/lib/python3.8/site-packages/matplotlib/textpath.py:74: RuntimeWarning: Glyph 3399 missing from current font.\n",
      "  font.set_text(s, 0.0, flags=LOAD_NO_HINTING)\n",
      "/home/z/anaconda3/lib/python3.8/site-packages/matplotlib/textpath.py:74: RuntimeWarning: Glyph 3376 missing from current font.\n",
      "  font.set_text(s, 0.0, flags=LOAD_NO_HINTING)\n",
      "/home/z/anaconda3/lib/python3.8/site-packages/matplotlib/textpath.py:74: RuntimeWarning: Glyph 3379 missing from current font.\n",
      "  font.set_text(s, 0.0, flags=LOAD_NO_HINTING)\n",
      "/home/z/anaconda3/lib/python3.8/site-packages/matplotlib/textpath.py:74: RuntimeWarning: Glyph 3330 missing from current font.\n",
      "  font.set_text(s, 0.0, flags=LOAD_NO_HINTING)\n",
      "/home/z/anaconda3/lib/python3.8/site-packages/matplotlib/backends/backend_agg.py:238: RuntimeWarning: Glyph 3349 missing from current font.\n",
      "  font.set_text(s, 0.0, flags=flags)\n",
      "/home/z/anaconda3/lib/python3.8/site-packages/matplotlib/backends/backend_agg.py:238: RuntimeWarning: Glyph 3399 missing from current font.\n",
      "  font.set_text(s, 0.0, flags=flags)\n",
      "/home/z/anaconda3/lib/python3.8/site-packages/matplotlib/backends/backend_agg.py:238: RuntimeWarning: Glyph 3376 missing from current font.\n",
      "  font.set_text(s, 0.0, flags=flags)\n",
      "/home/z/anaconda3/lib/python3.8/site-packages/matplotlib/backends/backend_agg.py:238: RuntimeWarning: Glyph 3379 missing from current font.\n",
      "  font.set_text(s, 0.0, flags=flags)\n",
      "/home/z/anaconda3/lib/python3.8/site-packages/matplotlib/backends/backend_agg.py:238: RuntimeWarning: Glyph 3330 missing from current font.\n",
      "  font.set_text(s, 0.0, flags=flags)\n",
      "/home/z/anaconda3/lib/python3.8/site-packages/matplotlib/backends/backend_agg.py:201: RuntimeWarning: Glyph 3349 missing from current font.\n",
      "  font.set_text(s, 0, flags=flags)\n",
      "/home/z/anaconda3/lib/python3.8/site-packages/matplotlib/backends/backend_agg.py:201: RuntimeWarning: Glyph 3399 missing from current font.\n",
      "  font.set_text(s, 0, flags=flags)\n",
      "/home/z/anaconda3/lib/python3.8/site-packages/matplotlib/backends/backend_agg.py:201: RuntimeWarning: Glyph 3376 missing from current font.\n",
      "  font.set_text(s, 0, flags=flags)\n",
      "/home/z/anaconda3/lib/python3.8/site-packages/matplotlib/backends/backend_agg.py:201: RuntimeWarning: Glyph 3379 missing from current font.\n",
      "  font.set_text(s, 0, flags=flags)\n",
      "/home/z/anaconda3/lib/python3.8/site-packages/matplotlib/backends/backend_agg.py:201: RuntimeWarning: Glyph 3330 missing from current font.\n",
      "  font.set_text(s, 0, flags=flags)\n"
     ]
    },
    {
     "output_type": "display_data",
     "data": {
      "text/plain": "<Figure size 432x288 with 1 Axes>",
      "image/svg+xml": "<?xml version=\"1.0\" encoding=\"utf-8\" standalone=\"no\"?>\n<!DOCTYPE svg PUBLIC \"-//W3C//DTD SVG 1.1//EN\"\n  \"http://www.w3.org/Graphics/SVG/1.1/DTD/svg11.dtd\">\n<!-- Created with matplotlib (https://matplotlib.org/) -->\n<svg height=\"260.64pt\" version=\"1.1\" viewBox=\"0 0 314.041183 260.64\" width=\"314.041183pt\" xmlns=\"http://www.w3.org/2000/svg\" xmlns:xlink=\"http://www.w3.org/1999/xlink\">\n <metadata>\n  <rdf:RDF xmlns:cc=\"http://creativecommons.org/ns#\" xmlns:dc=\"http://purl.org/dc/elements/1.1/\" xmlns:rdf=\"http://www.w3.org/1999/02/22-rdf-syntax-ns#\">\n   <cc:Work>\n    <dc:type rdf:resource=\"http://purl.org/dc/dcmitype/StillImage\"/>\n    <dc:date>2021-06-24T11:48:51.836808</dc:date>\n    <dc:format>image/svg+xml</dc:format>\n    <dc:creator>\n     <cc:Agent>\n      <dc:title>Matplotlib v3.3.2, https://matplotlib.org/</dc:title>\n     </cc:Agent>\n    </dc:creator>\n   </cc:Work>\n  </rdf:RDF>\n </metadata>\n <defs>\n  <style type=\"text/css\">*{stroke-linecap:butt;stroke-linejoin:round;}</style>\n </defs>\n <g id=\"figure_1\">\n  <g id=\"patch_1\">\n   <path d=\"M 0 260.64 \nL 314.041183 260.64 \nL 314.041183 0 \nL 0 0 \nz\n\" style=\"fill:none;\"/>\n  </g>\n  <g id=\"axes_1\">\n   <g id=\"patch_2\">\n    <path d=\"M 236.234916 144.72 \nC 236.234916 132.818122 233.79192 121.041939 229.057527 110.122221 \nC 224.323134 99.202503 217.397344 89.369897 208.709937 81.234563 \nL 149.258916 144.72 \nL 236.234916 144.72 \nz\n\" style=\"fill:#1f77b4;\"/>\n   </g>\n   <g id=\"patch_3\">\n    <path d=\"M 208.709937 81.234563 \nC 200.022529 73.099229 189.756999 66.833001 178.550372 62.82473 \nC 167.343746 58.81646 155.432729 57.150808 143.556459 57.931138 \nL 149.258916 144.72 \nL 208.709937 81.234563 \nz\n\" style=\"fill:#ff7f0e;\"/>\n   </g>\n   <g id=\"patch_4\">\n    <path d=\"M 143.556459 57.931138 \nC 133.482549 58.593044 123.600375 61.003899 114.353418 65.055511 \nC 105.106461 69.107124 96.635145 74.737966 89.319636 81.695344 \nL 149.258916 144.72 \nL 143.556459 57.931138 \nz\n\" style=\"fill:#2ca02c;\"/>\n   </g>\n   <g id=\"patch_5\">\n    <path d=\"M 89.319636 81.695344 \nC 82.004127 88.652722 75.955518 96.830981 71.445252 105.863106 \nC 66.934986 114.895231 64.031556 124.64406 62.865258 134.672097 \nL 149.258916 144.72 \nL 89.319636 81.695344 \nz\n\" style=\"fill:#d62728;\"/>\n   </g>\n   <g id=\"patch_6\">\n    <path d=\"M 62.865258 134.672097 \nC 61.725003 144.476214 62.261907 154.40328 64.452928 164.027225 \nC 66.643949 173.651171 70.457285 182.832312 75.729268 191.176597 \nL 149.258916 144.72 \nL 62.865258 134.672097 \nz\n\" style=\"fill:#9467bd;\"/>\n   </g>\n   <g id=\"patch_7\">\n    <path d=\"M 75.729268 191.176597 \nC 80.519995 198.759169 86.454925 205.555267 93.323254 211.3235 \nC 100.191583 217.091734 107.911019 221.762991 116.207375 225.171353 \nL 149.258916 144.72 \nL 75.729268 191.176597 \nz\n\" style=\"fill:#8c564b;\"/>\n   </g>\n   <g id=\"patch_8\">\n    <path d=\"M 116.207375 225.171353 \nC 123.671294 228.237728 131.52576 230.250535 139.544518 231.151794 \nC 147.563276 232.053053 155.668586 231.834026 163.626968 230.501022 \nL 149.258916 144.72 \nL 116.207375 225.171353 \nz\n\" style=\"fill:#e377c2;\"/>\n   </g>\n   <g id=\"patch_9\">\n    <path d=\"M 163.626968 230.501022 \nC 170.477184 229.353632 177.165363 227.389805 183.548457 224.651546 \nC 189.931551 221.913286 195.963723 218.420255 201.515954 214.247165 \nL 149.258916 144.72 \nL 163.626968 230.501022 \nz\n\" style=\"fill:#7f7f7f;\"/>\n   </g>\n   <g id=\"patch_10\">\n    <path d=\"M 201.515954 214.247165 \nC 207.068185 210.074074 212.100605 205.25089 216.505579 199.880773 \nC 220.910553 194.510656 224.65645 188.632168 227.663149 182.371041 \nL 149.258916 144.72 \nL 201.515954 214.247165 \nz\n\" style=\"fill:#bcbd22;\"/>\n   </g>\n   <g id=\"patch_11\">\n    <path d=\"M 227.663149 182.371041 \nC 230.47545 176.514727 232.622772 170.361715 234.064903 164.027229 \nC 235.507035 157.692744 236.234916 151.216576 236.234916 144.720004 \nL 149.258916 144.72 \nL 227.663149 182.371041 \nz\n\" style=\"fill:#17becf;\"/>\n   </g>\n   <g id=\"matplotlib.axis_1\"/>\n   <g id=\"matplotlib.axis_2\">\n    <g id=\"text_1\">\n     <!-- place -->\n     <g transform=\"translate(34.459229 158.173125)rotate(-90)scale(0.1 -0.1)\">\n      <defs>\n       <path d=\"M 18.109375 8.203125 \nL 18.109375 -20.796875 \nL 9.078125 -20.796875 \nL 9.078125 54.6875 \nL 18.109375 54.6875 \nL 18.109375 46.390625 \nQ 20.953125 51.265625 25.265625 53.625 \nQ 29.59375 56 35.59375 56 \nQ 45.5625 56 51.78125 48.09375 \nQ 58.015625 40.1875 58.015625 27.296875 \nQ 58.015625 14.40625 51.78125 6.484375 \nQ 45.5625 -1.421875 35.59375 -1.421875 \nQ 29.59375 -1.421875 25.265625 0.953125 \nQ 20.953125 3.328125 18.109375 8.203125 \nz\nM 48.6875 27.296875 \nQ 48.6875 37.203125 44.609375 42.84375 \nQ 40.53125 48.484375 33.40625 48.484375 \nQ 26.265625 48.484375 22.1875 42.84375 \nQ 18.109375 37.203125 18.109375 27.296875 \nQ 18.109375 17.390625 22.1875 11.75 \nQ 26.265625 6.109375 33.40625 6.109375 \nQ 40.53125 6.109375 44.609375 11.75 \nQ 48.6875 17.390625 48.6875 27.296875 \nz\n\" id=\"DejaVuSans-112\"/>\n       <path d=\"M 9.421875 75.984375 \nL 18.40625 75.984375 \nL 18.40625 0 \nL 9.421875 0 \nz\n\" id=\"DejaVuSans-108\"/>\n       <path d=\"M 34.28125 27.484375 \nQ 23.390625 27.484375 19.1875 25 \nQ 14.984375 22.515625 14.984375 16.5 \nQ 14.984375 11.71875 18.140625 8.90625 \nQ 21.296875 6.109375 26.703125 6.109375 \nQ 34.1875 6.109375 38.703125 11.40625 \nQ 43.21875 16.703125 43.21875 25.484375 \nL 43.21875 27.484375 \nz\nM 52.203125 31.203125 \nL 52.203125 0 \nL 43.21875 0 \nL 43.21875 8.296875 \nQ 40.140625 3.328125 35.546875 0.953125 \nQ 30.953125 -1.421875 24.3125 -1.421875 \nQ 15.921875 -1.421875 10.953125 3.296875 \nQ 6 8.015625 6 15.921875 \nQ 6 25.140625 12.171875 29.828125 \nQ 18.359375 34.515625 30.609375 34.515625 \nL 43.21875 34.515625 \nL 43.21875 35.40625 \nQ 43.21875 41.609375 39.140625 45 \nQ 35.0625 48.390625 27.6875 48.390625 \nQ 23 48.390625 18.546875 47.265625 \nQ 14.109375 46.140625 10.015625 43.890625 \nL 10.015625 52.203125 \nQ 14.9375 54.109375 19.578125 55.046875 \nQ 24.21875 56 28.609375 56 \nQ 40.484375 56 46.34375 49.84375 \nQ 52.203125 43.703125 52.203125 31.203125 \nz\n\" id=\"DejaVuSans-97\"/>\n       <path d=\"M 48.78125 52.59375 \nL 48.78125 44.1875 \nQ 44.96875 46.296875 41.140625 47.34375 \nQ 37.3125 48.390625 33.40625 48.390625 \nQ 24.65625 48.390625 19.8125 42.84375 \nQ 14.984375 37.3125 14.984375 27.296875 \nQ 14.984375 17.28125 19.8125 11.734375 \nQ 24.65625 6.203125 33.40625 6.203125 \nQ 37.3125 6.203125 41.140625 7.25 \nQ 44.96875 8.296875 48.78125 10.40625 \nL 48.78125 2.09375 \nQ 45.015625 0.34375 40.984375 -0.53125 \nQ 36.96875 -1.421875 32.421875 -1.421875 \nQ 20.0625 -1.421875 12.78125 6.34375 \nQ 5.515625 14.109375 5.515625 27.296875 \nQ 5.515625 40.671875 12.859375 48.328125 \nQ 20.21875 56 33.015625 56 \nQ 37.15625 56 41.109375 55.140625 \nQ 45.0625 54.296875 48.78125 52.59375 \nz\n\" id=\"DejaVuSans-99\"/>\n       <path d=\"M 56.203125 29.59375 \nL 56.203125 25.203125 \nL 14.890625 25.203125 \nQ 15.484375 15.921875 20.484375 11.0625 \nQ 25.484375 6.203125 34.421875 6.203125 \nQ 39.59375 6.203125 44.453125 7.46875 \nQ 49.3125 8.734375 54.109375 11.28125 \nL 54.109375 2.78125 \nQ 49.265625 0.734375 44.1875 -0.34375 \nQ 39.109375 -1.421875 33.890625 -1.421875 \nQ 20.796875 -1.421875 13.15625 6.1875 \nQ 5.515625 13.8125 5.515625 26.8125 \nQ 5.515625 40.234375 12.765625 48.109375 \nQ 20.015625 56 32.328125 56 \nQ 43.359375 56 49.78125 48.890625 \nQ 56.203125 41.796875 56.203125 29.59375 \nz\nM 47.21875 32.234375 \nQ 47.125 39.59375 43.09375 43.984375 \nQ 39.0625 48.390625 32.421875 48.390625 \nQ 24.90625 48.390625 20.390625 44.140625 \nQ 15.875 39.890625 15.1875 32.171875 \nz\n\" id=\"DejaVuSans-101\"/>\n      </defs>\n      <use xlink:href=\"#DejaVuSans-112\"/>\n      <use x=\"63.476562\" xlink:href=\"#DejaVuSans-108\"/>\n      <use x=\"91.259766\" xlink:href=\"#DejaVuSans-97\"/>\n      <use x=\"152.539062\" xlink:href=\"#DejaVuSans-99\"/>\n      <use x=\"207.519531\" xlink:href=\"#DejaVuSans-101\"/>\n     </g>\n    </g>\n   </g>\n   <g id=\"text_2\">\n    <!-- United States -->\n    <g transform=\"translate(237.037388 109.421818)scale(0.1 -0.1)\">\n     <defs>\n      <path d=\"M 8.6875 72.90625 \nL 18.609375 72.90625 \nL 18.609375 28.609375 \nQ 18.609375 16.890625 22.84375 11.734375 \nQ 27.09375 6.59375 36.625 6.59375 \nQ 46.09375 6.59375 50.34375 11.734375 \nQ 54.59375 16.890625 54.59375 28.609375 \nL 54.59375 72.90625 \nL 64.5 72.90625 \nL 64.5 27.390625 \nQ 64.5 13.140625 57.4375 5.859375 \nQ 50.390625 -1.421875 36.625 -1.421875 \nQ 22.796875 -1.421875 15.734375 5.859375 \nQ 8.6875 13.140625 8.6875 27.390625 \nz\n\" id=\"DejaVuSans-85\"/>\n      <path d=\"M 54.890625 33.015625 \nL 54.890625 0 \nL 45.90625 0 \nL 45.90625 32.71875 \nQ 45.90625 40.484375 42.875 44.328125 \nQ 39.84375 48.1875 33.796875 48.1875 \nQ 26.515625 48.1875 22.3125 43.546875 \nQ 18.109375 38.921875 18.109375 30.90625 \nL 18.109375 0 \nL 9.078125 0 \nL 9.078125 54.6875 \nL 18.109375 54.6875 \nL 18.109375 46.1875 \nQ 21.34375 51.125 25.703125 53.5625 \nQ 30.078125 56 35.796875 56 \nQ 45.21875 56 50.046875 50.171875 \nQ 54.890625 44.34375 54.890625 33.015625 \nz\n\" id=\"DejaVuSans-110\"/>\n      <path d=\"M 9.421875 54.6875 \nL 18.40625 54.6875 \nL 18.40625 0 \nL 9.421875 0 \nz\nM 9.421875 75.984375 \nL 18.40625 75.984375 \nL 18.40625 64.59375 \nL 9.421875 64.59375 \nz\n\" id=\"DejaVuSans-105\"/>\n      <path d=\"M 18.3125 70.21875 \nL 18.3125 54.6875 \nL 36.8125 54.6875 \nL 36.8125 47.703125 \nL 18.3125 47.703125 \nL 18.3125 18.015625 \nQ 18.3125 11.328125 20.140625 9.421875 \nQ 21.96875 7.515625 27.59375 7.515625 \nL 36.8125 7.515625 \nL 36.8125 0 \nL 27.59375 0 \nQ 17.1875 0 13.234375 3.875 \nQ 9.28125 7.765625 9.28125 18.015625 \nL 9.28125 47.703125 \nL 2.6875 47.703125 \nL 2.6875 54.6875 \nL 9.28125 54.6875 \nL 9.28125 70.21875 \nz\n\" id=\"DejaVuSans-116\"/>\n      <path d=\"M 45.40625 46.390625 \nL 45.40625 75.984375 \nL 54.390625 75.984375 \nL 54.390625 0 \nL 45.40625 0 \nL 45.40625 8.203125 \nQ 42.578125 3.328125 38.25 0.953125 \nQ 33.9375 -1.421875 27.875 -1.421875 \nQ 17.96875 -1.421875 11.734375 6.484375 \nQ 5.515625 14.40625 5.515625 27.296875 \nQ 5.515625 40.1875 11.734375 48.09375 \nQ 17.96875 56 27.875 56 \nQ 33.9375 56 38.25 53.625 \nQ 42.578125 51.265625 45.40625 46.390625 \nz\nM 14.796875 27.296875 \nQ 14.796875 17.390625 18.875 11.75 \nQ 22.953125 6.109375 30.078125 6.109375 \nQ 37.203125 6.109375 41.296875 11.75 \nQ 45.40625 17.390625 45.40625 27.296875 \nQ 45.40625 37.203125 41.296875 42.84375 \nQ 37.203125 48.484375 30.078125 48.484375 \nQ 22.953125 48.484375 18.875 42.84375 \nQ 14.796875 37.203125 14.796875 27.296875 \nz\n\" id=\"DejaVuSans-100\"/>\n      <path id=\"DejaVuSans-32\"/>\n      <path d=\"M 53.515625 70.515625 \nL 53.515625 60.890625 \nQ 47.90625 63.578125 42.921875 64.890625 \nQ 37.9375 66.21875 33.296875 66.21875 \nQ 25.25 66.21875 20.875 63.09375 \nQ 16.5 59.96875 16.5 54.203125 \nQ 16.5 49.359375 19.40625 46.890625 \nQ 22.3125 44.4375 30.421875 42.921875 \nL 36.375 41.703125 \nQ 47.40625 39.59375 52.65625 34.296875 \nQ 57.90625 29 57.90625 20.125 \nQ 57.90625 9.515625 50.796875 4.046875 \nQ 43.703125 -1.421875 29.984375 -1.421875 \nQ 24.8125 -1.421875 18.96875 -0.25 \nQ 13.140625 0.921875 6.890625 3.21875 \nL 6.890625 13.375 \nQ 12.890625 10.015625 18.65625 8.296875 \nQ 24.421875 6.59375 29.984375 6.59375 \nQ 38.421875 6.59375 43.015625 9.90625 \nQ 47.609375 13.234375 47.609375 19.390625 \nQ 47.609375 24.75 44.3125 27.78125 \nQ 41.015625 30.8125 33.5 32.328125 \nL 27.484375 33.5 \nQ 16.453125 35.6875 11.515625 40.375 \nQ 6.59375 45.0625 6.59375 53.421875 \nQ 6.59375 63.09375 13.40625 68.65625 \nQ 20.21875 74.21875 32.171875 74.21875 \nQ 37.3125 74.21875 42.625 73.28125 \nQ 47.953125 72.359375 53.515625 70.515625 \nz\n\" id=\"DejaVuSans-83\"/>\n      <path d=\"M 44.28125 53.078125 \nL 44.28125 44.578125 \nQ 40.484375 46.53125 36.375 47.5 \nQ 32.28125 48.484375 27.875 48.484375 \nQ 21.1875 48.484375 17.84375 46.4375 \nQ 14.5 44.390625 14.5 40.28125 \nQ 14.5 37.15625 16.890625 35.375 \nQ 19.28125 33.59375 26.515625 31.984375 \nL 29.59375 31.296875 \nQ 39.15625 29.25 43.1875 25.515625 \nQ 47.21875 21.78125 47.21875 15.09375 \nQ 47.21875 7.46875 41.1875 3.015625 \nQ 35.15625 -1.421875 24.609375 -1.421875 \nQ 20.21875 -1.421875 15.453125 -0.5625 \nQ 10.6875 0.296875 5.421875 2 \nL 5.421875 11.28125 \nQ 10.40625 8.6875 15.234375 7.390625 \nQ 20.0625 6.109375 24.8125 6.109375 \nQ 31.15625 6.109375 34.5625 8.28125 \nQ 37.984375 10.453125 37.984375 14.40625 \nQ 37.984375 18.0625 35.515625 20.015625 \nQ 33.0625 21.96875 24.703125 23.78125 \nL 21.578125 24.515625 \nQ 13.234375 26.265625 9.515625 29.90625 \nQ 5.8125 33.546875 5.8125 39.890625 \nQ 5.8125 47.609375 11.28125 51.796875 \nQ 16.75 56 26.8125 56 \nQ 31.78125 56 36.171875 55.265625 \nQ 40.578125 54.546875 44.28125 53.078125 \nz\n\" id=\"DejaVuSans-115\"/>\n     </defs>\n     <use xlink:href=\"#DejaVuSans-85\"/>\n     <use x=\"73.193359\" xlink:href=\"#DejaVuSans-110\"/>\n     <use x=\"136.572266\" xlink:href=\"#DejaVuSans-105\"/>\n     <use x=\"164.355469\" xlink:href=\"#DejaVuSans-116\"/>\n     <use x=\"203.564453\" xlink:href=\"#DejaVuSans-101\"/>\n     <use x=\"265.087891\" xlink:href=\"#DejaVuSans-100\"/>\n     <use x=\"328.564453\" xlink:href=\"#DejaVuSans-32\"/>\n     <use x=\"360.351562\" xlink:href=\"#DejaVuSans-83\"/>\n     <use x=\"423.828125\" xlink:href=\"#DejaVuSans-116\"/>\n     <use x=\"463.037109\" xlink:href=\"#DejaVuSans-97\"/>\n     <use x=\"524.316406\" xlink:href=\"#DejaVuSans-116\"/>\n     <use x=\"563.525391\" xlink:href=\"#DejaVuSans-101\"/>\n     <use x=\"625.048828\" xlink:href=\"#DejaVuSans-115\"/>\n    </g>\n   </g>\n   <g id=\"text_3\">\n    <!-- South Africa -->\n    <g transform=\"translate(181.479518 57.394579)scale(0.1 -0.1)\">\n     <defs>\n      <path d=\"M 30.609375 48.390625 \nQ 23.390625 48.390625 19.1875 42.75 \nQ 14.984375 37.109375 14.984375 27.296875 \nQ 14.984375 17.484375 19.15625 11.84375 \nQ 23.34375 6.203125 30.609375 6.203125 \nQ 37.796875 6.203125 41.984375 11.859375 \nQ 46.1875 17.53125 46.1875 27.296875 \nQ 46.1875 37.015625 41.984375 42.703125 \nQ 37.796875 48.390625 30.609375 48.390625 \nz\nM 30.609375 56 \nQ 42.328125 56 49.015625 48.375 \nQ 55.71875 40.765625 55.71875 27.296875 \nQ 55.71875 13.875 49.015625 6.21875 \nQ 42.328125 -1.421875 30.609375 -1.421875 \nQ 18.84375 -1.421875 12.171875 6.21875 \nQ 5.515625 13.875 5.515625 27.296875 \nQ 5.515625 40.765625 12.171875 48.375 \nQ 18.84375 56 30.609375 56 \nz\n\" id=\"DejaVuSans-111\"/>\n      <path d=\"M 8.5 21.578125 \nL 8.5 54.6875 \nL 17.484375 54.6875 \nL 17.484375 21.921875 \nQ 17.484375 14.15625 20.5 10.265625 \nQ 23.53125 6.390625 29.59375 6.390625 \nQ 36.859375 6.390625 41.078125 11.03125 \nQ 45.3125 15.671875 45.3125 23.6875 \nL 45.3125 54.6875 \nL 54.296875 54.6875 \nL 54.296875 0 \nL 45.3125 0 \nL 45.3125 8.40625 \nQ 42.046875 3.421875 37.71875 1 \nQ 33.40625 -1.421875 27.6875 -1.421875 \nQ 18.265625 -1.421875 13.375 4.4375 \nQ 8.5 10.296875 8.5 21.578125 \nz\nM 31.109375 56 \nz\n\" id=\"DejaVuSans-117\"/>\n      <path d=\"M 54.890625 33.015625 \nL 54.890625 0 \nL 45.90625 0 \nL 45.90625 32.71875 \nQ 45.90625 40.484375 42.875 44.328125 \nQ 39.84375 48.1875 33.796875 48.1875 \nQ 26.515625 48.1875 22.3125 43.546875 \nQ 18.109375 38.921875 18.109375 30.90625 \nL 18.109375 0 \nL 9.078125 0 \nL 9.078125 75.984375 \nL 18.109375 75.984375 \nL 18.109375 46.1875 \nQ 21.34375 51.125 25.703125 53.5625 \nQ 30.078125 56 35.796875 56 \nQ 45.21875 56 50.046875 50.171875 \nQ 54.890625 44.34375 54.890625 33.015625 \nz\n\" id=\"DejaVuSans-104\"/>\n      <path d=\"M 34.1875 63.1875 \nL 20.796875 26.90625 \nL 47.609375 26.90625 \nz\nM 28.609375 72.90625 \nL 39.796875 72.90625 \nL 67.578125 0 \nL 57.328125 0 \nL 50.6875 18.703125 \nL 17.828125 18.703125 \nL 11.1875 0 \nL 0.78125 0 \nz\n\" id=\"DejaVuSans-65\"/>\n      <path d=\"M 37.109375 75.984375 \nL 37.109375 68.5 \nL 28.515625 68.5 \nQ 23.6875 68.5 21.796875 66.546875 \nQ 19.921875 64.59375 19.921875 59.515625 \nL 19.921875 54.6875 \nL 34.71875 54.6875 \nL 34.71875 47.703125 \nL 19.921875 47.703125 \nL 19.921875 0 \nL 10.890625 0 \nL 10.890625 47.703125 \nL 2.296875 47.703125 \nL 2.296875 54.6875 \nL 10.890625 54.6875 \nL 10.890625 58.5 \nQ 10.890625 67.625 15.140625 71.796875 \nQ 19.390625 75.984375 28.609375 75.984375 \nz\n\" id=\"DejaVuSans-102\"/>\n      <path d=\"M 41.109375 46.296875 \nQ 39.59375 47.171875 37.8125 47.578125 \nQ 36.03125 48 33.890625 48 \nQ 26.265625 48 22.1875 43.046875 \nQ 18.109375 38.09375 18.109375 28.8125 \nL 18.109375 0 \nL 9.078125 0 \nL 9.078125 54.6875 \nL 18.109375 54.6875 \nL 18.109375 46.1875 \nQ 20.953125 51.171875 25.484375 53.578125 \nQ 30.03125 56 36.53125 56 \nQ 37.453125 56 38.578125 55.875 \nQ 39.703125 55.765625 41.0625 55.515625 \nz\n\" id=\"DejaVuSans-114\"/>\n     </defs>\n     <use xlink:href=\"#DejaVuSans-83\"/>\n     <use x=\"63.476562\" xlink:href=\"#DejaVuSans-111\"/>\n     <use x=\"124.658203\" xlink:href=\"#DejaVuSans-117\"/>\n     <use x=\"188.037109\" xlink:href=\"#DejaVuSans-116\"/>\n     <use x=\"227.246094\" xlink:href=\"#DejaVuSans-104\"/>\n     <use x=\"290.625\" xlink:href=\"#DejaVuSans-32\"/>\n     <use x=\"322.412109\" xlink:href=\"#DejaVuSans-65\"/>\n     <use x=\"387.195312\" xlink:href=\"#DejaVuSans-102\"/>\n     <use x=\"422.400391\" xlink:href=\"#DejaVuSans-114\"/>\n     <use x=\"463.513672\" xlink:href=\"#DejaVuSans-105\"/>\n     <use x=\"491.296875\" xlink:href=\"#DejaVuSans-99\"/>\n     <use x=\"546.277344\" xlink:href=\"#DejaVuSans-97\"/>\n    </g>\n   </g>\n   <g id=\"text_4\">\n    <!-- Malaysia -->\n    <g transform=\"translate(67.165993 59.848437)scale(0.1 -0.1)\">\n     <defs>\n      <path d=\"M 9.8125 72.90625 \nL 24.515625 72.90625 \nL 43.109375 23.296875 \nL 61.8125 72.90625 \nL 76.515625 72.90625 \nL 76.515625 0 \nL 66.890625 0 \nL 66.890625 64.015625 \nL 48.09375 14.015625 \nL 38.1875 14.015625 \nL 19.390625 64.015625 \nL 19.390625 0 \nL 9.8125 0 \nz\n\" id=\"DejaVuSans-77\"/>\n      <path d=\"M 32.171875 -5.078125 \nQ 28.375 -14.84375 24.75 -17.8125 \nQ 21.140625 -20.796875 15.09375 -20.796875 \nL 7.90625 -20.796875 \nL 7.90625 -13.28125 \nL 13.1875 -13.28125 \nQ 16.890625 -13.28125 18.9375 -11.515625 \nQ 21 -9.765625 23.484375 -3.21875 \nL 25.09375 0.875 \nL 2.984375 54.6875 \nL 12.5 54.6875 \nL 29.59375 11.921875 \nL 46.6875 54.6875 \nL 56.203125 54.6875 \nz\n\" id=\"DejaVuSans-121\"/>\n     </defs>\n     <use xlink:href=\"#DejaVuSans-77\"/>\n     <use x=\"86.279297\" xlink:href=\"#DejaVuSans-97\"/>\n     <use x=\"147.558594\" xlink:href=\"#DejaVuSans-108\"/>\n     <use x=\"175.341797\" xlink:href=\"#DejaVuSans-97\"/>\n     <use x=\"236.621094\" xlink:href=\"#DejaVuSans-121\"/>\n     <use x=\"295.800781\" xlink:href=\"#DejaVuSans-115\"/>\n     <use x=\"347.900391\" xlink:href=\"#DejaVuSans-105\"/>\n     <use x=\"375.683594\" xlink:href=\"#DejaVuSans-97\"/>\n    </g>\n   </g>\n   <g id=\"text_5\">\n    <!-- കേരളം -->\n    <g transform=\"translate(33.656073 104.736791)scale(0.1 -0.1)\">\n     <defs>\n      <path d=\"M 4.984375 -17.671875 \nL 4.984375 70.515625 \nL 54.984375 70.515625 \nL 54.984375 -17.671875 \nz\nM 10.59375 -12.109375 \nL 49.421875 -12.109375 \nL 49.421875 64.890625 \nL 10.59375 64.890625 \nz\n\" id=\"DejaVuSans-3349\"/>\n      <path d=\"M 4.984375 -17.671875 \nL 4.984375 70.515625 \nL 54.984375 70.515625 \nL 54.984375 -17.671875 \nz\nM 10.59375 -12.109375 \nL 49.421875 -12.109375 \nL 49.421875 64.890625 \nL 10.59375 64.890625 \nz\n\" id=\"DejaVuSans-3399\"/>\n      <path d=\"M 4.984375 -17.671875 \nL 4.984375 70.515625 \nL 54.984375 70.515625 \nL 54.984375 -17.671875 \nz\nM 10.59375 -12.109375 \nL 49.421875 -12.109375 \nL 49.421875 64.890625 \nL 10.59375 64.890625 \nz\n\" id=\"DejaVuSans-3376\"/>\n      <path d=\"M 4.984375 -17.671875 \nL 4.984375 70.515625 \nL 54.984375 70.515625 \nL 54.984375 -17.671875 \nz\nM 10.59375 -12.109375 \nL 49.421875 -12.109375 \nL 49.421875 64.890625 \nL 10.59375 64.890625 \nz\n\" id=\"DejaVuSans-3379\"/>\n      <path d=\"M 4.984375 -17.671875 \nL 4.984375 70.515625 \nL 54.984375 70.515625 \nL 54.984375 -17.671875 \nz\nM 10.59375 -12.109375 \nL 49.421875 -12.109375 \nL 49.421875 64.890625 \nL 10.59375 64.890625 \nz\n\" id=\"DejaVuSans-3330\"/>\n     </defs>\n     <use xlink:href=\"#DejaVuSans-3349\"/>\n     <use x=\"60.009766\" xlink:href=\"#DejaVuSans-3399\"/>\n     <use x=\"120.019531\" xlink:href=\"#DejaVuSans-3376\"/>\n     <use x=\"180.029297\" xlink:href=\"#DejaVuSans-3379\"/>\n     <use x=\"240.039062\" xlink:href=\"#DejaVuSans-3330\"/>\n    </g>\n   </g>\n   <g id=\"text_6\">\n    <!-- Canada -->\n    <g transform=\"translate(17.919204 168.717323)scale(0.1 -0.1)\">\n     <defs>\n      <path d=\"M 64.40625 67.28125 \nL 64.40625 56.890625 \nQ 59.421875 61.53125 53.78125 63.8125 \nQ 48.140625 66.109375 41.796875 66.109375 \nQ 29.296875 66.109375 22.65625 58.46875 \nQ 16.015625 50.828125 16.015625 36.375 \nQ 16.015625 21.96875 22.65625 14.328125 \nQ 29.296875 6.6875 41.796875 6.6875 \nQ 48.140625 6.6875 53.78125 8.984375 \nQ 59.421875 11.28125 64.40625 15.921875 \nL 64.40625 5.609375 \nQ 59.234375 2.09375 53.4375 0.328125 \nQ 47.65625 -1.421875 41.21875 -1.421875 \nQ 24.65625 -1.421875 15.125 8.703125 \nQ 5.609375 18.84375 5.609375 36.375 \nQ 5.609375 53.953125 15.125 64.078125 \nQ 24.65625 74.21875 41.21875 74.21875 \nQ 47.75 74.21875 53.53125 72.484375 \nQ 59.328125 70.75 64.40625 67.28125 \nz\n\" id=\"DejaVuSans-67\"/>\n     </defs>\n     <use xlink:href=\"#DejaVuSans-67\"/>\n     <use x=\"69.824219\" xlink:href=\"#DejaVuSans-97\"/>\n     <use x=\"131.103516\" xlink:href=\"#DejaVuSans-110\"/>\n     <use x=\"194.482422\" xlink:href=\"#DejaVuSans-97\"/>\n     <use x=\"255.761719\" xlink:href=\"#DejaVuSans-100\"/>\n     <use x=\"319.238281\" xlink:href=\"#DejaVuSans-97\"/>\n    </g>\n   </g>\n   <g id=\"text_7\">\n    <!-- Toronto, Ontario -->\n    <g transform=\"translate(7.2 220.743225)scale(0.1 -0.1)\">\n     <defs>\n      <path d=\"M -0.296875 72.90625 \nL 61.375 72.90625 \nL 61.375 64.59375 \nL 35.5 64.59375 \nL 35.5 0 \nL 25.59375 0 \nL 25.59375 64.59375 \nL -0.296875 64.59375 \nz\n\" id=\"DejaVuSans-84\"/>\n      <path d=\"M 11.71875 12.40625 \nL 22.015625 12.40625 \nL 22.015625 4 \nL 14.015625 -11.625 \nL 7.71875 -11.625 \nL 11.71875 4 \nz\n\" id=\"DejaVuSans-44\"/>\n      <path d=\"M 39.40625 66.21875 \nQ 28.65625 66.21875 22.328125 58.203125 \nQ 16.015625 50.203125 16.015625 36.375 \nQ 16.015625 22.609375 22.328125 14.59375 \nQ 28.65625 6.59375 39.40625 6.59375 \nQ 50.140625 6.59375 56.421875 14.59375 \nQ 62.703125 22.609375 62.703125 36.375 \nQ 62.703125 50.203125 56.421875 58.203125 \nQ 50.140625 66.21875 39.40625 66.21875 \nz\nM 39.40625 74.21875 \nQ 54.734375 74.21875 63.90625 63.9375 \nQ 73.09375 53.65625 73.09375 36.375 \nQ 73.09375 19.140625 63.90625 8.859375 \nQ 54.734375 -1.421875 39.40625 -1.421875 \nQ 24.03125 -1.421875 14.8125 8.828125 \nQ 5.609375 19.09375 5.609375 36.375 \nQ 5.609375 53.65625 14.8125 63.9375 \nQ 24.03125 74.21875 39.40625 74.21875 \nz\n\" id=\"DejaVuSans-79\"/>\n     </defs>\n     <use xlink:href=\"#DejaVuSans-84\"/>\n     <use x=\"44.083984\" xlink:href=\"#DejaVuSans-111\"/>\n     <use x=\"105.265625\" xlink:href=\"#DejaVuSans-114\"/>\n     <use x=\"144.128906\" xlink:href=\"#DejaVuSans-111\"/>\n     <use x=\"205.310547\" xlink:href=\"#DejaVuSans-110\"/>\n     <use x=\"268.689453\" xlink:href=\"#DejaVuSans-116\"/>\n     <use x=\"307.898438\" xlink:href=\"#DejaVuSans-111\"/>\n     <use x=\"369.080078\" xlink:href=\"#DejaVuSans-44\"/>\n     <use x=\"400.867188\" xlink:href=\"#DejaVuSans-32\"/>\n     <use x=\"432.654297\" xlink:href=\"#DejaVuSans-79\"/>\n     <use x=\"511.365234\" xlink:href=\"#DejaVuSans-110\"/>\n     <use x=\"574.744141\" xlink:href=\"#DejaVuSans-116\"/>\n     <use x=\"613.953125\" xlink:href=\"#DejaVuSans-97\"/>\n     <use x=\"675.232422\" xlink:href=\"#DejaVuSans-114\"/>\n     <use x=\"716.345703\" xlink:href=\"#DejaVuSans-105\"/>\n     <use x=\"744.128906\" xlink:href=\"#DejaVuSans-111\"/>\n    </g>\n   </g>\n   <g id=\"text_8\">\n    <!-- India -->\n    <g transform=\"translate(114.030891 242.554349)scale(0.1 -0.1)\">\n     <defs>\n      <path d=\"M 9.8125 72.90625 \nL 19.671875 72.90625 \nL 19.671875 0 \nL 9.8125 0 \nz\n\" id=\"DejaVuSans-73\"/>\n     </defs>\n     <use xlink:href=\"#DejaVuSans-73\"/>\n     <use x=\"29.492188\" xlink:href=\"#DejaVuSans-110\"/>\n     <use x=\"92.871094\" xlink:href=\"#DejaVuSans-100\"/>\n     <use x=\"156.347656\" xlink:href=\"#DejaVuSans-105\"/>\n     <use x=\"184.130859\" xlink:href=\"#DejaVuSans-97\"/>\n    </g>\n   </g>\n   <g id=\"text_9\">\n    <!-- London -->\n    <g transform=\"translate(186.977411 235.404075)scale(0.1 -0.1)\">\n     <defs>\n      <path d=\"M 9.8125 72.90625 \nL 19.671875 72.90625 \nL 19.671875 8.296875 \nL 55.171875 8.296875 \nL 55.171875 0 \nL 9.8125 0 \nz\n\" id=\"DejaVuSans-76\"/>\n     </defs>\n     <use xlink:href=\"#DejaVuSans-76\"/>\n     <use x=\"53.962891\" xlink:href=\"#DejaVuSans-111\"/>\n     <use x=\"115.144531\" xlink:href=\"#DejaVuSans-110\"/>\n     <use x=\"178.523438\" xlink:href=\"#DejaVuSans-100\"/>\n     <use x=\"242\" xlink:href=\"#DejaVuSans-111\"/>\n     <use x=\"303.181641\" xlink:href=\"#DejaVuSans-110\"/>\n    </g>\n   </g>\n   <g id=\"text_10\">\n    <!-- London, England -->\n    <g transform=\"translate(223.230245 208.156225)scale(0.1 -0.1)\">\n     <defs>\n      <path d=\"M 9.8125 72.90625 \nL 55.90625 72.90625 \nL 55.90625 64.59375 \nL 19.671875 64.59375 \nL 19.671875 43.015625 \nL 54.390625 43.015625 \nL 54.390625 34.71875 \nL 19.671875 34.71875 \nL 19.671875 8.296875 \nL 56.78125 8.296875 \nL 56.78125 0 \nL 9.8125 0 \nz\n\" id=\"DejaVuSans-69\"/>\n      <path d=\"M 45.40625 27.984375 \nQ 45.40625 37.75 41.375 43.109375 \nQ 37.359375 48.484375 30.078125 48.484375 \nQ 22.859375 48.484375 18.828125 43.109375 \nQ 14.796875 37.75 14.796875 27.984375 \nQ 14.796875 18.265625 18.828125 12.890625 \nQ 22.859375 7.515625 30.078125 7.515625 \nQ 37.359375 7.515625 41.375 12.890625 \nQ 45.40625 18.265625 45.40625 27.984375 \nz\nM 54.390625 6.78125 \nQ 54.390625 -7.171875 48.1875 -13.984375 \nQ 42 -20.796875 29.203125 -20.796875 \nQ 24.46875 -20.796875 20.265625 -20.09375 \nQ 16.0625 -19.390625 12.109375 -17.921875 \nL 12.109375 -9.1875 \nQ 16.0625 -11.328125 19.921875 -12.34375 \nQ 23.78125 -13.375 27.78125 -13.375 \nQ 36.625 -13.375 41.015625 -8.765625 \nQ 45.40625 -4.15625 45.40625 5.171875 \nL 45.40625 9.625 \nQ 42.625 4.78125 38.28125 2.390625 \nQ 33.9375 0 27.875 0 \nQ 17.828125 0 11.671875 7.65625 \nQ 5.515625 15.328125 5.515625 27.984375 \nQ 5.515625 40.671875 11.671875 48.328125 \nQ 17.828125 56 27.875 56 \nQ 33.9375 56 38.28125 53.609375 \nQ 42.625 51.21875 45.40625 46.390625 \nL 45.40625 54.6875 \nL 54.390625 54.6875 \nz\n\" id=\"DejaVuSans-103\"/>\n     </defs>\n     <use xlink:href=\"#DejaVuSans-76\"/>\n     <use x=\"53.962891\" xlink:href=\"#DejaVuSans-111\"/>\n     <use x=\"115.144531\" xlink:href=\"#DejaVuSans-110\"/>\n     <use x=\"178.523438\" xlink:href=\"#DejaVuSans-100\"/>\n     <use x=\"242\" xlink:href=\"#DejaVuSans-111\"/>\n     <use x=\"303.181641\" xlink:href=\"#DejaVuSans-110\"/>\n     <use x=\"366.560547\" xlink:href=\"#DejaVuSans-44\"/>\n     <use x=\"398.347656\" xlink:href=\"#DejaVuSans-32\"/>\n     <use x=\"430.134766\" xlink:href=\"#DejaVuSans-69\"/>\n     <use x=\"493.318359\" xlink:href=\"#DejaVuSans-110\"/>\n     <use x=\"556.697266\" xlink:href=\"#DejaVuSans-103\"/>\n     <use x=\"620.173828\" xlink:href=\"#DejaVuSans-108\"/>\n     <use x=\"647.957031\" xlink:href=\"#DejaVuSans-97\"/>\n     <use x=\"709.236328\" xlink:href=\"#DejaVuSans-110\"/>\n     <use x=\"772.615234\" xlink:href=\"#DejaVuSans-100\"/>\n    </g>\n   </g>\n   <g id=\"text_11\">\n    <!-- USA -->\n    <g transform=\"translate(242.545502 168.717327)scale(0.1 -0.1)\">\n     <use xlink:href=\"#DejaVuSans-85\"/>\n     <use x=\"73.193359\" xlink:href=\"#DejaVuSans-83\"/>\n     <use x=\"138.544922\" xlink:href=\"#DejaVuSans-65\"/>\n    </g>\n   </g>\n  </g>\n  <g id=\"text_12\">\n   <!-- Top 10 locations of users -->\n   <g transform=\"translate(69.543291 16.318125)scale(0.12 -0.12)\">\n    <defs>\n     <path d=\"M 12.40625 8.296875 \nL 28.515625 8.296875 \nL 28.515625 63.921875 \nL 10.984375 60.40625 \nL 10.984375 69.390625 \nL 28.421875 72.90625 \nL 38.28125 72.90625 \nL 38.28125 8.296875 \nL 54.390625 8.296875 \nL 54.390625 0 \nL 12.40625 0 \nz\n\" id=\"DejaVuSans-49\"/>\n     <path d=\"M 31.78125 66.40625 \nQ 24.171875 66.40625 20.328125 58.90625 \nQ 16.5 51.421875 16.5 36.375 \nQ 16.5 21.390625 20.328125 13.890625 \nQ 24.171875 6.390625 31.78125 6.390625 \nQ 39.453125 6.390625 43.28125 13.890625 \nQ 47.125 21.390625 47.125 36.375 \nQ 47.125 51.421875 43.28125 58.90625 \nQ 39.453125 66.40625 31.78125 66.40625 \nz\nM 31.78125 74.21875 \nQ 44.046875 74.21875 50.515625 64.515625 \nQ 56.984375 54.828125 56.984375 36.375 \nQ 56.984375 17.96875 50.515625 8.265625 \nQ 44.046875 -1.421875 31.78125 -1.421875 \nQ 19.53125 -1.421875 13.0625 8.265625 \nQ 6.59375 17.96875 6.59375 36.375 \nQ 6.59375 54.828125 13.0625 64.515625 \nQ 19.53125 74.21875 31.78125 74.21875 \nz\n\" id=\"DejaVuSans-48\"/>\n    </defs>\n    <use xlink:href=\"#DejaVuSans-84\"/>\n    <use x=\"44.083984\" xlink:href=\"#DejaVuSans-111\"/>\n    <use x=\"105.265625\" xlink:href=\"#DejaVuSans-112\"/>\n    <use x=\"168.742188\" xlink:href=\"#DejaVuSans-32\"/>\n    <use x=\"200.529297\" xlink:href=\"#DejaVuSans-49\"/>\n    <use x=\"264.152344\" xlink:href=\"#DejaVuSans-48\"/>\n    <use x=\"327.775391\" xlink:href=\"#DejaVuSans-32\"/>\n    <use x=\"359.5625\" xlink:href=\"#DejaVuSans-108\"/>\n    <use x=\"387.345703\" xlink:href=\"#DejaVuSans-111\"/>\n    <use x=\"448.527344\" xlink:href=\"#DejaVuSans-99\"/>\n    <use x=\"503.507812\" xlink:href=\"#DejaVuSans-97\"/>\n    <use x=\"564.787109\" xlink:href=\"#DejaVuSans-116\"/>\n    <use x=\"603.996094\" xlink:href=\"#DejaVuSans-105\"/>\n    <use x=\"631.779297\" xlink:href=\"#DejaVuSans-111\"/>\n    <use x=\"692.960938\" xlink:href=\"#DejaVuSans-110\"/>\n    <use x=\"756.339844\" xlink:href=\"#DejaVuSans-115\"/>\n    <use x=\"808.439453\" xlink:href=\"#DejaVuSans-32\"/>\n    <use x=\"840.226562\" xlink:href=\"#DejaVuSans-111\"/>\n    <use x=\"901.408203\" xlink:href=\"#DejaVuSans-102\"/>\n    <use x=\"936.613281\" xlink:href=\"#DejaVuSans-32\"/>\n    <use x=\"968.400391\" xlink:href=\"#DejaVuSans-117\"/>\n    <use x=\"1031.779297\" xlink:href=\"#DejaVuSans-115\"/>\n    <use x=\"1083.878906\" xlink:href=\"#DejaVuSans-101\"/>\n    <use x=\"1145.402344\" xlink:href=\"#DejaVuSans-114\"/>\n    <use x=\"1186.515625\" xlink:href=\"#DejaVuSans-115\"/>\n   </g>\n  </g>\n </g>\n</svg>\n",
      "image/png": "[encoded data removed]"
     },
     "metadata": {}
    }
   ],
   "source": [
    "# top 10 locations of users\n",
    "top_locations = tweets_df.place.value_counts().head(10)\n",
    "top_locations.plot(kind=\"pie\", subplots=True, title=\"Top 10 locations of users\");"
   ]
  },
  {
   "source": [
    "<h2>Sentiments<h2>"
   ],
   "cell_type": "markdown",
   "metadata": {}
  },
  {
   "cell_type": "code",
   "execution_count": 20,
   "metadata": {},
   "outputs": [],
   "source": [
    "def text_category(p):\n",
    "    \"\"\"\n",
    "    converts polarity into sentiment category\n",
    "    \"\"\"\n",
    "    if p > 0:\n",
    "        return \"positive\"\n",
    "    elif p < 0:\n",
    "        return \"negative\"\n",
    "    else:\n",
    "        return \"neutral\""
   ]
  },
  {
   "cell_type": "code",
   "execution_count": 24,
   "metadata": {},
   "outputs": [
    {
     "output_type": "execute_result",
     "data": {
      "text/plain": [
       "positive    3426\n",
       "neutral     1829\n",
       "negative    1277\n",
       "Name: sentiment, dtype: int64"
      ]
     },
     "metadata": {},
     "execution_count": 24
    }
   ],
   "source": [
    "tweets_df[\"sentiment\"] = tweets_df[\"polarity\"].apply(text_category)\n",
    "tweets_df[\"sentiment\"].value_counts()"
   ]
  },
  {
   "cell_type": "code",
   "execution_count": 26,
   "metadata": {},
   "outputs": [
    {
     "output_type": "display_data",
     "data": {
      "text/plain": "<Figure size 432x288 with 1 Axes>",
      "image/svg+xml": "<?xml version=\"1.0\" encoding=\"utf-8\" standalone=\"no\"?>\n<!DOCTYPE svg PUBLIC \"-//W3C//DTD SVG 1.1//EN\"\n  \"http://www.w3.org/Graphics/SVG/1.1/DTD/svg11.dtd\">\n<!-- Created with matplotlib (https://matplotlib.org/) -->\n<svg height=\"231.84pt\" version=\"1.1\" viewBox=\"0 0 258.724588 231.84\" width=\"258.724588pt\" xmlns=\"http://www.w3.org/2000/svg\" xmlns:xlink=\"http://www.w3.org/1999/xlink\">\n <metadata>\n  <rdf:RDF xmlns:cc=\"http://creativecommons.org/ns#\" xmlns:dc=\"http://purl.org/dc/elements/1.1/\" xmlns:rdf=\"http://www.w3.org/1999/02/22-rdf-syntax-ns#\">\n   <cc:Work>\n    <dc:type rdf:resource=\"http://purl.org/dc/dcmitype/StillImage\"/>\n    <dc:date>2021-06-24T12:03:17.974077</dc:date>\n    <dc:format>image/svg+xml</dc:format>\n    <dc:creator>\n     <cc:Agent>\n      <dc:title>Matplotlib v3.3.2, https://matplotlib.org/</dc:title>\n     </cc:Agent>\n    </dc:creator>\n   </cc:Work>\n  </rdf:RDF>\n </metadata>\n <defs>\n  <style type=\"text/css\">*{stroke-linecap:butt;stroke-linejoin:round;}</style>\n </defs>\n <g id=\"figure_1\">\n  <g id=\"patch_1\">\n   <path d=\"M 0 231.84 \nL 258.724588 231.84 \nL 258.724588 0 \nL 0 0 \nz\n\" style=\"fill:none;\"/>\n  </g>\n  <g id=\"axes_1\">\n   <g id=\"patch_2\">\n    <path d=\"M 216.574125 115.92 \nC 216.574125 103.935055 214.096909 92.07846 209.298313 81.096092 \nC 204.499718 70.113725 197.482523 60.240812 188.688167 52.09844 \nC 179.893811 43.956069 169.510657 37.718637 158.191891 33.77853 \nC 146.873125 29.838423 134.861178 28.280033 122.911701 29.201396 \nC 110.962224 30.122758 99.331157 33.504139 88.750191 39.132821 \nC 78.169225 44.761503 68.864988 52.516928 61.422793 61.911216 \nC 53.980599 71.305504 48.559848 82.137444 45.50155 93.725615 \nC 42.443253 105.313787 41.812913 117.40999 43.650185 129.253272 \nL 129.598125 115.92 \nL 216.574125 115.92 \nz\n\" style=\"fill:#1f77b4;\"/>\n   </g>\n   <g id=\"patch_3\">\n    <path d=\"M 43.650185 129.253272 \nC 45.612832 141.904738 50.344912 153.968185 57.507602 164.579851 \nC 64.670292 175.191516 74.088458 184.091937 85.087743 190.643828 \nC 96.087029 197.19572 108.398494 201.238883 121.140617 202.483821 \nC 133.88274 203.728759 146.743967 202.145033 158.803412 197.846039 \nL 129.598125 115.92 \nL 43.650185 129.253272 \nz\n\" style=\"fill:#ff7f0e;\"/>\n   </g>\n   <g id=\"patch_4\">\n    <path d=\"M 158.803412 197.846039 \nC 175.706483 191.820371 190.337529 180.708671 200.679 166.043186 \nC 211.020471 151.377701 216.57412 133.865009 216.574125 115.920024 \nL 129.598125 115.92 \nL 158.803412 197.846039 \nz\n\" style=\"fill:#2ca02c;\"/>\n   </g>\n   <g id=\"matplotlib.axis_1\"/>\n   <g id=\"matplotlib.axis_2\">\n    <g id=\"text_1\">\n     <!-- sentiment -->\n     <g transform=\"translate(14.798438 141.195)rotate(-90)scale(0.1 -0.1)\">\n      <defs>\n       <path d=\"M 44.28125 53.078125 \nL 44.28125 44.578125 \nQ 40.484375 46.53125 36.375 47.5 \nQ 32.28125 48.484375 27.875 48.484375 \nQ 21.1875 48.484375 17.84375 46.4375 \nQ 14.5 44.390625 14.5 40.28125 \nQ 14.5 37.15625 16.890625 35.375 \nQ 19.28125 33.59375 26.515625 31.984375 \nL 29.59375 31.296875 \nQ 39.15625 29.25 43.1875 25.515625 \nQ 47.21875 21.78125 47.21875 15.09375 \nQ 47.21875 7.46875 41.1875 3.015625 \nQ 35.15625 -1.421875 24.609375 -1.421875 \nQ 20.21875 -1.421875 15.453125 -0.5625 \nQ 10.6875 0.296875 5.421875 2 \nL 5.421875 11.28125 \nQ 10.40625 8.6875 15.234375 7.390625 \nQ 20.0625 6.109375 24.8125 6.109375 \nQ 31.15625 6.109375 34.5625 8.28125 \nQ 37.984375 10.453125 37.984375 14.40625 \nQ 37.984375 18.0625 35.515625 20.015625 \nQ 33.0625 21.96875 24.703125 23.78125 \nL 21.578125 24.515625 \nQ 13.234375 26.265625 9.515625 29.90625 \nQ 5.8125 33.546875 5.8125 39.890625 \nQ 5.8125 47.609375 11.28125 51.796875 \nQ 16.75 56 26.8125 56 \nQ 31.78125 56 36.171875 55.265625 \nQ 40.578125 54.546875 44.28125 53.078125 \nz\n\" id=\"DejaVuSans-115\"/>\n       <path d=\"M 56.203125 29.59375 \nL 56.203125 25.203125 \nL 14.890625 25.203125 \nQ 15.484375 15.921875 20.484375 11.0625 \nQ 25.484375 6.203125 34.421875 6.203125 \nQ 39.59375 6.203125 44.453125 7.46875 \nQ 49.3125 8.734375 54.109375 11.28125 \nL 54.109375 2.78125 \nQ 49.265625 0.734375 44.1875 -0.34375 \nQ 39.109375 -1.421875 33.890625 -1.421875 \nQ 20.796875 -1.421875 13.15625 6.1875 \nQ 5.515625 13.8125 5.515625 26.8125 \nQ 5.515625 40.234375 12.765625 48.109375 \nQ 20.015625 56 32.328125 56 \nQ 43.359375 56 49.78125 48.890625 \nQ 56.203125 41.796875 56.203125 29.59375 \nz\nM 47.21875 32.234375 \nQ 47.125 39.59375 43.09375 43.984375 \nQ 39.0625 48.390625 32.421875 48.390625 \nQ 24.90625 48.390625 20.390625 44.140625 \nQ 15.875 39.890625 15.1875 32.171875 \nz\n\" id=\"DejaVuSans-101\"/>\n       <path d=\"M 54.890625 33.015625 \nL 54.890625 0 \nL 45.90625 0 \nL 45.90625 32.71875 \nQ 45.90625 40.484375 42.875 44.328125 \nQ 39.84375 48.1875 33.796875 48.1875 \nQ 26.515625 48.1875 22.3125 43.546875 \nQ 18.109375 38.921875 18.109375 30.90625 \nL 18.109375 0 \nL 9.078125 0 \nL 9.078125 54.6875 \nL 18.109375 54.6875 \nL 18.109375 46.1875 \nQ 21.34375 51.125 25.703125 53.5625 \nQ 30.078125 56 35.796875 56 \nQ 45.21875 56 50.046875 50.171875 \nQ 54.890625 44.34375 54.890625 33.015625 \nz\n\" id=\"DejaVuSans-110\"/>\n       <path d=\"M 18.3125 70.21875 \nL 18.3125 54.6875 \nL 36.8125 54.6875 \nL 36.8125 47.703125 \nL 18.3125 47.703125 \nL 18.3125 18.015625 \nQ 18.3125 11.328125 20.140625 9.421875 \nQ 21.96875 7.515625 27.59375 7.515625 \nL 36.8125 7.515625 \nL 36.8125 0 \nL 27.59375 0 \nQ 17.1875 0 13.234375 3.875 \nQ 9.28125 7.765625 9.28125 18.015625 \nL 9.28125 47.703125 \nL 2.6875 47.703125 \nL 2.6875 54.6875 \nL 9.28125 54.6875 \nL 9.28125 70.21875 \nz\n\" id=\"DejaVuSans-116\"/>\n       <path d=\"M 9.421875 54.6875 \nL 18.40625 54.6875 \nL 18.40625 0 \nL 9.421875 0 \nz\nM 9.421875 75.984375 \nL 18.40625 75.984375 \nL 18.40625 64.59375 \nL 9.421875 64.59375 \nz\n\" id=\"DejaVuSans-105\"/>\n       <path d=\"M 52 44.1875 \nQ 55.375 50.25 60.0625 53.125 \nQ 64.75 56 71.09375 56 \nQ 79.640625 56 84.28125 50.015625 \nQ 88.921875 44.046875 88.921875 33.015625 \nL 88.921875 0 \nL 79.890625 0 \nL 79.890625 32.71875 \nQ 79.890625 40.578125 77.09375 44.375 \nQ 74.3125 48.1875 68.609375 48.1875 \nQ 61.625 48.1875 57.5625 43.546875 \nQ 53.515625 38.921875 53.515625 30.90625 \nL 53.515625 0 \nL 44.484375 0 \nL 44.484375 32.71875 \nQ 44.484375 40.625 41.703125 44.40625 \nQ 38.921875 48.1875 33.109375 48.1875 \nQ 26.21875 48.1875 22.15625 43.53125 \nQ 18.109375 38.875 18.109375 30.90625 \nL 18.109375 0 \nL 9.078125 0 \nL 9.078125 54.6875 \nL 18.109375 54.6875 \nL 18.109375 46.1875 \nQ 21.1875 51.21875 25.484375 53.609375 \nQ 29.78125 56 35.6875 56 \nQ 41.65625 56 45.828125 52.96875 \nQ 50 49.953125 52 44.1875 \nz\n\" id=\"DejaVuSans-109\"/>\n      </defs>\n      <use xlink:href=\"#DejaVuSans-115\"/>\n      <use x=\"52.099609\" xlink:href=\"#DejaVuSans-101\"/>\n      <use x=\"113.623047\" xlink:href=\"#DejaVuSans-110\"/>\n      <use x=\"177.001953\" xlink:href=\"#DejaVuSans-116\"/>\n      <use x=\"216.210938\" xlink:href=\"#DejaVuSans-105\"/>\n      <use x=\"243.994141\" xlink:href=\"#DejaVuSans-109\"/>\n      <use x=\"341.40625\" xlink:href=\"#DejaVuSans-101\"/>\n      <use x=\"402.929688\" xlink:href=\"#DejaVuSans-110\"/>\n      <use x=\"466.308594\" xlink:href=\"#DejaVuSans-116\"/>\n     </g>\n    </g>\n   </g>\n   <g id=\"text_2\">\n    <!-- positive -->\n    <g transform=\"translate(83.018059 23.28891)scale(0.1 -0.1)\">\n     <defs>\n      <path d=\"M 18.109375 8.203125 \nL 18.109375 -20.796875 \nL 9.078125 -20.796875 \nL 9.078125 54.6875 \nL 18.109375 54.6875 \nL 18.109375 46.390625 \nQ 20.953125 51.265625 25.265625 53.625 \nQ 29.59375 56 35.59375 56 \nQ 45.5625 56 51.78125 48.09375 \nQ 58.015625 40.1875 58.015625 27.296875 \nQ 58.015625 14.40625 51.78125 6.484375 \nQ 45.5625 -1.421875 35.59375 -1.421875 \nQ 29.59375 -1.421875 25.265625 0.953125 \nQ 20.953125 3.328125 18.109375 8.203125 \nz\nM 48.6875 27.296875 \nQ 48.6875 37.203125 44.609375 42.84375 \nQ 40.53125 48.484375 33.40625 48.484375 \nQ 26.265625 48.484375 22.1875 42.84375 \nQ 18.109375 37.203125 18.109375 27.296875 \nQ 18.109375 17.390625 22.1875 11.75 \nQ 26.265625 6.109375 33.40625 6.109375 \nQ 40.53125 6.109375 44.609375 11.75 \nQ 48.6875 17.390625 48.6875 27.296875 \nz\n\" id=\"DejaVuSans-112\"/>\n      <path d=\"M 30.609375 48.390625 \nQ 23.390625 48.390625 19.1875 42.75 \nQ 14.984375 37.109375 14.984375 27.296875 \nQ 14.984375 17.484375 19.15625 11.84375 \nQ 23.34375 6.203125 30.609375 6.203125 \nQ 37.796875 6.203125 41.984375 11.859375 \nQ 46.1875 17.53125 46.1875 27.296875 \nQ 46.1875 37.015625 41.984375 42.703125 \nQ 37.796875 48.390625 30.609375 48.390625 \nz\nM 30.609375 56 \nQ 42.328125 56 49.015625 48.375 \nQ 55.71875 40.765625 55.71875 27.296875 \nQ 55.71875 13.875 49.015625 6.21875 \nQ 42.328125 -1.421875 30.609375 -1.421875 \nQ 18.84375 -1.421875 12.171875 6.21875 \nQ 5.515625 13.875 5.515625 27.296875 \nQ 5.515625 40.765625 12.171875 48.375 \nQ 18.84375 56 30.609375 56 \nz\n\" id=\"DejaVuSans-111\"/>\n      <path d=\"M 2.984375 54.6875 \nL 12.5 54.6875 \nL 29.59375 8.796875 \nL 46.6875 54.6875 \nL 56.203125 54.6875 \nL 35.6875 0 \nL 23.484375 0 \nz\n\" id=\"DejaVuSans-118\"/>\n     </defs>\n     <use xlink:href=\"#DejaVuSans-112\"/>\n     <use x=\"63.476562\" xlink:href=\"#DejaVuSans-111\"/>\n     <use x=\"124.658203\" xlink:href=\"#DejaVuSans-115\"/>\n     <use x=\"176.757812\" xlink:href=\"#DejaVuSans-105\"/>\n     <use x=\"204.541016\" xlink:href=\"#DejaVuSans-116\"/>\n     <use x=\"243.75\" xlink:href=\"#DejaVuSans-105\"/>\n     <use x=\"271.533203\" xlink:href=\"#DejaVuSans-118\"/>\n     <use x=\"330.712891\" xlink:href=\"#DejaVuSans-101\"/>\n    </g>\n   </g>\n   <g id=\"text_3\">\n    <!-- neutral -->\n    <g transform=\"translate(44.87108 200.875586)scale(0.1 -0.1)\">\n     <defs>\n      <path d=\"M 8.5 21.578125 \nL 8.5 54.6875 \nL 17.484375 54.6875 \nL 17.484375 21.921875 \nQ 17.484375 14.15625 20.5 10.265625 \nQ 23.53125 6.390625 29.59375 6.390625 \nQ 36.859375 6.390625 41.078125 11.03125 \nQ 45.3125 15.671875 45.3125 23.6875 \nL 45.3125 54.6875 \nL 54.296875 54.6875 \nL 54.296875 0 \nL 45.3125 0 \nL 45.3125 8.40625 \nQ 42.046875 3.421875 37.71875 1 \nQ 33.40625 -1.421875 27.6875 -1.421875 \nQ 18.265625 -1.421875 13.375 4.4375 \nQ 8.5 10.296875 8.5 21.578125 \nz\nM 31.109375 56 \nz\n\" id=\"DejaVuSans-117\"/>\n      <path d=\"M 41.109375 46.296875 \nQ 39.59375 47.171875 37.8125 47.578125 \nQ 36.03125 48 33.890625 48 \nQ 26.265625 48 22.1875 43.046875 \nQ 18.109375 38.09375 18.109375 28.8125 \nL 18.109375 0 \nL 9.078125 0 \nL 9.078125 54.6875 \nL 18.109375 54.6875 \nL 18.109375 46.1875 \nQ 20.953125 51.171875 25.484375 53.578125 \nQ 30.03125 56 36.53125 56 \nQ 37.453125 56 38.578125 55.875 \nQ 39.703125 55.765625 41.0625 55.515625 \nz\n\" id=\"DejaVuSans-114\"/>\n      <path d=\"M 34.28125 27.484375 \nQ 23.390625 27.484375 19.1875 25 \nQ 14.984375 22.515625 14.984375 16.5 \nQ 14.984375 11.71875 18.140625 8.90625 \nQ 21.296875 6.109375 26.703125 6.109375 \nQ 34.1875 6.109375 38.703125 11.40625 \nQ 43.21875 16.703125 43.21875 25.484375 \nL 43.21875 27.484375 \nz\nM 52.203125 31.203125 \nL 52.203125 0 \nL 43.21875 0 \nL 43.21875 8.296875 \nQ 40.140625 3.328125 35.546875 0.953125 \nQ 30.953125 -1.421875 24.3125 -1.421875 \nQ 15.921875 -1.421875 10.953125 3.296875 \nQ 6 8.015625 6 15.921875 \nQ 6 25.140625 12.171875 29.828125 \nQ 18.359375 34.515625 30.609375 34.515625 \nL 43.21875 34.515625 \nL 43.21875 35.40625 \nQ 43.21875 41.609375 39.140625 45 \nQ 35.0625 48.390625 27.6875 48.390625 \nQ 23 48.390625 18.546875 47.265625 \nQ 14.109375 46.140625 10.015625 43.890625 \nL 10.015625 52.203125 \nQ 14.9375 54.109375 19.578125 55.046875 \nQ 24.21875 56 28.609375 56 \nQ 40.484375 56 46.34375 49.84375 \nQ 52.203125 43.703125 52.203125 31.203125 \nz\n\" id=\"DejaVuSans-97\"/>\n      <path d=\"M 9.421875 75.984375 \nL 18.40625 75.984375 \nL 18.40625 0 \nL 9.421875 0 \nz\n\" id=\"DejaVuSans-108\"/>\n     </defs>\n     <use xlink:href=\"#DejaVuSans-110\"/>\n     <use x=\"63.378906\" xlink:href=\"#DejaVuSans-101\"/>\n     <use x=\"124.902344\" xlink:href=\"#DejaVuSans-117\"/>\n     <use x=\"188.28125\" xlink:href=\"#DejaVuSans-116\"/>\n     <use x=\"227.490234\" xlink:href=\"#DejaVuSans-114\"/>\n     <use x=\"268.603516\" xlink:href=\"#DejaVuSans-97\"/>\n     <use x=\"329.882812\" xlink:href=\"#DejaVuSans-108\"/>\n    </g>\n   </g>\n   <g id=\"text_4\">\n    <!-- negative -->\n    <g transform=\"translate(207.787088 173.81488)scale(0.1 -0.1)\">\n     <defs>\n      <path d=\"M 45.40625 27.984375 \nQ 45.40625 37.75 41.375 43.109375 \nQ 37.359375 48.484375 30.078125 48.484375 \nQ 22.859375 48.484375 18.828125 43.109375 \nQ 14.796875 37.75 14.796875 27.984375 \nQ 14.796875 18.265625 18.828125 12.890625 \nQ 22.859375 7.515625 30.078125 7.515625 \nQ 37.359375 7.515625 41.375 12.890625 \nQ 45.40625 18.265625 45.40625 27.984375 \nz\nM 54.390625 6.78125 \nQ 54.390625 -7.171875 48.1875 -13.984375 \nQ 42 -20.796875 29.203125 -20.796875 \nQ 24.46875 -20.796875 20.265625 -20.09375 \nQ 16.0625 -19.390625 12.109375 -17.921875 \nL 12.109375 -9.1875 \nQ 16.0625 -11.328125 19.921875 -12.34375 \nQ 23.78125 -13.375 27.78125 -13.375 \nQ 36.625 -13.375 41.015625 -8.765625 \nQ 45.40625 -4.15625 45.40625 5.171875 \nL 45.40625 9.625 \nQ 42.625 4.78125 38.28125 2.390625 \nQ 33.9375 0 27.875 0 \nQ 17.828125 0 11.671875 7.65625 \nQ 5.515625 15.328125 5.515625 27.984375 \nQ 5.515625 40.671875 11.671875 48.328125 \nQ 17.828125 56 27.875 56 \nQ 33.9375 56 38.28125 53.609375 \nQ 42.625 51.21875 45.40625 46.390625 \nL 45.40625 54.6875 \nL 54.390625 54.6875 \nz\n\" id=\"DejaVuSans-103\"/>\n     </defs>\n     <use xlink:href=\"#DejaVuSans-110\"/>\n     <use x=\"63.378906\" xlink:href=\"#DejaVuSans-101\"/>\n     <use x=\"124.902344\" xlink:href=\"#DejaVuSans-103\"/>\n     <use x=\"188.378906\" xlink:href=\"#DejaVuSans-97\"/>\n     <use x=\"249.658203\" xlink:href=\"#DejaVuSans-116\"/>\n     <use x=\"288.867188\" xlink:href=\"#DejaVuSans-105\"/>\n     <use x=\"316.650391\" xlink:href=\"#DejaVuSans-118\"/>\n     <use x=\"375.830078\" xlink:href=\"#DejaVuSans-101\"/>\n    </g>\n   </g>\n  </g>\n </g>\n</svg>\n",
      "image/png": "[encoded data removed]"
     },
     "metadata": {}
    }
   ],
   "source": [
    "tweets_df[\"sentiment\"].value_counts().plot(kind=\"pie\");"
   ]
  },
  {
   "cell_type": "code",
   "execution_count": null,
   "metadata": {},
   "outputs": [],
   "source": []
  }
 ]
}