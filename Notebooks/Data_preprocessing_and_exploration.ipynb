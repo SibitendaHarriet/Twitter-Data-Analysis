{
 "metadata": {
  "language_info": {
   "codemirror_mode": {
    "name": "ipython",
    "version": 3
   },
   "file_extension": ".py",
   "mimetype": "text/x-python",
   "name": "python",
   "nbconvert_exporter": "python",
   "pygments_lexer": "ipython3",
   "version": "3.8.5"
  },
  "orig_nbformat": 2,
  "kernelspec": {
   "name": "python385jvsc74a57bd0c30745a67ab3077685183c6616f760120387d2e186c7e6a99675e86d34cdfa12",
   "display_name": "Python 3.8.5 64-bit ('base': conda)"
  }
 },
 "nbformat": 4,
 "nbformat_minor": 2,
 "cells": [
  {
   "source": [
    "<h1>Data Preprocessing<h1>"
   ],
   "cell_type": "markdown",
   "metadata": {}
  },
  {
   "cell_type": "code",
   "execution_count": 1,
   "metadata": {},
   "outputs": [],
   "source": [
    "import pandas as pd\n",
    "import sys\n",
    "import os\n",
    "\n",
    "sys.path.append(os.path.abspath(os.path.join('..')))\n",
    "\n",
    "from extract_dataframe import TweetDfExtractor\n",
    "from extract_dataframe import read_json\n",
    "\n",
    "_, tweet_list = read_json(\"../data/covid19.json\")"
   ]
  },
  {
   "cell_type": "code",
   "execution_count": 2,
   "metadata": {},
   "outputs": [
    {
     "output_type": "execute_result",
     "data": {
      "text/plain": [
       "                          created_at  \\\n",
       "0     Fri Jun 18 17:55:49 +0000 2021   \n",
       "1     Fri Jun 18 17:55:59 +0000 2021   \n",
       "2     Fri Jun 18 17:56:07 +0000 2021   \n",
       "3     Fri Jun 18 17:56:10 +0000 2021   \n",
       "4     Fri Jun 18 17:56:20 +0000 2021   \n",
       "...                              ...   \n",
       "6527  Sat Jun 19 07:41:15 +0000 2021   \n",
       "6528  Sat Jun 19 07:41:26 +0000 2021   \n",
       "6529  Sat Jun 19 07:41:31 +0000 2021   \n",
       "6530  Sat Jun 19 07:41:45 +0000 2021   \n",
       "6531  Sat Jun 19 07:41:54 +0000 2021   \n",
       "\n",
       "                                                 source  \\\n",
       "0     <a href=\"http://twitter.com/download/iphone\" r...   \n",
       "1     <a href=\"https://mobile.twitter.com\" rel=\"nofo...   \n",
       "2     <a href=\"http://twitter.com/download/iphone\" r...   \n",
       "3     <a href=\"https://mobile.twitter.com\" rel=\"nofo...   \n",
       "4     <a href=\"http://twitter.com/download/android\" ...   \n",
       "...                                                 ...   \n",
       "6527  <a href=\"http://twitter.com/download/android\" ...   \n",
       "6528  <a href=\"http://twitter.com/download/android\" ...   \n",
       "6529  <a href=\"http://twitter.com/download/iphone\" r...   \n",
       "6530  <a href=\"http://twitter.com/download/iphone\" r...   \n",
       "6531  <a href=\"https://mobile.twitter.com\" rel=\"nofo...   \n",
       "\n",
       "                                          original_text  polarity  \\\n",
       "0     🚨Africa is \"in the midst of a full-blown third...  0.166667   \n",
       "1     Dr Moeti is head of WHO in Africa, and one of ...  0.133333   \n",
       "2     Thank you @research2note for creating this ama...  0.316667   \n",
       "3     Former Pfizer VP and Virologist, Dr. Michael Y...  0.086111   \n",
       "4     I think it’s important that we don’t sell COVA...  0.280000   \n",
       "...                                                 ...       ...   \n",
       "6527  RT @Givenkazeni: Zweli please just release the...  0.000000   \n",
       "6528  Former Pfizer VP and Virologist, Dr. Michael Y...  0.086111   \n",
       "6529  @Jenfeds73 @DcrInYYC Respectfully, veterinaria...  0.281250   \n",
       "6530  \"Africa needs millions more doses here &amp; n...  0.125000   \n",
       "6531  RT @shawajason: Liars. You tried to load off y...  0.000000   \n",
       "\n",
       "      subjectivity lang  favorite_count  retweet_count original_author  \\\n",
       "0         0.188889   en           548.0          612.0     ketuesriche   \n",
       "1         0.455556   en           195.0           92.0        Grid1949   \n",
       "2         0.483333   en             2.0            1.0   LeeTomlinson8   \n",
       "3         0.197222   en          1580.0          899.0         RIPNY08   \n",
       "4         0.620000   en            72.0           20.0          pash22   \n",
       "...            ...  ...             ...            ...             ...   \n",
       "6527      0.400000   en           188.0           54.0    Mthatos_Vivi   \n",
       "6528      0.197222   en          1595.0          908.0     wayno_af007   \n",
       "6529      0.506250   en             NaN            NaN    dublonothing   \n",
       "6530      0.325000   en           143.0          122.0    DrAmirKhanGP   \n",
       "6531      0.000000   en           903.0          921.0      jepigepas_   \n",
       "\n",
       "      followers_count  friends_count possibly_sensitive  \\\n",
       "0                 551            351              False   \n",
       "1                  66             92              False   \n",
       "2                1195           1176               None   \n",
       "3                2666           2704              False   \n",
       "4               28250          30819               None   \n",
       "...               ...            ...                ...   \n",
       "6527              447           1089               None   \n",
       "6528             2224           2739              False   \n",
       "6529             3000           4709               None   \n",
       "6530           135163           1284              False   \n",
       "6531              160            712              False   \n",
       "\n",
       "                                               hashtags  \\\n",
       "0                                                    []   \n",
       "1                                                    []   \n",
       "2     [{'text': 'red4research', 'indices': [103, 116]}]   \n",
       "3                                                    []   \n",
       "4                                                    []   \n",
       "...                                                 ...   \n",
       "6527                                                 []   \n",
       "6528                                                 []   \n",
       "6529                                                 []   \n",
       "6530       [{'text': 'COVID19', 'indices': [120, 128]}]   \n",
       "6531                                                 []   \n",
       "\n",
       "                                          user_mentions  \\\n",
       "0     [{'screen_name': 'TelGlobalHealth', 'name': 'T...   \n",
       "1     [{'screen_name': 'globalhlthtwit', 'name': 'An...   \n",
       "2     [{'screen_name': 'NHSRDForum', 'name': 'NHS R&...   \n",
       "3     [{'screen_name': 'HighWireTalk', 'name': 'The ...   \n",
       "4     [{'screen_name': 'PeterHotez', 'name': 'Prof P...   \n",
       "...                                                 ...   \n",
       "6527  [{'screen_name': 'Givenkazeni', 'name': 'le’Gi...   \n",
       "6528  [{'screen_name': 'HighWireTalk', 'name': 'The ...   \n",
       "6529  [{'screen_name': 'Jenfeds73', 'name': 'Bubs 🇨🇦...   \n",
       "6530  [{'screen_name': 'WHOAFRO', 'name': 'WHO Afric...   \n",
       "6531  [{'screen_name': 'shawajason', 'name': 'J. Sha...   \n",
       "\n",
       "                         place  \n",
       "0                         Mass  \n",
       "1          Edinburgh, Scotland  \n",
       "2                         None  \n",
       "3                         None  \n",
       "4               United Kingdom  \n",
       "...                        ...  \n",
       "6527                      None  \n",
       "6528              The boro, MA  \n",
       "6529           Los Angeles, CA  \n",
       "6530  Yorkshire and The Humber  \n",
       "6531                      None  \n",
       "\n",
       "[6532 rows x 15 columns]"
      ],
      "text/html": "<div>\n<style scoped>\n    .dataframe tbody tr th:only-of-type {\n        vertical-align: middle;\n    }\n\n    .dataframe tbody tr th {\n        vertical-align: top;\n    }\n\n    .dataframe thead th {\n        text-align: right;\n    }\n</style>\n<table border=\"1\" class=\"dataframe\">\n  <thead>\n    <tr style=\"text-align: right;\">\n      <th></th>\n      <th>created_at</th>\n      <th>source</th>\n      <th>original_text</th>\n      <th>polarity</th>\n      <th>subjectivity</th>\n      <th>lang</th>\n      <th>favorite_count</th>\n      <th>retweet_count</th>\n      <th>original_author</th>\n      <th>followers_count</th>\n      <th>friends_count</th>\n      <th>possibly_sensitive</th>\n      <th>hashtags</th>\n      <th>user_mentions</th>\n      <th>place</th>\n    </tr>\n  </thead>\n  <tbody>\n    <tr>\n      <th>0</th>\n      <td>Fri Jun 18 17:55:49 +0000 2021</td>\n      <td>&lt;a href=\"http://twitter.com/download/iphone\" r...</td>\n      <td>🚨Africa is \"in the midst of a full-blown third...</td>\n      <td>0.166667</td>\n      <td>0.188889</td>\n      <td>en</td>\n      <td>548.0</td>\n      <td>612.0</td>\n      <td>ketuesriche</td>\n      <td>551</td>\n      <td>351</td>\n      <td>False</td>\n      <td>[]</td>\n      <td>[{'screen_name': 'TelGlobalHealth', 'name': 'T...</td>\n      <td>Mass</td>\n    </tr>\n    <tr>\n      <th>1</th>\n      <td>Fri Jun 18 17:55:59 +0000 2021</td>\n      <td>&lt;a href=\"https://mobile.twitter.com\" rel=\"nofo...</td>\n      <td>Dr Moeti is head of WHO in Africa, and one of ...</td>\n      <td>0.133333</td>\n      <td>0.455556</td>\n      <td>en</td>\n      <td>195.0</td>\n      <td>92.0</td>\n      <td>Grid1949</td>\n      <td>66</td>\n      <td>92</td>\n      <td>False</td>\n      <td>[]</td>\n      <td>[{'screen_name': 'globalhlthtwit', 'name': 'An...</td>\n      <td>Edinburgh, Scotland</td>\n    </tr>\n    <tr>\n      <th>2</th>\n      <td>Fri Jun 18 17:56:07 +0000 2021</td>\n      <td>&lt;a href=\"http://twitter.com/download/iphone\" r...</td>\n      <td>Thank you @research2note for creating this ama...</td>\n      <td>0.316667</td>\n      <td>0.483333</td>\n      <td>en</td>\n      <td>2.0</td>\n      <td>1.0</td>\n      <td>LeeTomlinson8</td>\n      <td>1195</td>\n      <td>1176</td>\n      <td>None</td>\n      <td>[{'text': 'red4research', 'indices': [103, 116]}]</td>\n      <td>[{'screen_name': 'NHSRDForum', 'name': 'NHS R&amp;...</td>\n      <td>None</td>\n    </tr>\n    <tr>\n      <th>3</th>\n      <td>Fri Jun 18 17:56:10 +0000 2021</td>\n      <td>&lt;a href=\"https://mobile.twitter.com\" rel=\"nofo...</td>\n      <td>Former Pfizer VP and Virologist, Dr. Michael Y...</td>\n      <td>0.086111</td>\n      <td>0.197222</td>\n      <td>en</td>\n      <td>1580.0</td>\n      <td>899.0</td>\n      <td>RIPNY08</td>\n      <td>2666</td>\n      <td>2704</td>\n      <td>False</td>\n      <td>[]</td>\n      <td>[{'screen_name': 'HighWireTalk', 'name': 'The ...</td>\n      <td>None</td>\n    </tr>\n    <tr>\n      <th>4</th>\n      <td>Fri Jun 18 17:56:20 +0000 2021</td>\n      <td>&lt;a href=\"http://twitter.com/download/android\" ...</td>\n      <td>I think it’s important that we don’t sell COVA...</td>\n      <td>0.280000</td>\n      <td>0.620000</td>\n      <td>en</td>\n      <td>72.0</td>\n      <td>20.0</td>\n      <td>pash22</td>\n      <td>28250</td>\n      <td>30819</td>\n      <td>None</td>\n      <td>[]</td>\n      <td>[{'screen_name': 'PeterHotez', 'name': 'Prof P...</td>\n      <td>United Kingdom</td>\n    </tr>\n    <tr>\n      <th>...</th>\n      <td>...</td>\n      <td>...</td>\n      <td>...</td>\n      <td>...</td>\n      <td>...</td>\n      <td>...</td>\n      <td>...</td>\n      <td>...</td>\n      <td>...</td>\n      <td>...</td>\n      <td>...</td>\n      <td>...</td>\n      <td>...</td>\n      <td>...</td>\n      <td>...</td>\n    </tr>\n    <tr>\n      <th>6527</th>\n      <td>Sat Jun 19 07:41:15 +0000 2021</td>\n      <td>&lt;a href=\"http://twitter.com/download/android\" ...</td>\n      <td>RT @Givenkazeni: Zweli please just release the...</td>\n      <td>0.000000</td>\n      <td>0.400000</td>\n      <td>en</td>\n      <td>188.0</td>\n      <td>54.0</td>\n      <td>Mthatos_Vivi</td>\n      <td>447</td>\n      <td>1089</td>\n      <td>None</td>\n      <td>[]</td>\n      <td>[{'screen_name': 'Givenkazeni', 'name': 'le’Gi...</td>\n      <td>None</td>\n    </tr>\n    <tr>\n      <th>6528</th>\n      <td>Sat Jun 19 07:41:26 +0000 2021</td>\n      <td>&lt;a href=\"http://twitter.com/download/android\" ...</td>\n      <td>Former Pfizer VP and Virologist, Dr. Michael Y...</td>\n      <td>0.086111</td>\n      <td>0.197222</td>\n      <td>en</td>\n      <td>1595.0</td>\n      <td>908.0</td>\n      <td>wayno_af007</td>\n      <td>2224</td>\n      <td>2739</td>\n      <td>False</td>\n      <td>[]</td>\n      <td>[{'screen_name': 'HighWireTalk', 'name': 'The ...</td>\n      <td>The boro, MA</td>\n    </tr>\n    <tr>\n      <th>6529</th>\n      <td>Sat Jun 19 07:41:31 +0000 2021</td>\n      <td>&lt;a href=\"http://twitter.com/download/iphone\" r...</td>\n      <td>@Jenfeds73 @DcrInYYC Respectfully, veterinaria...</td>\n      <td>0.281250</td>\n      <td>0.506250</td>\n      <td>en</td>\n      <td>NaN</td>\n      <td>NaN</td>\n      <td>dublonothing</td>\n      <td>3000</td>\n      <td>4709</td>\n      <td>None</td>\n      <td>[]</td>\n      <td>[{'screen_name': 'Jenfeds73', 'name': 'Bubs 🇨🇦...</td>\n      <td>Los Angeles, CA</td>\n    </tr>\n    <tr>\n      <th>6530</th>\n      <td>Sat Jun 19 07:41:45 +0000 2021</td>\n      <td>&lt;a href=\"http://twitter.com/download/iphone\" r...</td>\n      <td>\"Africa needs millions more doses here &amp;amp; n...</td>\n      <td>0.125000</td>\n      <td>0.325000</td>\n      <td>en</td>\n      <td>143.0</td>\n      <td>122.0</td>\n      <td>DrAmirKhanGP</td>\n      <td>135163</td>\n      <td>1284</td>\n      <td>False</td>\n      <td>[{'text': 'COVID19', 'indices': [120, 128]}]</td>\n      <td>[{'screen_name': 'WHOAFRO', 'name': 'WHO Afric...</td>\n      <td>Yorkshire and The Humber</td>\n    </tr>\n    <tr>\n      <th>6531</th>\n      <td>Sat Jun 19 07:41:54 +0000 2021</td>\n      <td>&lt;a href=\"https://mobile.twitter.com\" rel=\"nofo...</td>\n      <td>RT @shawajason: Liars. You tried to load off y...</td>\n      <td>0.000000</td>\n      <td>0.000000</td>\n      <td>en</td>\n      <td>903.0</td>\n      <td>921.0</td>\n      <td>jepigepas_</td>\n      <td>160</td>\n      <td>712</td>\n      <td>False</td>\n      <td>[]</td>\n      <td>[{'screen_name': 'shawajason', 'name': 'J. Sha...</td>\n      <td>None</td>\n    </tr>\n  </tbody>\n</table>\n<p>6532 rows × 15 columns</p>\n</div>"
     },
     "metadata": {},
     "execution_count": 2
    }
   ],
   "source": [
    "tweets_df_extractor = TweetDfExtractor(tweet_list)\n",
    "tweets_df = tweets_df_extractor.get_tweet_df()\n",
    "tweets_df"
   ]
  },
  {
   "cell_type": "code",
   "execution_count": 3,
   "metadata": {},
   "outputs": [
    {
     "output_type": "execute_result",
     "data": {
      "text/plain": [
       "created_at               0\n",
       "source                   0\n",
       "original_text            0\n",
       "polarity                 0\n",
       "subjectivity             0\n",
       "lang                     0\n",
       "favorite_count        1747\n",
       "retweet_count         1747\n",
       "original_author          0\n",
       "followers_count          0\n",
       "friends_count            0\n",
       "possibly_sensitive    2914\n",
       "hashtags                 0\n",
       "user_mentions            0\n",
       "place                 2444\n",
       "dtype: int64"
      ]
     },
     "metadata": {},
     "execution_count": 3
    }
   ],
   "source": [
    "tweets_df.isna().sum()"
   ]
  },
  {
   "cell_type": "code",
   "execution_count": null,
   "metadata": {},
   "outputs": [],
   "source": []
  }
 ]
}