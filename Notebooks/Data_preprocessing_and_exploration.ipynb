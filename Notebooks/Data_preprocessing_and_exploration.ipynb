{
 "metadata": {
  "language_info": {
   "codemirror_mode": {
    "name": "ipython",
    "version": 3
   },
   "file_extension": ".py",
   "mimetype": "text/x-python",
   "name": "python",
   "nbconvert_exporter": "python",
   "pygments_lexer": "ipython3",
   "version": "3.8.5"
  },
  "orig_nbformat": 2,
  "kernelspec": {
   "name": "python385jvsc74a57bd0c30745a67ab3077685183c6616f760120387d2e186c7e6a99675e86d34cdfa12",
   "display_name": "Python 3.8.5 64-bit ('base': conda)"
  }
 },
 "nbformat": 4,
 "nbformat_minor": 2,
 "cells": [
  {
   "source": [
    "<h1>Data Preprocessing<h1>"
   ],
   "cell_type": "markdown",
   "metadata": {}
  },
  {
   "source": [
    "<h2>Data reading<h2>"
   ],
   "cell_type": "markdown",
   "metadata": {}
  },
  {
   "cell_type": "code",
   "execution_count": 1,
   "metadata": {},
   "outputs": [],
   "source": [
    "import pandas as pd\n",
    "import sys\n",
    "import os\n",
    "\n",
    "sys.path.append(os.path.abspath(os.path.join('..')))\n",
    "\n",
    "from extract_dataframe import TweetDfExtractor\n",
    "from extract_dataframe import read_json\n",
    "\n",
    "_, tweet_list = read_json(\"../data/covid19.json\")"
   ]
  },
  {
   "cell_type": "code",
   "execution_count": 2,
   "metadata": {},
   "outputs": [
    {
     "output_type": "execute_result",
     "data": {
      "text/plain": [
       "                       created_at  \\\n",
       "0  Fri Jun 18 17:55:49 +0000 2021   \n",
       "1  Fri Jun 18 17:55:59 +0000 2021   \n",
       "2  Fri Jun 18 17:56:07 +0000 2021   \n",
       "3  Fri Jun 18 17:56:10 +0000 2021   \n",
       "4  Fri Jun 18 17:56:20 +0000 2021   \n",
       "\n",
       "                                              source  \\\n",
       "0  <a href=\"http://twitter.com/download/iphone\" r...   \n",
       "1  <a href=\"https://mobile.twitter.com\" rel=\"nofo...   \n",
       "2  <a href=\"http://twitter.com/download/iphone\" r...   \n",
       "3  <a href=\"https://mobile.twitter.com\" rel=\"nofo...   \n",
       "4  <a href=\"http://twitter.com/download/android\" ...   \n",
       "\n",
       "                                       original_text  polarity  subjectivity  \\\n",
       "0  🚨Africa is \"in the midst of a full-blown third...  0.166667      0.188889   \n",
       "1  Dr Moeti is head of WHO in Africa, and one of ...  0.133333      0.455556   \n",
       "2  Thank you @research2note for creating this ama...  0.316667      0.483333   \n",
       "3  Former Pfizer VP and Virologist, Dr. Michael Y...  0.086111      0.197222   \n",
       "4  I think it’s important that we don’t sell COVA...  0.280000      0.620000   \n",
       "\n",
       "  lang  favorite_count  retweet_count original_author  followers_count  \\\n",
       "0   en           548.0          612.0     ketuesriche              551   \n",
       "1   en           195.0           92.0        Grid1949               66   \n",
       "2   en             2.0            1.0   LeeTomlinson8             1195   \n",
       "3   en          1580.0          899.0         RIPNY08             2666   \n",
       "4   en            72.0           20.0          pash22            28250   \n",
       "\n",
       "   friends_count possibly_sensitive  \\\n",
       "0            351              False   \n",
       "1             92              False   \n",
       "2           1176               None   \n",
       "3           2704              False   \n",
       "4          30819               None   \n",
       "\n",
       "                                            hashtags  \\\n",
       "0                                                 []   \n",
       "1                                                 []   \n",
       "2  [{'text': 'red4research', 'indices': [103, 116]}]   \n",
       "3                                                 []   \n",
       "4                                                 []   \n",
       "\n",
       "                                       user_mentions                place  \n",
       "0  [{'screen_name': 'TelGlobalHealth', 'name': 'T...                 Mass  \n",
       "1  [{'screen_name': 'globalhlthtwit', 'name': 'An...  Edinburgh, Scotland  \n",
       "2  [{'screen_name': 'NHSRDForum', 'name': 'NHS R&...                 None  \n",
       "3  [{'screen_name': 'HighWireTalk', 'name': 'The ...                 None  \n",
       "4  [{'screen_name': 'PeterHotez', 'name': 'Prof P...       United Kingdom  "
      ],
      "text/html": "<div>\n<style scoped>\n    .dataframe tbody tr th:only-of-type {\n        vertical-align: middle;\n    }\n\n    .dataframe tbody tr th {\n        vertical-align: top;\n    }\n\n    .dataframe thead th {\n        text-align: right;\n    }\n</style>\n<table border=\"1\" class=\"dataframe\">\n  <thead>\n    <tr style=\"text-align: right;\">\n      <th></th>\n      <th>created_at</th>\n      <th>source</th>\n      <th>original_text</th>\n      <th>polarity</th>\n      <th>subjectivity</th>\n      <th>lang</th>\n      <th>favorite_count</th>\n      <th>retweet_count</th>\n      <th>original_author</th>\n      <th>followers_count</th>\n      <th>friends_count</th>\n      <th>possibly_sensitive</th>\n      <th>hashtags</th>\n      <th>user_mentions</th>\n      <th>place</th>\n    </tr>\n  </thead>\n  <tbody>\n    <tr>\n      <th>0</th>\n      <td>Fri Jun 18 17:55:49 +0000 2021</td>\n      <td>&lt;a href=\"http://twitter.com/download/iphone\" r...</td>\n      <td>🚨Africa is \"in the midst of a full-blown third...</td>\n      <td>0.166667</td>\n      <td>0.188889</td>\n      <td>en</td>\n      <td>548.0</td>\n      <td>612.0</td>\n      <td>ketuesriche</td>\n      <td>551</td>\n      <td>351</td>\n      <td>False</td>\n      <td>[]</td>\n      <td>[{'screen_name': 'TelGlobalHealth', 'name': 'T...</td>\n      <td>Mass</td>\n    </tr>\n    <tr>\n      <th>1</th>\n      <td>Fri Jun 18 17:55:59 +0000 2021</td>\n      <td>&lt;a href=\"https://mobile.twitter.com\" rel=\"nofo...</td>\n      <td>Dr Moeti is head of WHO in Africa, and one of ...</td>\n      <td>0.133333</td>\n      <td>0.455556</td>\n      <td>en</td>\n      <td>195.0</td>\n      <td>92.0</td>\n      <td>Grid1949</td>\n      <td>66</td>\n      <td>92</td>\n      <td>False</td>\n      <td>[]</td>\n      <td>[{'screen_name': 'globalhlthtwit', 'name': 'An...</td>\n      <td>Edinburgh, Scotland</td>\n    </tr>\n    <tr>\n      <th>2</th>\n      <td>Fri Jun 18 17:56:07 +0000 2021</td>\n      <td>&lt;a href=\"http://twitter.com/download/iphone\" r...</td>\n      <td>Thank you @research2note for creating this ama...</td>\n      <td>0.316667</td>\n      <td>0.483333</td>\n      <td>en</td>\n      <td>2.0</td>\n      <td>1.0</td>\n      <td>LeeTomlinson8</td>\n      <td>1195</td>\n      <td>1176</td>\n      <td>None</td>\n      <td>[{'text': 'red4research', 'indices': [103, 116]}]</td>\n      <td>[{'screen_name': 'NHSRDForum', 'name': 'NHS R&amp;...</td>\n      <td>None</td>\n    </tr>\n    <tr>\n      <th>3</th>\n      <td>Fri Jun 18 17:56:10 +0000 2021</td>\n      <td>&lt;a href=\"https://mobile.twitter.com\" rel=\"nofo...</td>\n      <td>Former Pfizer VP and Virologist, Dr. Michael Y...</td>\n      <td>0.086111</td>\n      <td>0.197222</td>\n      <td>en</td>\n      <td>1580.0</td>\n      <td>899.0</td>\n      <td>RIPNY08</td>\n      <td>2666</td>\n      <td>2704</td>\n      <td>False</td>\n      <td>[]</td>\n      <td>[{'screen_name': 'HighWireTalk', 'name': 'The ...</td>\n      <td>None</td>\n    </tr>\n    <tr>\n      <th>4</th>\n      <td>Fri Jun 18 17:56:20 +0000 2021</td>\n      <td>&lt;a href=\"http://twitter.com/download/android\" ...</td>\n      <td>I think it’s important that we don’t sell COVA...</td>\n      <td>0.280000</td>\n      <td>0.620000</td>\n      <td>en</td>\n      <td>72.0</td>\n      <td>20.0</td>\n      <td>pash22</td>\n      <td>28250</td>\n      <td>30819</td>\n      <td>None</td>\n      <td>[]</td>\n      <td>[{'screen_name': 'PeterHotez', 'name': 'Prof P...</td>\n      <td>United Kingdom</td>\n    </tr>\n  </tbody>\n</table>\n</div>"
     },
     "metadata": {},
     "execution_count": 2
    }
   ],
   "source": [
    "tweets_df_extractor = TweetDfExtractor(tweet_list)\n",
    "tweets_df = tweets_df_extractor.get_tweet_df()\n",
    "tweets_df.head()"
   ]
  },
  {
   "source": [
    "tweets_df.info()"
   ],
   "cell_type": "code",
   "metadata": {},
   "execution_count": 6,
   "outputs": [
    {
     "output_type": "stream",
     "name": "stdout",
     "text": [
      "<class 'pandas.core.frame.DataFrame'>\nRangeIndex: 6532 entries, 0 to 6531\nData columns (total 15 columns):\n #   Column              Non-Null Count  Dtype  \n---  ------              --------------  -----  \n 0   created_at          6532 non-null   object \n 1   source              6532 non-null   object \n 2   original_text       6532 non-null   object \n 3   polarity            6532 non-null   float64\n 4   subjectivity        6532 non-null   float64\n 5   lang                6532 non-null   object \n 6   favorite_count      4785 non-null   float64\n 7   retweet_count       4785 non-null   float64\n 8   original_author     6532 non-null   object \n 9   followers_count     6532 non-null   int64  \n 10  friends_count       6532 non-null   int64  \n 11  possibly_sensitive  3618 non-null   object \n 12  hashtags            6532 non-null   object \n 13  user_mentions       6532 non-null   object \n 14  place               4088 non-null   object \ndtypes: float64(4), int64(2), object(9)\nmemory usage: 765.6+ KB\n"
     ]
    }
   ]
  },
  {
   "source": [
    "<h2>Missing values<h2>"
   ],
   "cell_type": "markdown",
   "metadata": {}
  },
  {
   "cell_type": "code",
   "execution_count": 3,
   "metadata": {},
   "outputs": [
    {
     "output_type": "execute_result",
     "data": {
      "text/plain": [
       "created_at               0\n",
       "source                   0\n",
       "original_text            0\n",
       "polarity                 0\n",
       "subjectivity             0\n",
       "lang                     0\n",
       "favorite_count        1747\n",
       "retweet_count         1747\n",
       "original_author          0\n",
       "followers_count          0\n",
       "friends_count            0\n",
       "possibly_sensitive    2914\n",
       "hashtags                 0\n",
       "user_mentions            0\n",
       "place                 2444\n",
       "dtype: int64"
      ]
     },
     "metadata": {},
     "execution_count": 3
    }
   ],
   "source": [
    "tweets_df.isna().sum()"
   ]
  },
  {
   "cell_type": "code",
   "execution_count": 5,
   "metadata": {},
   "outputs": [
    {
     "output_type": "stream",
     "name": "stdout",
     "text": [
      "<class 'pandas.core.frame.DataFrame'>\nRangeIndex: 6532 entries, 0 to 6531\nData columns (total 15 columns):\n #   Column              Non-Null Count  Dtype  \n---  ------              --------------  -----  \n 0   created_at          6532 non-null   object \n 1   source              6532 non-null   object \n 2   original_text       6532 non-null   object \n 3   polarity            6532 non-null   float64\n 4   subjectivity        6532 non-null   float64\n 5   lang                6532 non-null   object \n 6   favorite_count      4785 non-null   float64\n 7   retweet_count       4785 non-null   float64\n 8   original_author     6532 non-null   object \n 9   followers_count     6532 non-null   int64  \n 10  friends_count       6532 non-null   int64  \n 11  possibly_sensitive  3618 non-null   object \n 12  hashtags            6532 non-null   object \n 13  user_mentions       6532 non-null   object \n 14  place               4088 non-null   object \ndtypes: float64(4), int64(2), object(9)\nmemory usage: 765.6+ KB\n"
     ]
    }
   ],
   "source": []
  }
 ]
}