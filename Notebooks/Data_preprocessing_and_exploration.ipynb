{
 "metadata": {
  "language_info": {
   "codemirror_mode": {
    "name": "ipython",
    "version": 3
   },
   "file_extension": ".py",
   "mimetype": "text/x-python",
   "name": "python",
   "nbconvert_exporter": "python",
   "pygments_lexer": "ipython3",
   "version": "3.8.5"
  },
  "orig_nbformat": 2,
  "kernelspec": {
   "name": "python385jvsc74a57bd0c30745a67ab3077685183c6616f760120387d2e186c7e6a99675e86d34cdfa12",
   "display_name": "Python 3.8.5 64-bit ('base': conda)"
  }
 },
 "nbformat": 4,
 "nbformat_minor": 2,
 "cells": [
  {
   "source": [
    "<h1>Data Preprocessing<h1>"
   ],
   "cell_type": "markdown",
   "metadata": {}
  },
  {
   "source": [
    "<h2>Data reading<h2>"
   ],
   "cell_type": "markdown",
   "metadata": {}
  },
  {
   "cell_type": "code",
   "execution_count": 1,
   "metadata": {},
   "outputs": [],
   "source": [
    "import pandas as pd\n",
    "import sys\n",
    "import os\n",
    "\n",
    "sys.path.append(os.path.abspath(os.path.join('..')))\n",
    "\n",
    "from extract_dataframe import TweetDfExtractor\n",
    "from extract_dataframe import read_json\n",
    "\n",
    "_, tweet_list = read_json(\"../data/covid19.json\")"
   ]
  },
  {
   "cell_type": "code",
   "execution_count": 2,
   "metadata": {},
   "outputs": [
    {
     "output_type": "execute_result",
     "data": {
      "text/plain": [
       "                       created_at  \\\n",
       "0  Fri Jun 18 17:55:49 +0000 2021   \n",
       "1  Fri Jun 18 17:55:59 +0000 2021   \n",
       "2  Fri Jun 18 17:56:07 +0000 2021   \n",
       "3  Fri Jun 18 17:56:10 +0000 2021   \n",
       "4  Fri Jun 18 17:56:20 +0000 2021   \n",
       "\n",
       "                                              source  \\\n",
       "0  <a href=\"http://twitter.com/download/iphone\" r...   \n",
       "1  <a href=\"https://mobile.twitter.com\" rel=\"nofo...   \n",
       "2  <a href=\"http://twitter.com/download/iphone\" r...   \n",
       "3  <a href=\"https://mobile.twitter.com\" rel=\"nofo...   \n",
       "4  <a href=\"http://twitter.com/download/android\" ...   \n",
       "\n",
       "                                       original_text  polarity  subjectivity  \\\n",
       "0  🚨Africa is \"in the midst of a full-blown third...  0.166667      0.188889   \n",
       "1  Dr Moeti is head of WHO in Africa, and one of ...  0.133333      0.455556   \n",
       "2  Thank you @research2note for creating this ama...  0.316667      0.483333   \n",
       "3  Former Pfizer VP and Virologist, Dr. Michael Y...  0.086111      0.197222   \n",
       "4  I think it’s important that we don’t sell COVA...  0.280000      0.620000   \n",
       "\n",
       "  lang  favorite_count  retweet_count original_author  followers_count  \\\n",
       "0   en             548            612     ketuesriche              551   \n",
       "1   en             195             92        Grid1949               66   \n",
       "2   en               2              1   LeeTomlinson8             1195   \n",
       "3   en            1580            899         RIPNY08             2666   \n",
       "4   en              72             20          pash22            28250   \n",
       "\n",
       "   friends_count possibly_sensitive  \\\n",
       "0            351              False   \n",
       "1             92              False   \n",
       "2           1176               None   \n",
       "3           2704              False   \n",
       "4          30819               None   \n",
       "\n",
       "                                            hashtags  \\\n",
       "0                                                 []   \n",
       "1                                                 []   \n",
       "2  [{'text': 'red4research', 'indices': [103, 116]}]   \n",
       "3                                                 []   \n",
       "4                                                 []   \n",
       "\n",
       "                                       user_mentions                place  \n",
       "0  [{'screen_name': 'TelGlobalHealth', 'name': 'T...                 Mass  \n",
       "1  [{'screen_name': 'globalhlthtwit', 'name': 'An...  Edinburgh, Scotland  \n",
       "2  [{'screen_name': 'NHSRDForum', 'name': 'NHS R&...                 None  \n",
       "3  [{'screen_name': 'HighWireTalk', 'name': 'The ...                 None  \n",
       "4  [{'screen_name': 'PeterHotez', 'name': 'Prof P...       United Kingdom  "
      ],
      "text/html": "<div>\n<style scoped>\n    .dataframe tbody tr th:only-of-type {\n        vertical-align: middle;\n    }\n\n    .dataframe tbody tr th {\n        vertical-align: top;\n    }\n\n    .dataframe thead th {\n        text-align: right;\n    }\n</style>\n<table border=\"1\" class=\"dataframe\">\n  <thead>\n    <tr style=\"text-align: right;\">\n      <th></th>\n      <th>created_at</th>\n      <th>source</th>\n      <th>original_text</th>\n      <th>polarity</th>\n      <th>subjectivity</th>\n      <th>lang</th>\n      <th>favorite_count</th>\n      <th>retweet_count</th>\n      <th>original_author</th>\n      <th>followers_count</th>\n      <th>friends_count</th>\n      <th>possibly_sensitive</th>\n      <th>hashtags</th>\n      <th>user_mentions</th>\n      <th>place</th>\n    </tr>\n  </thead>\n  <tbody>\n    <tr>\n      <th>0</th>\n      <td>Fri Jun 18 17:55:49 +0000 2021</td>\n      <td>&lt;a href=\"http://twitter.com/download/iphone\" r...</td>\n      <td>🚨Africa is \"in the midst of a full-blown third...</td>\n      <td>0.166667</td>\n      <td>0.188889</td>\n      <td>en</td>\n      <td>548</td>\n      <td>612</td>\n      <td>ketuesriche</td>\n      <td>551</td>\n      <td>351</td>\n      <td>False</td>\n      <td>[]</td>\n      <td>[{'screen_name': 'TelGlobalHealth', 'name': 'T...</td>\n      <td>Mass</td>\n    </tr>\n    <tr>\n      <th>1</th>\n      <td>Fri Jun 18 17:55:59 +0000 2021</td>\n      <td>&lt;a href=\"https://mobile.twitter.com\" rel=\"nofo...</td>\n      <td>Dr Moeti is head of WHO in Africa, and one of ...</td>\n      <td>0.133333</td>\n      <td>0.455556</td>\n      <td>en</td>\n      <td>195</td>\n      <td>92</td>\n      <td>Grid1949</td>\n      <td>66</td>\n      <td>92</td>\n      <td>False</td>\n      <td>[]</td>\n      <td>[{'screen_name': 'globalhlthtwit', 'name': 'An...</td>\n      <td>Edinburgh, Scotland</td>\n    </tr>\n    <tr>\n      <th>2</th>\n      <td>Fri Jun 18 17:56:07 +0000 2021</td>\n      <td>&lt;a href=\"http://twitter.com/download/iphone\" r...</td>\n      <td>Thank you @research2note for creating this ama...</td>\n      <td>0.316667</td>\n      <td>0.483333</td>\n      <td>en</td>\n      <td>2</td>\n      <td>1</td>\n      <td>LeeTomlinson8</td>\n      <td>1195</td>\n      <td>1176</td>\n      <td>None</td>\n      <td>[{'text': 'red4research', 'indices': [103, 116]}]</td>\n      <td>[{'screen_name': 'NHSRDForum', 'name': 'NHS R&amp;...</td>\n      <td>None</td>\n    </tr>\n    <tr>\n      <th>3</th>\n      <td>Fri Jun 18 17:56:10 +0000 2021</td>\n      <td>&lt;a href=\"https://mobile.twitter.com\" rel=\"nofo...</td>\n      <td>Former Pfizer VP and Virologist, Dr. Michael Y...</td>\n      <td>0.086111</td>\n      <td>0.197222</td>\n      <td>en</td>\n      <td>1580</td>\n      <td>899</td>\n      <td>RIPNY08</td>\n      <td>2666</td>\n      <td>2704</td>\n      <td>False</td>\n      <td>[]</td>\n      <td>[{'screen_name': 'HighWireTalk', 'name': 'The ...</td>\n      <td>None</td>\n    </tr>\n    <tr>\n      <th>4</th>\n      <td>Fri Jun 18 17:56:20 +0000 2021</td>\n      <td>&lt;a href=\"http://twitter.com/download/android\" ...</td>\n      <td>I think it’s important that we don’t sell COVA...</td>\n      <td>0.280000</td>\n      <td>0.620000</td>\n      <td>en</td>\n      <td>72</td>\n      <td>20</td>\n      <td>pash22</td>\n      <td>28250</td>\n      <td>30819</td>\n      <td>None</td>\n      <td>[]</td>\n      <td>[{'screen_name': 'PeterHotez', 'name': 'Prof P...</td>\n      <td>United Kingdom</td>\n    </tr>\n  </tbody>\n</table>\n</div>"
     },
     "metadata": {},
     "execution_count": 2
    }
   ],
   "source": [
    "tweets_df_extractor = TweetDfExtractor(tweet_list)\n",
    "tweets_df = tweets_df_extractor.get_tweet_df()\n",
    "tweets_df.head()"
   ]
  },
  {
   "source": [
    "tweets_df.info()"
   ],
   "cell_type": "code",
   "metadata": {},
   "execution_count": 3,
   "outputs": [
    {
     "output_type": "stream",
     "name": "stdout",
     "text": [
      "<class 'pandas.core.frame.DataFrame'>\nRangeIndex: 6532 entries, 0 to 6531\nData columns (total 15 columns):\n #   Column              Non-Null Count  Dtype  \n---  ------              --------------  -----  \n 0   created_at          6532 non-null   object \n 1   source              6532 non-null   object \n 2   original_text       6532 non-null   object \n 3   polarity            6532 non-null   float64\n 4   subjectivity        6532 non-null   float64\n 5   lang                6532 non-null   object \n 6   favorite_count      6532 non-null   int64  \n 7   retweet_count       6532 non-null   int64  \n 8   original_author     6532 non-null   object \n 9   followers_count     6532 non-null   int64  \n 10  friends_count       6532 non-null   int64  \n 11  possibly_sensitive  3618 non-null   object \n 12  hashtags            6532 non-null   object \n 13  user_mentions       6532 non-null   object \n 14  place               4088 non-null   object \ndtypes: float64(2), int64(4), object(9)\nmemory usage: 765.6+ KB\n"
     ]
    }
   ]
  },
  {
   "source": [
    "<h2>Missing values<h2>"
   ],
   "cell_type": "markdown",
   "metadata": {}
  },
  {
   "cell_type": "code",
   "execution_count": 4,
   "metadata": {},
   "outputs": [
    {
     "output_type": "execute_result",
     "data": {
      "text/plain": [
       "created_at               0\n",
       "source                   0\n",
       "original_text            0\n",
       "polarity                 0\n",
       "subjectivity             0\n",
       "lang                     0\n",
       "favorite_count           0\n",
       "retweet_count            0\n",
       "original_author          0\n",
       "followers_count          0\n",
       "friends_count            0\n",
       "possibly_sensitive    2914\n",
       "hashtags                 0\n",
       "user_mentions            0\n",
       "place                 2444\n",
       "dtype: int64"
      ]
     },
     "metadata": {},
     "execution_count": 4
    }
   ],
   "source": [
    "tweets_df.isna().sum()"
   ]
  },
  {
   "source": [
    "<h2>Remove unwanted columns<h2>"
   ],
   "cell_type": "markdown",
   "metadata": {}
  },
  {
   "cell_type": "code",
   "execution_count": 6,
   "metadata": {},
   "outputs": [],
   "source": [
    "from clean_tweets_dataframe import Clean_Tweets"
   ]
  },
  {
   "cell_type": "code",
   "execution_count": 7,
   "metadata": {},
   "outputs": [
    {
     "output_type": "stream",
     "name": "stdout",
     "text": [
      "Automation in Action...!!!\n"
     ]
    },
    {
     "output_type": "execute_result",
     "data": {
      "text/plain": [
       "Index(['created_at', 'source', 'original_text', 'polarity', 'subjectivity',\n",
       "       'lang', 'favorite_count', 'retweet_count', 'original_author',\n",
       "       'followers_count', 'friends_count', 'hashtags', 'user_mentions',\n",
       "       'place'],\n",
       "      dtype='object')"
      ]
     },
     "metadata": {},
     "execution_count": 7
    }
   ],
   "source": [
    "# remove \"possibly_sensitive\" column\n",
    "clean_tweets = Clean_Tweets(tweets_df)\n",
    "tweets_df = clean_tweets.drop_unwanted_column(tweets_df, [\"possibly_sensitive\"])\n",
    "tweets_df.columns"
   ]
  },
  {
   "source": [
    "<h2>Drop duplicates<h2>"
   ],
   "cell_type": "markdown",
   "metadata": {}
  },
  {
   "cell_type": "code",
   "execution_count": 8,
   "metadata": {},
   "outputs": [
    {
     "output_type": "execute_result",
     "data": {
      "text/plain": [
       "(6532, 14)"
      ]
     },
     "metadata": {},
     "execution_count": 8
    }
   ],
   "source": [
    "# shape of tweets_df\n",
    "tweets_df.shape"
   ]
  },
  {
   "cell_type": "code",
   "execution_count": 11,
   "metadata": {},
   "outputs": [
    {
     "output_type": "execute_result",
     "data": {
      "text/plain": [
       "(6532, 14)"
      ]
     },
     "metadata": {},
     "execution_count": 11
    }
   ],
   "source": [
    "tweets_df = clean_tweets.drop_duplicate(tweets_df)\n",
    "tweets_df.shape"
   ]
  },
  {
   "source": [
    "There were no duplicate rows."
   ],
   "cell_type": "markdown",
   "metadata": {}
  },
  {
   "source": [
    "<h2>Convert to datetime<h2>"
   ],
   "cell_type": "markdown",
   "metadata": {}
  },
  {
   "cell_type": "code",
   "execution_count": 13,
   "metadata": {},
   "outputs": [
    {
     "output_type": "stream",
     "name": "stdout",
     "text": [
      "<class 'pandas.core.frame.DataFrame'>\nRangeIndex: 6532 entries, 0 to 6531\nData columns (total 14 columns):\n #   Column           Non-Null Count  Dtype              \n---  ------           --------------  -----              \n 0   created_at       6532 non-null   datetime64[ns, UTC]\n 1   source           6532 non-null   object             \n 2   original_text    6532 non-null   object             \n 3   polarity         6532 non-null   float64            \n 4   subjectivity     6532 non-null   float64            \n 5   lang             6532 non-null   object             \n 6   favorite_count   6532 non-null   int64              \n 7   retweet_count    6532 non-null   int64              \n 8   original_author  6532 non-null   object             \n 9   followers_count  6532 non-null   int64              \n 10  friends_count    6532 non-null   int64              \n 11  hashtags         6532 non-null   object             \n 12  user_mentions    6532 non-null   object             \n 13  place            4088 non-null   object             \ndtypes: datetime64[ns, UTC](1), float64(2), int64(4), object(7)\nmemory usage: 714.6+ KB\n"
     ]
    }
   ],
   "source": [
    "tweets_df = clean_tweets.convert_to_datetime(tweets_df)\n",
    "tweets_df.info()"
   ]
  },
  {
   "source": [
    "<h2>Remove tweets that are not english<h2>"
   ],
   "cell_type": "markdown",
   "metadata": {}
  },
  {
   "cell_type": "code",
   "execution_count": 14,
   "metadata": {},
   "outputs": [
    {
     "output_type": "execute_result",
     "data": {
      "text/plain": [
       "(6532, 14)"
      ]
     },
     "metadata": {},
     "execution_count": 14
    }
   ],
   "source": [
    "tweets_df.shape"
   ]
  },
  {
   "cell_type": "code",
   "execution_count": 15,
   "metadata": {},
   "outputs": [
    {
     "output_type": "execute_result",
     "data": {
      "text/plain": [
       "(6532, 14)"
      ]
     },
     "metadata": {},
     "execution_count": 15
    }
   ],
   "source": [
    "tweets_df = clean_tweets.remove_non_english_tweets(tweets_df)\n",
    "tweets_df.shape"
   ]
  },
  {
   "source": [
    "There are no non-english tweets."
   ],
   "cell_type": "markdown",
   "metadata": {}
  },
  {
   "source": [
    "<h2>Clean original_text<h2>"
   ],
   "cell_type": "markdown",
   "metadata": {}
  },
  {
   "cell_type": "code",
   "execution_count": 22,
   "metadata": {},
   "outputs": [
    {
     "output_type": "stream",
     "name": "stderr",
     "text": [
      "<ipython-input-22-1da51f7bb4c2>:2: FutureWarning: The default value of regex will change from True to False in a future version.\n  tweets_df[\"clean_text\"] = tweets_df[\"original_text\"].str.replace(\"[^a-zA-Z#@\\s]\", \"\")\n"
     ]
    },
    {
     "output_type": "execute_result",
     "data": {
      "text/plain": [
       "                                          original_text  \\\n",
       "0     🚨Africa is \"in the midst of a full-blown third...   \n",
       "1     Dr Moeti is head of WHO in Africa, and one of ...   \n",
       "2     Thank you @research2note for creating this ama...   \n",
       "3     Former Pfizer VP and Virologist, Dr. Michael Y...   \n",
       "4     I think it’s important that we don’t sell COVA...   \n",
       "...                                                 ...   \n",
       "6527  RT @Givenkazeni: Zweli please just release the...   \n",
       "6528  Former Pfizer VP and Virologist, Dr. Michael Y...   \n",
       "6529  @Jenfeds73 @DcrInYYC Respectfully, veterinaria...   \n",
       "6530  \"Africa needs millions more doses here &amp; n...   \n",
       "6531  RT @shawajason: Liars. You tried to load off y...   \n",
       "\n",
       "                                             clean_text  \n",
       "0     Africa is in the midst of a fullblown third wa...  \n",
       "1     Dr Moeti is head of WHO in Africa and one of t...  \n",
       "2     Thank you @researchnote for creating this amaz...  \n",
       "3     Former Pfizer VP and Virologist Dr Michael Yea...  \n",
       "4     I think its important that we dont sell COVAX ...  \n",
       "...                                                 ...  \n",
       "6527  RT @Givenkazeni Zweli please just release the ...  \n",
       "6528  Former Pfizer VP and Virologist Dr Michael Yea...  \n",
       "6529  @Jenfeds @DcrInYYC Respectfully veterinarians ...  \n",
       "6530  Africa needs millions more doses here amp now ...  \n",
       "6531  RT @shawajason Liars You tried to load off you...  \n",
       "\n",
       "[6532 rows x 2 columns]"
      ],
      "text/html": "<div>\n<style scoped>\n    .dataframe tbody tr th:only-of-type {\n        vertical-align: middle;\n    }\n\n    .dataframe tbody tr th {\n        vertical-align: top;\n    }\n\n    .dataframe thead th {\n        text-align: right;\n    }\n</style>\n<table border=\"1\" class=\"dataframe\">\n  <thead>\n    <tr style=\"text-align: right;\">\n      <th></th>\n      <th>original_text</th>\n      <th>clean_text</th>\n    </tr>\n  </thead>\n  <tbody>\n    <tr>\n      <th>0</th>\n      <td>🚨Africa is \"in the midst of a full-blown third...</td>\n      <td>Africa is in the midst of a fullblown third wa...</td>\n    </tr>\n    <tr>\n      <th>1</th>\n      <td>Dr Moeti is head of WHO in Africa, and one of ...</td>\n      <td>Dr Moeti is head of WHO in Africa and one of t...</td>\n    </tr>\n    <tr>\n      <th>2</th>\n      <td>Thank you @research2note for creating this ama...</td>\n      <td>Thank you @researchnote for creating this amaz...</td>\n    </tr>\n    <tr>\n      <th>3</th>\n      <td>Former Pfizer VP and Virologist, Dr. Michael Y...</td>\n      <td>Former Pfizer VP and Virologist Dr Michael Yea...</td>\n    </tr>\n    <tr>\n      <th>4</th>\n      <td>I think it’s important that we don’t sell COVA...</td>\n      <td>I think its important that we dont sell COVAX ...</td>\n    </tr>\n    <tr>\n      <th>...</th>\n      <td>...</td>\n      <td>...</td>\n    </tr>\n    <tr>\n      <th>6527</th>\n      <td>RT @Givenkazeni: Zweli please just release the...</td>\n      <td>RT @Givenkazeni Zweli please just release the ...</td>\n    </tr>\n    <tr>\n      <th>6528</th>\n      <td>Former Pfizer VP and Virologist, Dr. Michael Y...</td>\n      <td>Former Pfizer VP and Virologist Dr Michael Yea...</td>\n    </tr>\n    <tr>\n      <th>6529</th>\n      <td>@Jenfeds73 @DcrInYYC Respectfully, veterinaria...</td>\n      <td>@Jenfeds @DcrInYYC Respectfully veterinarians ...</td>\n    </tr>\n    <tr>\n      <th>6530</th>\n      <td>\"Africa needs millions more doses here &amp;amp; n...</td>\n      <td>Africa needs millions more doses here amp now ...</td>\n    </tr>\n    <tr>\n      <th>6531</th>\n      <td>RT @shawajason: Liars. You tried to load off y...</td>\n      <td>RT @shawajason Liars You tried to load off you...</td>\n    </tr>\n  </tbody>\n</table>\n<p>6532 rows × 2 columns</p>\n</div>"
     },
     "metadata": {},
     "execution_count": 22
    }
   ],
   "source": [
    "# remove non-alphabetic characters\n",
    "tweets_df[\"clean_text\"] = tweets_df[\"original_text\"].str.replace(\"[^a-zA-Z#@\\s]\", \"\")\n",
    "tweets_df[\"clean_text\"] = tweets_df[\"clean_text\"].str.replace(\"\\n\", \"\\s\")\n",
    "tweets_df[[\"original_text\", \"clean_text\"]]"
   ]
  },
  {
   "source": [
    "<h2>Save pre-processed data<h2>"
   ],
   "cell_type": "markdown",
   "metadata": {}
  },
  {
   "cell_type": "code",
   "execution_count": 23,
   "metadata": {},
   "outputs": [],
   "source": [
    "tweets_df.to_csv(\"../data/processed_tweets.csv\")"
   ]
  },
  {
   "source": [
    "<h1>Data Exploration<h1>"
   ],
   "cell_type": "markdown",
   "metadata": {}
  },
  {
   "source": [
    "<h2>Basic info<h2>"
   ],
   "cell_type": "markdown",
   "metadata": {}
  },
  {
   "cell_type": "code",
   "execution_count": 26,
   "metadata": {},
   "outputs": [],
   "source": [
    "tweets_df = pd.read_csv(\"../data/processed_tweets.csv\")"
   ]
  },
  {
   "cell_type": "code",
   "execution_count": 28,
   "metadata": {},
   "outputs": [
    {
     "output_type": "execute_result",
     "data": {
      "text/plain": [
       "(6532, 16)"
      ]
     },
     "metadata": {},
     "execution_count": 28
    }
   ],
   "source": [
    "# shape of dataframe\n",
    "tweets_df.shape"
   ]
  },
  {
   "cell_type": "code",
   "execution_count": 29,
   "metadata": {},
   "outputs": [
    {
     "output_type": "stream",
     "name": "stdout",
     "text": [
      "<class 'pandas.core.frame.DataFrame'>\nRangeIndex: 6532 entries, 0 to 6531\nData columns (total 16 columns):\n #   Column           Non-Null Count  Dtype  \n---  ------           --------------  -----  \n 0   Unnamed: 0       6532 non-null   int64  \n 1   created_at       6532 non-null   object \n 2   source           6532 non-null   object \n 3   original_text    6532 non-null   object \n 4   polarity         6532 non-null   float64\n 5   subjectivity     6532 non-null   float64\n 6   lang             6532 non-null   object \n 7   favorite_count   6532 non-null   int64  \n 8   retweet_count    6532 non-null   int64  \n 9   original_author  6532 non-null   object \n 10  followers_count  6532 non-null   int64  \n 11  friends_count    6532 non-null   int64  \n 12  hashtags         6532 non-null   object \n 13  user_mentions    6532 non-null   object \n 14  place            4088 non-null   object \n 15  clean_text       6532 non-null   object \ndtypes: float64(2), int64(5), object(9)\nmemory usage: 816.6+ KB\n"
     ]
    }
   ],
   "source": [
    "# general info about null values, data types, columns\n",
    "tweets_df.info()"
   ]
  },
  {
   "cell_type": "code",
   "execution_count": 30,
   "metadata": {},
   "outputs": [
    {
     "output_type": "execute_result",
     "data": {
      "text/plain": [
       "        Unnamed: 0     polarity  subjectivity  favorite_count  retweet_count  \\\n",
       "count  6532.000000  6532.000000   6532.000000     6532.000000    6532.000000   \n",
       "mean   3265.500000     0.050195      0.412159      242.896050     126.928353   \n",
       "std    1885.770311     0.311941      0.316800      617.588401     258.437016   \n",
       "min       0.000000    -1.000000      0.000000        0.000000       0.000000   \n",
       "25%    1632.750000     0.000000      0.125000        0.000000       0.000000   \n",
       "50%    3265.500000     0.028125      0.400000       28.000000      14.000000   \n",
       "75%    4898.250000     0.207273      0.633333      309.000000     131.250000   \n",
       "max    6531.000000     1.000000      1.000000    20527.000000    6847.000000   \n",
       "\n",
       "       followers_count  friends_count  \n",
       "count     6.532000e+03    6532.000000  \n",
       "mean      1.649915e+04    1707.652021  \n",
       "std       2.597877e+05    5148.761957  \n",
       "min       0.000000e+00       0.000000  \n",
       "25%       8.900000e+01     162.000000  \n",
       "50%       4.545000e+02     560.500000  \n",
       "75%       1.769000e+03    1765.000000  \n",
       "max       1.366658e+07  237298.000000  "
      ],
      "text/html": "<div>\n<style scoped>\n    .dataframe tbody tr th:only-of-type {\n        vertical-align: middle;\n    }\n\n    .dataframe tbody tr th {\n        vertical-align: top;\n    }\n\n    .dataframe thead th {\n        text-align: right;\n    }\n</style>\n<table border=\"1\" class=\"dataframe\">\n  <thead>\n    <tr style=\"text-align: right;\">\n      <th></th>\n      <th>Unnamed: 0</th>\n      <th>polarity</th>\n      <th>subjectivity</th>\n      <th>favorite_count</th>\n      <th>retweet_count</th>\n      <th>followers_count</th>\n      <th>friends_count</th>\n    </tr>\n  </thead>\n  <tbody>\n    <tr>\n      <th>count</th>\n      <td>6532.000000</td>\n      <td>6532.000000</td>\n      <td>6532.000000</td>\n      <td>6532.000000</td>\n      <td>6532.000000</td>\n      <td>6.532000e+03</td>\n      <td>6532.000000</td>\n    </tr>\n    <tr>\n      <th>mean</th>\n      <td>3265.500000</td>\n      <td>0.050195</td>\n      <td>0.412159</td>\n      <td>242.896050</td>\n      <td>126.928353</td>\n      <td>1.649915e+04</td>\n      <td>1707.652021</td>\n    </tr>\n    <tr>\n      <th>std</th>\n      <td>1885.770311</td>\n      <td>0.311941</td>\n      <td>0.316800</td>\n      <td>617.588401</td>\n      <td>258.437016</td>\n      <td>2.597877e+05</td>\n      <td>5148.761957</td>\n    </tr>\n    <tr>\n      <th>min</th>\n      <td>0.000000</td>\n      <td>-1.000000</td>\n      <td>0.000000</td>\n      <td>0.000000</td>\n      <td>0.000000</td>\n      <td>0.000000e+00</td>\n      <td>0.000000</td>\n    </tr>\n    <tr>\n      <th>25%</th>\n      <td>1632.750000</td>\n      <td>0.000000</td>\n      <td>0.125000</td>\n      <td>0.000000</td>\n      <td>0.000000</td>\n      <td>8.900000e+01</td>\n      <td>162.000000</td>\n    </tr>\n    <tr>\n      <th>50%</th>\n      <td>3265.500000</td>\n      <td>0.028125</td>\n      <td>0.400000</td>\n      <td>28.000000</td>\n      <td>14.000000</td>\n      <td>4.545000e+02</td>\n      <td>560.500000</td>\n    </tr>\n    <tr>\n      <th>75%</th>\n      <td>4898.250000</td>\n      <td>0.207273</td>\n      <td>0.633333</td>\n      <td>309.000000</td>\n      <td>131.250000</td>\n      <td>1.769000e+03</td>\n      <td>1765.000000</td>\n    </tr>\n    <tr>\n      <th>max</th>\n      <td>6531.000000</td>\n      <td>1.000000</td>\n      <td>1.000000</td>\n      <td>20527.000000</td>\n      <td>6847.000000</td>\n      <td>1.366658e+07</td>\n      <td>237298.000000</td>\n    </tr>\n  </tbody>\n</table>\n</div>"
     },
     "metadata": {},
     "execution_count": 30
    }
   ],
   "source": [
    "# stats about numerical columns\n",
    "tweets_df.describe()"
   ]
  },
  {
   "cell_type": "code",
   "execution_count": null,
   "metadata": {},
   "outputs": [],
   "source": []
  }
 ]
}