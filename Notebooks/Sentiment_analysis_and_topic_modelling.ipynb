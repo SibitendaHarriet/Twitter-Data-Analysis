{
 "metadata": {
  "language_info": {
   "codemirror_mode": {
    "name": "ipython",
    "version": 3
   },
   "file_extension": ".py",
   "mimetype": "text/x-python",
   "name": "python",
   "nbconvert_exporter": "python",
   "pygments_lexer": "ipython3",
   "version": "3.8.5"
  },
  "orig_nbformat": 2,
  "kernelspec": {
   "name": "python385jvsc74a57bd0c30745a67ab3077685183c6616f760120387d2e186c7e6a99675e86d34cdfa12",
   "display_name": "Python 3.8.5 64-bit ('base': conda)"
  }
 },
 "nbformat": 4,
 "nbformat_minor": 2,
 "cells": [
  {
   "source": [
    "<h1>Sentiment Analysis<h1>"
   ],
   "cell_type": "markdown",
   "metadata": {}
  },
  {
   "cell_type": "code",
   "execution_count": 1,
   "metadata": {},
   "outputs": [],
   "source": [
    "import pandas as pd"
   ]
  },
  {
   "cell_type": "code",
   "execution_count": 2,
   "metadata": {},
   "outputs": [
    {
     "output_type": "execute_result",
     "data": {
      "text/plain": [
       "      Unnamed: 0                 created_at  \\\n",
       "0              0  2021-06-18 17:55:49+00:00   \n",
       "1              1  2021-06-18 17:55:59+00:00   \n",
       "2              2  2021-06-18 17:56:07+00:00   \n",
       "3              3  2021-06-18 17:56:10+00:00   \n",
       "4              4  2021-06-18 17:56:20+00:00   \n",
       "...          ...                        ...   \n",
       "6527        6527  2021-06-19 07:41:15+00:00   \n",
       "6528        6528  2021-06-19 07:41:26+00:00   \n",
       "6529        6529  2021-06-19 07:41:31+00:00   \n",
       "6530        6530  2021-06-19 07:41:45+00:00   \n",
       "6531        6531  2021-06-19 07:41:54+00:00   \n",
       "\n",
       "                                                 source  \\\n",
       "0     <a href=\"http://twitter.com/download/iphone\" r...   \n",
       "1     <a href=\"https://mobile.twitter.com\" rel=\"nofo...   \n",
       "2     <a href=\"http://twitter.com/download/iphone\" r...   \n",
       "3     <a href=\"https://mobile.twitter.com\" rel=\"nofo...   \n",
       "4     <a href=\"http://twitter.com/download/android\" ...   \n",
       "...                                                 ...   \n",
       "6527  <a href=\"http://twitter.com/download/android\" ...   \n",
       "6528  <a href=\"http://twitter.com/download/android\" ...   \n",
       "6529  <a href=\"http://twitter.com/download/iphone\" r...   \n",
       "6530  <a href=\"http://twitter.com/download/iphone\" r...   \n",
       "6531  <a href=\"https://mobile.twitter.com\" rel=\"nofo...   \n",
       "\n",
       "                                          original_text  polarity  \\\n",
       "0     🚨Africa is \"in the midst of a full-blown third...  0.166667   \n",
       "1     Dr Moeti is head of WHO in Africa, and one of ...  0.133333   \n",
       "2     Thank you @research2note for creating this ama...  0.316667   \n",
       "3     Former Pfizer VP and Virologist, Dr. Michael Y...  0.086111   \n",
       "4     I think it’s important that we don’t sell COVA...  0.280000   \n",
       "...                                                 ...       ...   \n",
       "6527  RT @Givenkazeni: Zweli please just release the...  0.000000   \n",
       "6528  Former Pfizer VP and Virologist, Dr. Michael Y...  0.086111   \n",
       "6529  @Jenfeds73 @DcrInYYC Respectfully, veterinaria...  0.281250   \n",
       "6530  \"Africa needs millions more doses here &amp; n...  0.125000   \n",
       "6531  RT @shawajason: Liars. You tried to load off y...  0.000000   \n",
       "\n",
       "      subjectivity lang  favorite_count  retweet_count original_author  \\\n",
       "0         0.188889   en             548            612     ketuesriche   \n",
       "1         0.455556   en             195             92        Grid1949   \n",
       "2         0.483333   en               2              1   LeeTomlinson8   \n",
       "3         0.197222   en            1580            899         RIPNY08   \n",
       "4         0.620000   en              72             20          pash22   \n",
       "...            ...  ...             ...            ...             ...   \n",
       "6527      0.400000   en             188             54    Mthatos_Vivi   \n",
       "6528      0.197222   en            1595            908     wayno_af007   \n",
       "6529      0.506250   en               0              0    dublonothing   \n",
       "6530      0.325000   en             143            122    DrAmirKhanGP   \n",
       "6531      0.000000   en             903            921      jepigepas_   \n",
       "\n",
       "      followers_count  friends_count  \\\n",
       "0                 551            351   \n",
       "1                  66             92   \n",
       "2                1195           1176   \n",
       "3                2666           2704   \n",
       "4               28250          30819   \n",
       "...               ...            ...   \n",
       "6527              447           1089   \n",
       "6528             2224           2739   \n",
       "6529             3000           4709   \n",
       "6530           135163           1284   \n",
       "6531              160            712   \n",
       "\n",
       "                                               hashtags  \\\n",
       "0                                                    []   \n",
       "1                                                    []   \n",
       "2     [{'text': 'red4research', 'indices': [103, 116]}]   \n",
       "3                                                    []   \n",
       "4                                                    []   \n",
       "...                                                 ...   \n",
       "6527                                                 []   \n",
       "6528                                                 []   \n",
       "6529                                                 []   \n",
       "6530       [{'text': 'COVID19', 'indices': [120, 128]}]   \n",
       "6531                                                 []   \n",
       "\n",
       "                                          user_mentions  \\\n",
       "0     [{'screen_name': 'TelGlobalHealth', 'name': 'T...   \n",
       "1     [{'screen_name': 'globalhlthtwit', 'name': 'An...   \n",
       "2     [{'screen_name': 'NHSRDForum', 'name': 'NHS R&...   \n",
       "3     [{'screen_name': 'HighWireTalk', 'name': 'The ...   \n",
       "4     [{'screen_name': 'PeterHotez', 'name': 'Prof P...   \n",
       "...                                                 ...   \n",
       "6527  [{'screen_name': 'Givenkazeni', 'name': 'le’Gi...   \n",
       "6528  [{'screen_name': 'HighWireTalk', 'name': 'The ...   \n",
       "6529  [{'screen_name': 'Jenfeds73', 'name': 'Bubs 🇨🇦...   \n",
       "6530  [{'screen_name': 'WHOAFRO', 'name': 'WHO Afric...   \n",
       "6531  [{'screen_name': 'shawajason', 'name': 'J. Sha...   \n",
       "\n",
       "                         place  \\\n",
       "0                         Mass   \n",
       "1          Edinburgh, Scotland   \n",
       "2                          NaN   \n",
       "3                          NaN   \n",
       "4               United Kingdom   \n",
       "...                        ...   \n",
       "6527                       NaN   \n",
       "6528              The boro, MA   \n",
       "6529           Los Angeles, CA   \n",
       "6530  Yorkshire and The Humber   \n",
       "6531                       NaN   \n",
       "\n",
       "                                             clean_text  \n",
       "0     Africa is in the midst of a fullblown third wa...  \n",
       "1     Dr Moeti is head of WHO in Africa and one of t...  \n",
       "2     Thank you @researchnote for creating this amaz...  \n",
       "3     Former Pfizer VP and Virologist Dr Michael Yea...  \n",
       "4     I think its important that we dont sell COVAX ...  \n",
       "...                                                 ...  \n",
       "6527  RT @Givenkazeni Zweli please just release the ...  \n",
       "6528  Former Pfizer VP and Virologist Dr Michael Yea...  \n",
       "6529  @Jenfeds @DcrInYYC Respectfully veterinarians ...  \n",
       "6530  Africa needs millions more doses here amp now ...  \n",
       "6531  RT @shawajason Liars You tried to load off you...  \n",
       "\n",
       "[6532 rows x 16 columns]"
      ],
      "text/html": "<div>\n<style scoped>\n    .dataframe tbody tr th:only-of-type {\n        vertical-align: middle;\n    }\n\n    .dataframe tbody tr th {\n        vertical-align: top;\n    }\n\n    .dataframe thead th {\n        text-align: right;\n    }\n</style>\n<table border=\"1\" class=\"dataframe\">\n  <thead>\n    <tr style=\"text-align: right;\">\n      <th></th>\n      <th>Unnamed: 0</th>\n      <th>created_at</th>\n      <th>source</th>\n      <th>original_text</th>\n      <th>polarity</th>\n      <th>subjectivity</th>\n      <th>lang</th>\n      <th>favorite_count</th>\n      <th>retweet_count</th>\n      <th>original_author</th>\n      <th>followers_count</th>\n      <th>friends_count</th>\n      <th>hashtags</th>\n      <th>user_mentions</th>\n      <th>place</th>\n      <th>clean_text</th>\n    </tr>\n  </thead>\n  <tbody>\n    <tr>\n      <th>0</th>\n      <td>0</td>\n      <td>2021-06-18 17:55:49+00:00</td>\n      <td>&lt;a href=\"http://twitter.com/download/iphone\" r...</td>\n      <td>🚨Africa is \"in the midst of a full-blown third...</td>\n      <td>0.166667</td>\n      <td>0.188889</td>\n      <td>en</td>\n      <td>548</td>\n      <td>612</td>\n      <td>ketuesriche</td>\n      <td>551</td>\n      <td>351</td>\n      <td>[]</td>\n      <td>[{'screen_name': 'TelGlobalHealth', 'name': 'T...</td>\n      <td>Mass</td>\n      <td>Africa is in the midst of a fullblown third wa...</td>\n    </tr>\n    <tr>\n      <th>1</th>\n      <td>1</td>\n      <td>2021-06-18 17:55:59+00:00</td>\n      <td>&lt;a href=\"https://mobile.twitter.com\" rel=\"nofo...</td>\n      <td>Dr Moeti is head of WHO in Africa, and one of ...</td>\n      <td>0.133333</td>\n      <td>0.455556</td>\n      <td>en</td>\n      <td>195</td>\n      <td>92</td>\n      <td>Grid1949</td>\n      <td>66</td>\n      <td>92</td>\n      <td>[]</td>\n      <td>[{'screen_name': 'globalhlthtwit', 'name': 'An...</td>\n      <td>Edinburgh, Scotland</td>\n      <td>Dr Moeti is head of WHO in Africa and one of t...</td>\n    </tr>\n    <tr>\n      <th>2</th>\n      <td>2</td>\n      <td>2021-06-18 17:56:07+00:00</td>\n      <td>&lt;a href=\"http://twitter.com/download/iphone\" r...</td>\n      <td>Thank you @research2note for creating this ama...</td>\n      <td>0.316667</td>\n      <td>0.483333</td>\n      <td>en</td>\n      <td>2</td>\n      <td>1</td>\n      <td>LeeTomlinson8</td>\n      <td>1195</td>\n      <td>1176</td>\n      <td>[{'text': 'red4research', 'indices': [103, 116]}]</td>\n      <td>[{'screen_name': 'NHSRDForum', 'name': 'NHS R&amp;...</td>\n      <td>NaN</td>\n      <td>Thank you @researchnote for creating this amaz...</td>\n    </tr>\n    <tr>\n      <th>3</th>\n      <td>3</td>\n      <td>2021-06-18 17:56:10+00:00</td>\n      <td>&lt;a href=\"https://mobile.twitter.com\" rel=\"nofo...</td>\n      <td>Former Pfizer VP and Virologist, Dr. Michael Y...</td>\n      <td>0.086111</td>\n      <td>0.197222</td>\n      <td>en</td>\n      <td>1580</td>\n      <td>899</td>\n      <td>RIPNY08</td>\n      <td>2666</td>\n      <td>2704</td>\n      <td>[]</td>\n      <td>[{'screen_name': 'HighWireTalk', 'name': 'The ...</td>\n      <td>NaN</td>\n      <td>Former Pfizer VP and Virologist Dr Michael Yea...</td>\n    </tr>\n    <tr>\n      <th>4</th>\n      <td>4</td>\n      <td>2021-06-18 17:56:20+00:00</td>\n      <td>&lt;a href=\"http://twitter.com/download/android\" ...</td>\n      <td>I think it’s important that we don’t sell COVA...</td>\n      <td>0.280000</td>\n      <td>0.620000</td>\n      <td>en</td>\n      <td>72</td>\n      <td>20</td>\n      <td>pash22</td>\n      <td>28250</td>\n      <td>30819</td>\n      <td>[]</td>\n      <td>[{'screen_name': 'PeterHotez', 'name': 'Prof P...</td>\n      <td>United Kingdom</td>\n      <td>I think its important that we dont sell COVAX ...</td>\n    </tr>\n    <tr>\n      <th>...</th>\n      <td>...</td>\n      <td>...</td>\n      <td>...</td>\n      <td>...</td>\n      <td>...</td>\n      <td>...</td>\n      <td>...</td>\n      <td>...</td>\n      <td>...</td>\n      <td>...</td>\n      <td>...</td>\n      <td>...</td>\n      <td>...</td>\n      <td>...</td>\n      <td>...</td>\n      <td>...</td>\n    </tr>\n    <tr>\n      <th>6527</th>\n      <td>6527</td>\n      <td>2021-06-19 07:41:15+00:00</td>\n      <td>&lt;a href=\"http://twitter.com/download/android\" ...</td>\n      <td>RT @Givenkazeni: Zweli please just release the...</td>\n      <td>0.000000</td>\n      <td>0.400000</td>\n      <td>en</td>\n      <td>188</td>\n      <td>54</td>\n      <td>Mthatos_Vivi</td>\n      <td>447</td>\n      <td>1089</td>\n      <td>[]</td>\n      <td>[{'screen_name': 'Givenkazeni', 'name': 'le’Gi...</td>\n      <td>NaN</td>\n      <td>RT @Givenkazeni Zweli please just release the ...</td>\n    </tr>\n    <tr>\n      <th>6528</th>\n      <td>6528</td>\n      <td>2021-06-19 07:41:26+00:00</td>\n      <td>&lt;a href=\"http://twitter.com/download/android\" ...</td>\n      <td>Former Pfizer VP and Virologist, Dr. Michael Y...</td>\n      <td>0.086111</td>\n      <td>0.197222</td>\n      <td>en</td>\n      <td>1595</td>\n      <td>908</td>\n      <td>wayno_af007</td>\n      <td>2224</td>\n      <td>2739</td>\n      <td>[]</td>\n      <td>[{'screen_name': 'HighWireTalk', 'name': 'The ...</td>\n      <td>The boro, MA</td>\n      <td>Former Pfizer VP and Virologist Dr Michael Yea...</td>\n    </tr>\n    <tr>\n      <th>6529</th>\n      <td>6529</td>\n      <td>2021-06-19 07:41:31+00:00</td>\n      <td>&lt;a href=\"http://twitter.com/download/iphone\" r...</td>\n      <td>@Jenfeds73 @DcrInYYC Respectfully, veterinaria...</td>\n      <td>0.281250</td>\n      <td>0.506250</td>\n      <td>en</td>\n      <td>0</td>\n      <td>0</td>\n      <td>dublonothing</td>\n      <td>3000</td>\n      <td>4709</td>\n      <td>[]</td>\n      <td>[{'screen_name': 'Jenfeds73', 'name': 'Bubs 🇨🇦...</td>\n      <td>Los Angeles, CA</td>\n      <td>@Jenfeds @DcrInYYC Respectfully veterinarians ...</td>\n    </tr>\n    <tr>\n      <th>6530</th>\n      <td>6530</td>\n      <td>2021-06-19 07:41:45+00:00</td>\n      <td>&lt;a href=\"http://twitter.com/download/iphone\" r...</td>\n      <td>\"Africa needs millions more doses here &amp;amp; n...</td>\n      <td>0.125000</td>\n      <td>0.325000</td>\n      <td>en</td>\n      <td>143</td>\n      <td>122</td>\n      <td>DrAmirKhanGP</td>\n      <td>135163</td>\n      <td>1284</td>\n      <td>[{'text': 'COVID19', 'indices': [120, 128]}]</td>\n      <td>[{'screen_name': 'WHOAFRO', 'name': 'WHO Afric...</td>\n      <td>Yorkshire and The Humber</td>\n      <td>Africa needs millions more doses here amp now ...</td>\n    </tr>\n    <tr>\n      <th>6531</th>\n      <td>6531</td>\n      <td>2021-06-19 07:41:54+00:00</td>\n      <td>&lt;a href=\"https://mobile.twitter.com\" rel=\"nofo...</td>\n      <td>RT @shawajason: Liars. You tried to load off y...</td>\n      <td>0.000000</td>\n      <td>0.000000</td>\n      <td>en</td>\n      <td>903</td>\n      <td>921</td>\n      <td>jepigepas_</td>\n      <td>160</td>\n      <td>712</td>\n      <td>[]</td>\n      <td>[{'screen_name': 'shawajason', 'name': 'J. Sha...</td>\n      <td>NaN</td>\n      <td>RT @shawajason Liars You tried to load off you...</td>\n    </tr>\n  </tbody>\n</table>\n<p>6532 rows × 16 columns</p>\n</div>"
     },
     "metadata": {},
     "execution_count": 2
    }
   ],
   "source": [
    "# read csv\n",
    "tweets_df = pd.read_csv(\"../data/processed_tweets.csv\")\n",
    "tweets_df"
   ]
  },
  {
   "cell_type": "code",
   "execution_count": 3,
   "metadata": {},
   "outputs": [
    {
     "output_type": "execute_result",
     "data": {
      "text/plain": [
       "                                             clean_text  polarity\n",
       "0     Africa is in the midst of a fullblown third wa...  0.166667\n",
       "1     Dr Moeti is head of WHO in Africa and one of t...  0.133333\n",
       "2     Thank you @researchnote for creating this amaz...  0.316667\n",
       "3     Former Pfizer VP and Virologist Dr Michael Yea...  0.086111\n",
       "4     I think its important that we dont sell COVAX ...  0.280000\n",
       "...                                                 ...       ...\n",
       "6527  RT @Givenkazeni Zweli please just release the ...  0.000000\n",
       "6528  Former Pfizer VP and Virologist Dr Michael Yea...  0.086111\n",
       "6529  @Jenfeds @DcrInYYC Respectfully veterinarians ...  0.281250\n",
       "6530  Africa needs millions more doses here amp now ...  0.125000\n",
       "6531  RT @shawajason Liars You tried to load off you...  0.000000\n",
       "\n",
       "[6532 rows x 2 columns]"
      ],
      "text/html": "<div>\n<style scoped>\n    .dataframe tbody tr th:only-of-type {\n        vertical-align: middle;\n    }\n\n    .dataframe tbody tr th {\n        vertical-align: top;\n    }\n\n    .dataframe thead th {\n        text-align: right;\n    }\n</style>\n<table border=\"1\" class=\"dataframe\">\n  <thead>\n    <tr style=\"text-align: right;\">\n      <th></th>\n      <th>clean_text</th>\n      <th>polarity</th>\n    </tr>\n  </thead>\n  <tbody>\n    <tr>\n      <th>0</th>\n      <td>Africa is in the midst of a fullblown third wa...</td>\n      <td>0.166667</td>\n    </tr>\n    <tr>\n      <th>1</th>\n      <td>Dr Moeti is head of WHO in Africa and one of t...</td>\n      <td>0.133333</td>\n    </tr>\n    <tr>\n      <th>2</th>\n      <td>Thank you @researchnote for creating this amaz...</td>\n      <td>0.316667</td>\n    </tr>\n    <tr>\n      <th>3</th>\n      <td>Former Pfizer VP and Virologist Dr Michael Yea...</td>\n      <td>0.086111</td>\n    </tr>\n    <tr>\n      <th>4</th>\n      <td>I think its important that we dont sell COVAX ...</td>\n      <td>0.280000</td>\n    </tr>\n    <tr>\n      <th>...</th>\n      <td>...</td>\n      <td>...</td>\n    </tr>\n    <tr>\n      <th>6527</th>\n      <td>RT @Givenkazeni Zweli please just release the ...</td>\n      <td>0.000000</td>\n    </tr>\n    <tr>\n      <th>6528</th>\n      <td>Former Pfizer VP and Virologist Dr Michael Yea...</td>\n      <td>0.086111</td>\n    </tr>\n    <tr>\n      <th>6529</th>\n      <td>@Jenfeds @DcrInYYC Respectfully veterinarians ...</td>\n      <td>0.281250</td>\n    </tr>\n    <tr>\n      <th>6530</th>\n      <td>Africa needs millions more doses here amp now ...</td>\n      <td>0.125000</td>\n    </tr>\n    <tr>\n      <th>6531</th>\n      <td>RT @shawajason Liars You tried to load off you...</td>\n      <td>0.000000</td>\n    </tr>\n  </tbody>\n</table>\n<p>6532 rows × 2 columns</p>\n</div>"
     },
     "metadata": {},
     "execution_count": 3
    }
   ],
   "source": [
    "# select necessary columns\n",
    "cleanTweet = tweets_df[[\"clean_text\", \"polarity\"]]\n",
    "cleanTweet"
   ]
  },
  {
   "cell_type": "code",
   "execution_count": 5,
   "metadata": {},
   "outputs": [],
   "source": [
    "def text_category(p):\n",
    "    \"\"\"\n",
    "    converts polarity into sentiment category\n",
    "    \"\"\"\n",
    "    if p > 0:\n",
    "        return \"positive\"\n",
    "    elif p < 0:\n",
    "        return \"negative\"\n",
    "    else:\n",
    "        return \"neutral\""
   ]
  },
  {
   "cell_type": "code",
   "execution_count": 7,
   "metadata": {},
   "outputs": [
    {
     "output_type": "stream",
     "name": "stderr",
     "text": [
      "<ipython-input-7-7dc36e6da1c4>:1: SettingWithCopyWarning: \nA value is trying to be set on a copy of a slice from a DataFrame.\nTry using .loc[row_indexer,col_indexer] = value instead\n\nSee the caveats in the documentation: https://pandas.pydata.org/pandas-docs/stable/user_guide/indexing.html#returning-a-view-versus-a-copy\n  cleanTweet[\"score\"] = cleanTweet[\"polarity\"].apply(text_category)\n"
     ]
    },
    {
     "output_type": "execute_result",
     "data": {
      "text/plain": [
       "                                             clean_text  polarity     score\n",
       "0     Africa is in the midst of a fullblown third wa...  0.166667  positive\n",
       "1     Dr Moeti is head of WHO in Africa and one of t...  0.133333  positive\n",
       "2     Thank you @researchnote for creating this amaz...  0.316667  positive\n",
       "3     Former Pfizer VP and Virologist Dr Michael Yea...  0.086111  positive\n",
       "4     I think its important that we dont sell COVAX ...  0.280000  positive\n",
       "...                                                 ...       ...       ...\n",
       "6527  RT @Givenkazeni Zweli please just release the ...  0.000000   neutral\n",
       "6528  Former Pfizer VP and Virologist Dr Michael Yea...  0.086111  positive\n",
       "6529  @Jenfeds @DcrInYYC Respectfully veterinarians ...  0.281250  positive\n",
       "6530  Africa needs millions more doses here amp now ...  0.125000  positive\n",
       "6531  RT @shawajason Liars You tried to load off you...  0.000000   neutral\n",
       "\n",
       "[6532 rows x 3 columns]"
      ],
      "text/html": "<div>\n<style scoped>\n    .dataframe tbody tr th:only-of-type {\n        vertical-align: middle;\n    }\n\n    .dataframe tbody tr th {\n        vertical-align: top;\n    }\n\n    .dataframe thead th {\n        text-align: right;\n    }\n</style>\n<table border=\"1\" class=\"dataframe\">\n  <thead>\n    <tr style=\"text-align: right;\">\n      <th></th>\n      <th>clean_text</th>\n      <th>polarity</th>\n      <th>score</th>\n    </tr>\n  </thead>\n  <tbody>\n    <tr>\n      <th>0</th>\n      <td>Africa is in the midst of a fullblown third wa...</td>\n      <td>0.166667</td>\n      <td>positive</td>\n    </tr>\n    <tr>\n      <th>1</th>\n      <td>Dr Moeti is head of WHO in Africa and one of t...</td>\n      <td>0.133333</td>\n      <td>positive</td>\n    </tr>\n    <tr>\n      <th>2</th>\n      <td>Thank you @researchnote for creating this amaz...</td>\n      <td>0.316667</td>\n      <td>positive</td>\n    </tr>\n    <tr>\n      <th>3</th>\n      <td>Former Pfizer VP and Virologist Dr Michael Yea...</td>\n      <td>0.086111</td>\n      <td>positive</td>\n    </tr>\n    <tr>\n      <th>4</th>\n      <td>I think its important that we dont sell COVAX ...</td>\n      <td>0.280000</td>\n      <td>positive</td>\n    </tr>\n    <tr>\n      <th>...</th>\n      <td>...</td>\n      <td>...</td>\n      <td>...</td>\n    </tr>\n    <tr>\n      <th>6527</th>\n      <td>RT @Givenkazeni Zweli please just release the ...</td>\n      <td>0.000000</td>\n      <td>neutral</td>\n    </tr>\n    <tr>\n      <th>6528</th>\n      <td>Former Pfizer VP and Virologist Dr Michael Yea...</td>\n      <td>0.086111</td>\n      <td>positive</td>\n    </tr>\n    <tr>\n      <th>6529</th>\n      <td>@Jenfeds @DcrInYYC Respectfully veterinarians ...</td>\n      <td>0.281250</td>\n      <td>positive</td>\n    </tr>\n    <tr>\n      <th>6530</th>\n      <td>Africa needs millions more doses here amp now ...</td>\n      <td>0.125000</td>\n      <td>positive</td>\n    </tr>\n    <tr>\n      <th>6531</th>\n      <td>RT @shawajason Liars You tried to load off you...</td>\n      <td>0.000000</td>\n      <td>neutral</td>\n    </tr>\n  </tbody>\n</table>\n<p>6532 rows × 3 columns</p>\n</div>"
     },
     "metadata": {},
     "execution_count": 7
    }
   ],
   "source": [
    "cleanTweet[\"score\"] = cleanTweet[\"polarity\"].apply(text_category)\n",
    "cleanTweet"
   ]
  },
  {
   "cell_type": "code",
   "execution_count": 8,
   "metadata": {},
   "outputs": [
    {
     "output_type": "execute_result",
     "data": {
      "text/plain": [
       "positive    3426\n",
       "neutral     1829\n",
       "negative    1277\n",
       "Name: score, dtype: int64"
      ]
     },
     "metadata": {},
     "execution_count": 8
    }
   ],
   "source": [
    "sentiment = cleanTweet['score'].value_counts()\n",
    "sentiment"
   ]
  },
  {
   "cell_type": "code",
   "execution_count": 9,
   "metadata": {},
   "outputs": [
    {
     "output_type": "execute_result",
     "data": {
      "text/plain": [
       "                                             clean_text  polarity     score\n",
       "0     Africa is in the midst of a fullblown third wa...  0.166667  positive\n",
       "1     Dr Moeti is head of WHO in Africa and one of t...  0.133333  positive\n",
       "2     Thank you @researchnote for creating this amaz...  0.316667  positive\n",
       "3     Former Pfizer VP and Virologist Dr Michael Yea...  0.086111  positive\n",
       "4     I think its important that we dont sell COVAX ...  0.280000  positive\n",
       "...                                                 ...       ...       ...\n",
       "6524  Covid vaccines reach the remotest places of Ja... -0.050000  negative\n",
       "6526  Although there is not yet a vaccine for kids t...  0.500000  positive\n",
       "6528  Former Pfizer VP and Virologist Dr Michael Yea...  0.086111  positive\n",
       "6529  @Jenfeds @DcrInYYC Respectfully veterinarians ...  0.281250  positive\n",
       "6530  Africa needs millions more doses here amp now ...  0.125000  positive\n",
       "\n",
       "[4703 rows x 3 columns]"
      ],
      "text/html": "<div>\n<style scoped>\n    .dataframe tbody tr th:only-of-type {\n        vertical-align: middle;\n    }\n\n    .dataframe tbody tr th {\n        vertical-align: top;\n    }\n\n    .dataframe thead th {\n        text-align: right;\n    }\n</style>\n<table border=\"1\" class=\"dataframe\">\n  <thead>\n    <tr style=\"text-align: right;\">\n      <th></th>\n      <th>clean_text</th>\n      <th>polarity</th>\n      <th>score</th>\n    </tr>\n  </thead>\n  <tbody>\n    <tr>\n      <th>0</th>\n      <td>Africa is in the midst of a fullblown third wa...</td>\n      <td>0.166667</td>\n      <td>positive</td>\n    </tr>\n    <tr>\n      <th>1</th>\n      <td>Dr Moeti is head of WHO in Africa and one of t...</td>\n      <td>0.133333</td>\n      <td>positive</td>\n    </tr>\n    <tr>\n      <th>2</th>\n      <td>Thank you @researchnote for creating this amaz...</td>\n      <td>0.316667</td>\n      <td>positive</td>\n    </tr>\n    <tr>\n      <th>3</th>\n      <td>Former Pfizer VP and Virologist Dr Michael Yea...</td>\n      <td>0.086111</td>\n      <td>positive</td>\n    </tr>\n    <tr>\n      <th>4</th>\n      <td>I think its important that we dont sell COVAX ...</td>\n      <td>0.280000</td>\n      <td>positive</td>\n    </tr>\n    <tr>\n      <th>...</th>\n      <td>...</td>\n      <td>...</td>\n      <td>...</td>\n    </tr>\n    <tr>\n      <th>6524</th>\n      <td>Covid vaccines reach the remotest places of Ja...</td>\n      <td>-0.050000</td>\n      <td>negative</td>\n    </tr>\n    <tr>\n      <th>6526</th>\n      <td>Although there is not yet a vaccine for kids t...</td>\n      <td>0.500000</td>\n      <td>positive</td>\n    </tr>\n    <tr>\n      <th>6528</th>\n      <td>Former Pfizer VP and Virologist Dr Michael Yea...</td>\n      <td>0.086111</td>\n      <td>positive</td>\n    </tr>\n    <tr>\n      <th>6529</th>\n      <td>@Jenfeds @DcrInYYC Respectfully veterinarians ...</td>\n      <td>0.281250</td>\n      <td>positive</td>\n    </tr>\n    <tr>\n      <th>6530</th>\n      <td>Africa needs millions more doses here amp now ...</td>\n      <td>0.125000</td>\n      <td>positive</td>\n    </tr>\n  </tbody>\n</table>\n<p>4703 rows × 3 columns</p>\n</div>"
     },
     "metadata": {},
     "execution_count": 9
    }
   ],
   "source": [
    "# remove neutral tweets\n",
    "cleanTweet = cleanTweet[cleanTweet['score'] != 'neutral']\n",
    "cleanTweet"
   ]
  },
  {
   "cell_type": "code",
   "execution_count": 10,
   "metadata": {},
   "outputs": [],
   "source": [
    "# add scoremap column\n",
    "def scoremap(score):\n",
    "    \"\"\"\n",
    "    maps sentiment score to 0 and 1\n",
    "    \"\"\"\n",
    "    if score == \"positive\":\n",
    "        return 1\n",
    "    else:\n",
    "        return 0"
   ]
  },
  {
   "cell_type": "code",
   "execution_count": 11,
   "metadata": {},
   "outputs": [
    {
     "output_type": "stream",
     "name": "stderr",
     "text": [
      "<ipython-input-11-0387a1fc5791>:1: SettingWithCopyWarning: \nA value is trying to be set on a copy of a slice from a DataFrame.\nTry using .loc[row_indexer,col_indexer] = value instead\n\nSee the caveats in the documentation: https://pandas.pydata.org/pandas-docs/stable/user_guide/indexing.html#returning-a-view-versus-a-copy\n  cleanTweet['scoremap'] = cleanTweet[\"score\"].map(scoremap)\n"
     ]
    },
    {
     "output_type": "execute_result",
     "data": {
      "text/plain": [
       "                                             clean_text  polarity     score  \\\n",
       "0     Africa is in the midst of a fullblown third wa...  0.166667  positive   \n",
       "1     Dr Moeti is head of WHO in Africa and one of t...  0.133333  positive   \n",
       "2     Thank you @researchnote for creating this amaz...  0.316667  positive   \n",
       "3     Former Pfizer VP and Virologist Dr Michael Yea...  0.086111  positive   \n",
       "4     I think its important that we dont sell COVAX ...  0.280000  positive   \n",
       "...                                                 ...       ...       ...   \n",
       "6524  Covid vaccines reach the remotest places of Ja... -0.050000  negative   \n",
       "6526  Although there is not yet a vaccine for kids t...  0.500000  positive   \n",
       "6528  Former Pfizer VP and Virologist Dr Michael Yea...  0.086111  positive   \n",
       "6529  @Jenfeds @DcrInYYC Respectfully veterinarians ...  0.281250  positive   \n",
       "6530  Africa needs millions more doses here amp now ...  0.125000  positive   \n",
       "\n",
       "      scoremap  \n",
       "0            1  \n",
       "1            1  \n",
       "2            1  \n",
       "3            1  \n",
       "4            1  \n",
       "...        ...  \n",
       "6524         0  \n",
       "6526         1  \n",
       "6528         1  \n",
       "6529         1  \n",
       "6530         1  \n",
       "\n",
       "[4703 rows x 4 columns]"
      ],
      "text/html": "<div>\n<style scoped>\n    .dataframe tbody tr th:only-of-type {\n        vertical-align: middle;\n    }\n\n    .dataframe tbody tr th {\n        vertical-align: top;\n    }\n\n    .dataframe thead th {\n        text-align: right;\n    }\n</style>\n<table border=\"1\" class=\"dataframe\">\n  <thead>\n    <tr style=\"text-align: right;\">\n      <th></th>\n      <th>clean_text</th>\n      <th>polarity</th>\n      <th>score</th>\n      <th>scoremap</th>\n    </tr>\n  </thead>\n  <tbody>\n    <tr>\n      <th>0</th>\n      <td>Africa is in the midst of a fullblown third wa...</td>\n      <td>0.166667</td>\n      <td>positive</td>\n      <td>1</td>\n    </tr>\n    <tr>\n      <th>1</th>\n      <td>Dr Moeti is head of WHO in Africa and one of t...</td>\n      <td>0.133333</td>\n      <td>positive</td>\n      <td>1</td>\n    </tr>\n    <tr>\n      <th>2</th>\n      <td>Thank you @researchnote for creating this amaz...</td>\n      <td>0.316667</td>\n      <td>positive</td>\n      <td>1</td>\n    </tr>\n    <tr>\n      <th>3</th>\n      <td>Former Pfizer VP and Virologist Dr Michael Yea...</td>\n      <td>0.086111</td>\n      <td>positive</td>\n      <td>1</td>\n    </tr>\n    <tr>\n      <th>4</th>\n      <td>I think its important that we dont sell COVAX ...</td>\n      <td>0.280000</td>\n      <td>positive</td>\n      <td>1</td>\n    </tr>\n    <tr>\n      <th>...</th>\n      <td>...</td>\n      <td>...</td>\n      <td>...</td>\n      <td>...</td>\n    </tr>\n    <tr>\n      <th>6524</th>\n      <td>Covid vaccines reach the remotest places of Ja...</td>\n      <td>-0.050000</td>\n      <td>negative</td>\n      <td>0</td>\n    </tr>\n    <tr>\n      <th>6526</th>\n      <td>Although there is not yet a vaccine for kids t...</td>\n      <td>0.500000</td>\n      <td>positive</td>\n      <td>1</td>\n    </tr>\n    <tr>\n      <th>6528</th>\n      <td>Former Pfizer VP and Virologist Dr Michael Yea...</td>\n      <td>0.086111</td>\n      <td>positive</td>\n      <td>1</td>\n    </tr>\n    <tr>\n      <th>6529</th>\n      <td>@Jenfeds @DcrInYYC Respectfully veterinarians ...</td>\n      <td>0.281250</td>\n      <td>positive</td>\n      <td>1</td>\n    </tr>\n    <tr>\n      <th>6530</th>\n      <td>Africa needs millions more doses here amp now ...</td>\n      <td>0.125000</td>\n      <td>positive</td>\n      <td>1</td>\n    </tr>\n  </tbody>\n</table>\n<p>4703 rows × 4 columns</p>\n</div>"
     },
     "metadata": {},
     "execution_count": 11
    }
   ],
   "source": [
    "cleanTweet['scoremap'] = cleanTweet[\"score\"].map(scoremap)\n",
    "cleanTweet"
   ]
  },
  {
   "cell_type": "code",
   "execution_count": 12,
   "metadata": {},
   "outputs": [],
   "source": [
    "from sklearn.feature_extraction.text import CountVectorizer, TfidfTransformer\n",
    "from joblib import dump, load # used for saving and loading sklearn objects\n",
    "from scipy.sparse import save_npz, load_npz # used for saving and loading sparse matrices\n",
    "from sklearn.decomposition import NMF, LatentDirichletAllocation"
   ]
  },
  {
   "cell_type": "code",
   "execution_count": 13,
   "metadata": {},
   "outputs": [],
   "source": [
    "(X, y) = cleanTweet['clean_text'], cleanTweet['scoremap']"
   ]
  },
  {
   "cell_type": "code",
   "execution_count": 14,
   "metadata": {},
   "outputs": [
    {
     "output_type": "execute_result",
     "data": {
      "text/plain": [
       "CountVectorizer(ngram_range=(1, 3))"
      ]
     },
     "metadata": {},
     "execution_count": 14
    }
   ],
   "source": [
    "trigram_vectorizer = CountVectorizer(ngram_range=(1, 3))\n",
    "trigram_vectorizer.fit(X.values)"
   ]
  },
  {
   "cell_type": "code",
   "execution_count": 15,
   "metadata": {},
   "outputs": [],
   "source": [
    "X_trigram_vectorizer = trigram_vectorizer.transform(X.values)"
   ]
  },
  {
   "cell_type": "code",
   "execution_count": 16,
   "metadata": {},
   "outputs": [],
   "source": [
    "from sklearn.linear_model import SGDClassifier\n",
    "from sklearn.model_selection import train_test_split\n",
    "from scipy.sparse import csr_matrix\n",
    "import numpy as np"
   ]
  },
  {
   "cell_type": "code",
   "execution_count": 17,
   "metadata": {},
   "outputs": [],
   "source": [
    "def train_and_show_scores(X: csr_matrix, y: np.array, title: str) -> None:\n",
    "    X_train, X_test, y_train, y_test = train_test_split(\n",
    "        X, y, train_size=0.75, stratify=y\n",
    "    )\n",
    "\n",
    "    clf = SGDClassifier()\n",
    "    clf.fit(X_train, y_train)\n",
    "    train_score = clf.score(X_train, y_train)\n",
    "    test_score = clf.score(X_test, y_test)\n",
    "    print(f'{title}\\nTrain score: {round(train_score, 2)} ; Test score: {round(test_score, 2)}\\n')"
   ]
  },
  {
   "cell_type": "code",
   "execution_count": 18,
   "metadata": {},
   "outputs": [
    {
     "output_type": "stream",
     "name": "stdout",
     "text": [
      "Trigram Counts\nTrain score: 1.0 ; Test score: 0.96\n\n"
     ]
    }
   ],
   "source": [
    "train_and_show_scores(X_trigram_vectorizer, y.values, 'Trigram Counts')"
   ]
  },
  {
   "source": [
    "<h1>Topic modelling<h1>"
   ],
   "cell_type": "markdown",
   "metadata": {}
  },
  {
   "cell_type": "code",
   "execution_count": 19,
   "metadata": {},
   "outputs": [],
   "source": [
    "import warnings\n",
    "warnings.filterwarnings('ignore')\n",
    "import matplotlib.pyplot as plt\n",
    "import seaborn as sns\n",
    "from wordcloud import STOPWORDS,WordCloud\n",
    "import gensim\n",
    "from gensim.models import CoherenceModel\n",
    "from gensim import corpora\n",
    "from pprint import pprint\n",
    "import string\n",
    "import os\n",
    "import re"
   ]
  },
  {
   "cell_type": "code",
   "execution_count": 21,
   "metadata": {},
   "outputs": [],
   "source": [
    "#text Preprocessing\n",
    "tweets_df['clean_text']=tweets_df['clean_text'].astype(str)\n",
    "tweets_df['clean_text'] = tweets_df['clean_text'].apply(lambda x: x.lower())\n",
    "tweets_df['clean_text']= tweets_df['clean_text'].apply(lambda x: x.translate(str.maketrans(' ', ' ', string.punctuation)))"
   ]
  },
  {
   "cell_type": "code",
   "execution_count": 22,
   "metadata": {},
   "outputs": [],
   "source": [
    "#Converting tweets to list of words For feature engineering\n",
    "sentence_list = [tweet for tweet in tweets_df['clean_text']]\n",
    "word_list = [sent.split() for sent in sentence_list]"
   ]
  },
  {
   "cell_type": "code",
   "execution_count": 33,
   "metadata": {},
   "outputs": [],
   "source": [
    "#Create dictionary which contains Id and word \n",
    "id2word = corpora.Dictionary(word_list)\n",
    "corpus= [id2word.doc2bow(tweet) for tweet in word_list]"
   ]
  },
  {
   "cell_type": "code",
   "execution_count": 34,
   "metadata": {},
   "outputs": [],
   "source": [
    "# Build LDA model\n",
    "lda_model = gensim.models.ldamodel.LdaModel(corpus,\n",
    "                                           id2word=id2word,\n",
    "                                           num_topics=5, \n",
    "                                           random_state=100,\n",
    "                                           update_every=1,\n",
    "                                           chunksize=100,\n",
    "                                           passes=10,\n",
    "                                           alpha='auto',\n",
    "                                           per_word_topics=True)"
   ]
  },
  {
   "cell_type": "code",
   "execution_count": 35,
   "metadata": {},
   "outputs": [
    {
     "output_type": "stream",
     "name": "stdout",
     "text": [
      "[(0,\n  [('the', 0.029466854),\n   ('covid', 0.02805267),\n   ('of', 0.023706146),\n   ('vaccines', 0.022156278),\n   ('in', 0.01939734),\n   ('and', 0.0184607),\n   ('to', 0.017154872),\n   ('a', 0.013795928),\n   ('people', 0.012778343),\n   ('vaccinated', 0.012094214)]),\n (1,\n  [('the', 0.045241024),\n   ('to', 0.0398633),\n   ('covid', 0.027612587),\n   ('of', 0.024481602),\n   ('vaccines', 0.022700379),\n   ('are', 0.021122463),\n   ('in', 0.015582493),\n   ('amp', 0.015417855),\n   ('is', 0.013467649),\n   ('a', 0.012081893)]),\n (2,\n  [('to', 0.059750643),\n   ('you', 0.053836443),\n   ('rt', 0.045495514),\n   ('your', 0.04375733),\n   ('vaccines', 0.04135175),\n   ('israel', 0.040348325),\n   ('just', 0.036109295),\n   ('by', 0.035647493),\n   ('expired', 0.033574816),\n   ('another', 0.031833116)]),\n (3,\n  [('the', 0.048388433),\n   ('africa', 0.037850708),\n   ('of', 0.037773605),\n   ('in', 0.037295047),\n   ('and', 0.0318018),\n   ('india', 0.026686074),\n   ('to', 0.026571805),\n   ('is', 0.022459945),\n   ('a', 0.015058198),\n   ('cases', 0.013675441)]),\n (4,\n  [('sdose', 0.055205345),\n   ('capacity', 0.043292884),\n   ('age', 0.039980482),\n   ('code', 0.036283977),\n   ('pin', 0.0362114),\n   ('limit', 0.0362114),\n   ('covaxinsmin', 0.024517752),\n   ('need', 0.024493553),\n   ('pmcgsvaccines', 0.023285028),\n   ('we', 0.022362156)])]\n"
     ]
    }
   ],
   "source": [
    "pprint(lda_model.show_topics(formatted=False))"
   ]
  },
  {
   "cell_type": "code",
   "execution_count": 37,
   "metadata": {},
   "outputs": [
    {
     "output_type": "stream",
     "name": "stdout",
     "text": [
      "Perplexity:  -6.444960294194873\n",
      "Ldamodel Coherence Score/Accuracy on Tweets:  0.5120588689368838\n"
     ]
    }
   ],
   "source": [
    "# Compute Perplexity\n",
    "\n",
    "#It's a measure of how good the model is. The lower the better. Perplexity is a negative value\n",
    "print('Perplexity: ', lda_model.log_perplexity(corpus))  \n",
    "doc_lda = lda_model[corpus]\n",
    "\n",
    "\n",
    "# Compute Coherence Score\n",
    "coherence_model_lda = CoherenceModel(model=lda_model, texts=word_list, dictionary=id2word, coherence='c_v')\n",
    "coherence_lda = coherence_model_lda.get_coherence()\n",
    "print('Ldamodel Coherence Score/Accuracy on Tweets: ', coherence_lda)"
   ]
  },
  {
   "cell_type": "code",
   "execution_count": 48,
   "metadata": {},
   "outputs": [
    {
     "output_type": "stream",
     "name": "stderr",
     "text": [
      "/home/z/.local/lib/python3.8/site-packages/ipykernel/ipkernel.py:283: DeprecationWarning: `should_run_async` will not call `transform_cell` automatically in the future. Please pass the result to `transformed_cell` argument and any exception that happen during thetransform in `preprocessing_exc_tuple` in IPython 7.17 and above.\n  and should_run_async(code)\n"
     ]
    },
    {
     "output_type": "execute_result",
     "data": {
      "text/plain": [
       "PreparedData(topic_coordinates=              x         y  topics  cluster       Freq\n",
       "topic                                                \n",
       "1      0.119519  0.000566       1        1  37.420496\n",
       "3      0.194974 -0.016453       2        1  21.038166\n",
       "0      0.129731  0.013399       3        1  19.440257\n",
       "2     -0.225632 -0.276453       4        1  13.987317\n",
       "4     -0.218593  0.278941       5        1   8.113765, topic_info=         Term         Freq        Total Category  logprob  loglift\n",
       "87        you  1531.000000  1531.000000  Default  30.0000  30.0000\n",
       "264        rt  1209.000000  1209.000000  Default  29.0000  29.0000\n",
       "166      your  1107.000000  1107.000000  Default  28.0000  28.0000\n",
       "2      africa  1472.000000  1472.000000  Default  27.0000  27.0000\n",
       "790     sdose   810.000000   810.000000  Default  26.0000  26.0000\n",
       "..        ...          ...          ...      ...      ...      ...\n",
       "23        the   124.923044  6272.961285   Topic5  -4.7661  -1.4047\n",
       "56   vaccines   122.129152  3790.759548   Topic5  -4.7887  -0.9236\n",
       "36     health   114.346914   549.953382   Topic5  -4.8546   0.9410\n",
       "421      them   110.379265   249.167232   Topic5  -4.8899   1.6974\n",
       "4         and   114.066472  2690.366335   Topic5  -4.8570  -0.6490\n",
       "\n",
       "[281 rows x 6 columns], token_table=      Topic      Freq   Term\n",
       "term                        \n",
       "0         1  0.403775      a\n",
       "0         2  0.282840      a\n",
       "0         3  0.239402      a\n",
       "0         4  0.074042      a\n",
       "60        1  0.229056  about\n",
       "...     ...       ...    ...\n",
       "87        4  0.889223    you\n",
       "166       4  0.999330   your\n",
       "1432      3  0.992239  youre\n",
       "167       4  0.995012    zip\n",
       "3491      1  0.995331  zweli\n",
       "\n",
       "[312 rows x 3 columns], R=30, lambda_step=0.01, plot_opts={'xlab': 'PC1', 'ylab': 'PC2'}, topic_order=[2, 4, 1, 3, 5])"
      ],
      "text/html": "\n<link rel=\"stylesheet\" type=\"text/css\" href=\"https://cdn.jsdelivr.net/gh/bmabey/pyLDAvis@3.3.1/pyLDAvis/js/ldavis.v1.0.0.css\">\n\n\n<div id=\"ldavis_el280561401114325040323962130327\"></div>\n<script type=\"text/javascript\">\n\nvar ldavis_el280561401114325040323962130327_data = {\"mdsDat\": {\"x\": [0.11951947830807302, 0.19497409189974485, 0.12973085699918774, -0.22563181965354118, -0.21859260755346438], \"y\": [0.0005659986775168742, -0.01645341546011106, 0.013399054893461923, -0.2764526033925542, 0.2789409652816865], \"topics\": [1, 2, 3, 4, 5], \"cluster\": [1, 1, 1, 1, 1], \"Freq\": [37.420495672871304, 21.038165867694815, 19.440256932153865, 13.987316645825661, 8.11376488145436]}, \"tinfo\": {\"Term\": [\"you\", \"rt\", \"your\", \"africa\", \"sdose\", \"israel\", \"expired\", \"just\", \"by\", \"capacity\", \"india\", \"off\", \"tried\", \"war\", \"liars\", \"crime\", \"load\", \"shawajason\", \"another\", \"age\", \"in\", \"code\", \"pin\", \"limit\", \"httpstcotivkdqlw\", \"of\", \"to\", \"need\", \"we\", \"vaccines\", \"from\", \"this\", \"so\", \"vaccination\", \"not\", \"countries\", \"up\", \"go\", \"these\", \"administered\", \"support\", \"what\", \"all\", \"now\", \"had\", \"china\", \"please\", \"do\", \"graphic\", \"us\", \"here\", \"designers\", \"fireworks\", \"release\", \"zweli\", \"givenkazeni\", \"covidvaccination\", \"less\", \"huge\", \"see\", \"will\", \"be\", \"amp\", \"are\", \"free\", \"dont\", \"doses\", \"the\", \"vaccine\", \"to\", \"covid\", \"government\", \"world\", \"of\", \"vaccines\", \"for\", \"is\", \"with\", \"in\", \"a\", \"on\", \"as\", \"that\", \"and\", \"been\", \"india\", \"cases\", \"third\", \"wave\", \"coronavirus\", \"why\", \"midst\", \"who\", \"deaths\", \"head\", \"blown\", \"indiassyou\", \"urgently\", \"public\", \"indian\", \"seen\", \"uk\", \"everyone\", \"sending\", \"overwhelm\", \"sent\", \"action\", \"technology\", \"wolfofwallst\", \"surging\", \"elsewhere\", \"urgent\", \"trajectory\", \"quickly\", \"rebound\", \"africa\", \"increased\", \"retweet\", \"whoindiassindia\", \"rich\", \"in\", \"health\", \"and\", \"of\", \"is\", \"the\", \"has\", \"help\", \"to\", \"a\", \"one\", \"full\", \"covid\", \"more\", \"by\", \"for\", \"have\", \"vaccines\", \"south\", \"risk\", \"against\", \"no\", \"provide\", \"where\", \"question\", \"yet\", \"delta\", \"fully\", \"children\", \"speaks\", \"variant\", \"education\", \"america\", \"same\", \"minister\", \"total\", \"puts\", \"benefit\", \"latest\", \"after\", \"youre\", \"myocarditis\", \"threat\", \"still\", \"child\", \"department\", \"cause\", \"parts\", \"already\", \"could\", \"vaccinated\", \"workers\", \"people\", \"about\", \"an\", \"if\", \"at\", \"but\", \"covid\", \"was\", \"have\", \"of\", \"the\", \"vaccines\", \"and\", \"in\", \"that\", \"on\", \"a\", \"to\", \"for\", \"other\", \"as\", \"vaccine\", \"your\", \"israel\", \"expired\", \"off\", \"tried\", \"war\", \"liars\", \"crime\", \"load\", \"shawajason\", \"httpstcotivkdqlw\", \"million\", \"httpstco\", \"httpstcombbxzcwqqz\", \"palestinian\", \"welcome\", \"im\", \"find\", \"authority\", \"wecandothis\", \"call\", \"zip\", \"pleased\", \"near\", \"easy\", \"remember\", \"search\", \"pa\", \"ways\", \"bus\", \"rt\", \"another\", \"you\", \"just\", \"by\", \"to\", \"vaccines\", \"s\", \"covid\", \"the\", \"a\", \"are\", \"sdose\", \"capacity\", \"age\", \"limit\", \"pin\", \"covaxinsmin\", \"pmcgsvaccines\", \"via\", \"covishieldsmin\", \"oxygen\", \"each\", \"failure\", \"money\", \"dying\", \"pay\", \"kills\", \"ppes\", \"stand\", \"ugandans\", \"dailymonitor\", \"httpstcookiugfz\", \"mulago\", \"overstretched\", \"ssoxygen\", \"workerssworld\", \"covaxin\", \"covishield\", \"sdos\", \"laigude\", \"smurlidhar\", \"code\", \"hospital\", \"need\", \"we\", \"covid\", \"to\", \"other\", \"at\", \"our\", \"with\", \"the\", \"vaccines\", \"health\", \"them\", \"and\"], \"Freq\": [1531.0, 1209.0, 1107.0, 1472.0, 810.0, 1021.0, 850.0, 1267.0, 1445.0, 636.0, 1016.0, 797.0, 791.0, 790.0, 790.0, 790.0, 790.0, 790.0, 847.0, 587.0, 3155.0, 615.0, 532.0, 532.0, 655.0, 3947.0, 6077.0, 605.0, 773.0, 3790.0, 794.938316421534, 654.1101187635387, 583.6439588726861, 508.7485119093615, 364.8177648932385, 338.50751605711577, 321.4694620904206, 309.6262323115619, 285.83079748030053, 266.8827454283092, 264.10051971620163, 260.08055171267887, 258.07982493665594, 246.1858891962205, 236.58541340588266, 206.52171012562454, 196.17690611497568, 173.83785742933657, 173.1832336960536, 170.13109091688293, 168.64965117309185, 168.4561397019534, 168.00175567026048, 167.98834648029722, 167.98834648029722, 167.97785233163032, 166.98060882565497, 166.6760264026351, 155.96126425902798, 162.16232918840856, 548.4233269414442, 414.99186536769724, 1043.4143566020562, 1429.4777618261385, 216.999046094888, 454.0447208859962, 412.56733885812326, 3061.7186110443326, 655.0606428238724, 2697.7772493776, 1868.7015618845123, 305.21960377630177, 374.07590453652364, 1656.80988873857, 1536.2643278229405, 737.6729761906856, 911.4327577842197, 595.0789883281742, 1054.5563062299102, 817.6507425047871, 466.8586436595634, 421.5612339471382, 422.58480736666064, 717.0728047877564, 352.99612217695284, 1015.3502331055365, 520.32240229208, 464.8389897971441, 407.55321612522437, 339.34321456614794, 348.49098419430555, 296.5378098760405, 286.65892950189124, 228.35647515779806, 226.36910832445548, 195.7411402067399, 234.9226345400223, 187.65625837121001, 180.9918557056579, 171.72195966596217, 155.66877684328784, 157.4701812777469, 154.3145255169673, 152.7241005266684, 149.17600315620226, 149.62629225372746, 147.05641096244926, 147.20815209861902, 191.99862921175503, 139.92070629873592, 137.96487653380157, 136.8858481404323, 136.44606549322512, 135.5304628970454, 135.51616491153675, 1440.1415753877845, 136.31829607253644, 165.50963556080563, 165.50963556080563, 237.12659725049437, 1418.9998334250818, 380.3450178574802, 1209.9931214811415, 1437.2079901974705, 854.5546982910472, 1841.0803343507393, 355.7561680130342, 304.3844805403634, 1011.0025115938347, 572.9334611182855, 268.48395752114783, 201.54872678902154, 500.1857006341664, 256.7141641341135, 334.4733242453859, 324.993210612059, 284.7389244292723, 307.3455986544451, 341.69460274979207, 256.37086893064236, 256.06124615278594, 251.75046277999252, 226.55874022441688, 218.50838428252146, 208.94364028268814, 197.32743254663964, 184.58519133775968, 172.30535419707863, 156.74450119123912, 152.0565778908494, 144.29074681445564, 171.6750085861951, 136.08931224554775, 135.6436646765629, 137.1647569713627, 135.47735212427577, 125.25155727244908, 129.87534419211477, 122.96135230537033, 120.60845167269295, 116.13623453292337, 115.5903917756728, 114.98863126261804, 112.78613801467877, 109.75464418618013, 115.51689893251515, 101.6242794395372, 101.16422471929847, 101.74073178825194, 257.9501546562739, 425.2094859854896, 127.42621033776648, 449.26215951681695, 339.43654373894856, 327.7442891647474, 209.48456332522076, 369.1114443294807, 248.54722915984235, 986.2784082952135, 167.5455916015729, 412.31626438017395, 833.4628682250138, 1035.998404091123, 778.9724681877863, 649.0430153196554, 681.9735064277354, 309.69887380988524, 313.66234660688303, 485.03852140689935, 603.1325977505318, 321.3812070958366, 200.01916318198818, 234.32529165837337, 198.77427071131208, 1106.900377601798, 1020.6650052818103, 849.320006472046, 796.2267572492141, 790.4027706596686, 789.5977106707608, 789.5577545153941, 789.4924016999537, 789.4553197491595, 789.4521628359406, 654.5848722067202, 280.3779257032756, 139.94483215589102, 135.05631669796094, 112.29606788624349, 111.59851963967964, 101.78452456829459, 100.26238587716307, 94.52105622812688, 87.89167982291929, 86.75008463921586, 83.61177718318693, 82.24171218479803, 81.61846330438244, 80.05504326110403, 80.00284817725101, 79.67634913940489, 79.51073488044945, 77.1574033199027, 76.75035587686882, 1150.8700533860126, 805.2613717004116, 1361.8650340982695, 913.4330502615305, 901.7511520448642, 1511.4726593177963, 1046.0480011043892, 192.86065814401422, 193.88210804273484, 209.2408913562304, 150.07776969859282, 118.5874896636598, 810.0780353985725, 635.2756991995872, 586.669831948034, 531.3626910754691, 531.3626910754691, 359.77118707739385, 341.682301858425, 179.11672285047908, 171.76837117866066, 169.4010131228387, 150.57575529596662, 125.30256674668352, 119.37038247212543, 118.83436913903003, 114.45107097787002, 113.58154917042705, 108.25652415247907, 107.83706932527248, 107.80491973152135, 107.71223597176783, 107.71223597176783, 107.71223597176783, 107.71223597176783, 107.71223597176783, 107.71223597176783, 91.70833902920079, 63.73398329467374, 62.57540896547511, 61.41580967579558, 61.41580967579558, 532.4276660135513, 234.1951335421247, 359.41608610224847, 328.14016866504136, 289.9531203648915, 254.40626093444146, 119.82629856017283, 124.6317642772789, 113.03950906970391, 121.58088057594932, 124.92304437981308, 122.12915243639637, 114.34691449380018, 110.37926513992767, 114.06647164008415], \"Total\": [1531.0, 1209.0, 1107.0, 1472.0, 810.0, 1021.0, 850.0, 1267.0, 1445.0, 636.0, 1016.0, 797.0, 791.0, 790.0, 790.0, 790.0, 790.0, 790.0, 847.0, 587.0, 3155.0, 615.0, 532.0, 532.0, 655.0, 3947.0, 6077.0, 605.0, 773.0, 3790.0, 795.7522209779365, 654.9255814113784, 584.4580611639328, 509.54578269152637, 365.62654345573685, 339.3126513974627, 322.2718500816806, 310.42235709367696, 286.6293920383303, 267.6796486083718, 264.89568103759524, 260.88117728482473, 258.88173202693315, 246.98310130832564, 237.4241016221321, 207.32761687503705, 196.97584256194875, 174.63679259318974, 173.98321486307864, 170.9317732694374, 169.44847680099804, 169.2558041109861, 168.8014781681935, 168.7880811948881, 168.7880811948881, 168.77759693918324, 167.77650522604267, 167.51231317709545, 156.75485464152223, 162.99037202432407, 563.9024992342639, 456.6107117234385, 1265.7455104306766, 1802.078639532187, 224.19100832810216, 529.3443627512992, 504.3901151233844, 6272.961285222239, 949.6501800648964, 6077.791278974205, 3839.0008992215185, 366.53616669684857, 481.82880238738375, 3947.9869180729725, 3790.7595482059573, 1384.4182395867906, 1939.5323681275406, 1078.3849404648058, 3155.8992800098385, 2025.8799769730358, 781.0964455571342, 670.7669299901778, 732.8507806176437, 2690.3663352030353, 532.3922892403546, 1016.1578952520402, 521.131935138526, 465.645908842458, 408.3609126638949, 340.15281031035755, 349.3666768024997, 297.3435786667502, 287.480348703504, 229.1655127162774, 227.1761690722567, 196.5463768604551, 235.92065181636767, 188.47161668939853, 181.86275406789488, 172.55364104855775, 156.47415594764044, 158.28516844057876, 155.12271344649093, 153.53225918311423, 149.98034222212107, 150.43318042593478, 147.86218546907347, 148.0187298134709, 193.08287248432543, 140.7251578172929, 138.76902949171844, 137.69009922259318, 137.250318303793, 136.33452261506923, 136.32022309096578, 1472.4474462261617, 137.12845948460347, 167.4975716457725, 167.4975716457725, 277.7277866989101, 3155.8992800098385, 549.9533815386498, 2690.3663352030353, 3947.9869180729725, 1939.5323681275406, 6272.961285222239, 543.625297234299, 518.3506511390101, 6077.791278974205, 2025.8799769730358, 537.4520120061127, 289.480975143224, 3839.0008992215185, 575.794389323689, 1445.3719527480714, 1384.4182395867906, 984.8947931154007, 3790.7595482059573, 342.4703288400834, 257.1435876245931, 256.8371343350251, 252.53238881602553, 227.36351203471415, 219.2892532504974, 209.7241719326633, 198.14425636685715, 185.35724371467617, 173.08728328620882, 157.5197530386527, 152.86870678325798, 145.06170751258034, 172.63469578877667, 136.86027402561226, 136.4219800727393, 137.97042906615027, 136.29872638782527, 126.02159835889793, 130.69346807125737, 123.74226073599225, 121.40105881253456, 116.90729155740298, 116.36172576526006, 115.75912652326822, 113.55795867038862, 110.52665868379248, 116.33106979717797, 102.39469064721918, 101.93449838541217, 102.51592850877431, 268.6470340815818, 470.77928053199463, 131.54599056886642, 583.3462569996233, 440.93950437708855, 479.7913669394684, 263.23731018619264, 611.6461059686985, 368.121000840918, 3839.0008992215185, 207.19832490305785, 984.8947931154007, 3947.9869180729725, 6272.961285222239, 3790.7595482059573, 2690.3663352030353, 3155.8992800098385, 732.8507806176437, 781.0964455571342, 2025.8799769730358, 6077.791278974205, 1384.4182395867906, 320.45608282714267, 670.7669299901778, 949.6501800648964, 1107.7420573395739, 1021.4782596292682, 850.1298583919994, 797.0359731469765, 791.2119529666836, 790.406758525322, 790.3668015190294, 790.3014474250358, 790.2643652839174, 790.2612083706986, 655.3939177414782, 281.2123403929298, 140.75580687204305, 135.86536229426963, 113.10766099962827, 112.40958873910469, 102.6031520549279, 101.07398580440292, 95.33197247503146, 88.70194745259067, 87.56173384373434, 84.42105791502588, 83.05228471444799, 82.4278521591498, 80.86491949211623, 80.81471837484834, 80.4854963006435, 80.3212059043902, 77.96666436499844, 77.55960162100052, 1209.3915210246323, 847.5935135388236, 1531.6747918575522, 1267.5837471608106, 1445.3719527480714, 6077.791278974205, 3790.7595482059573, 325.82529416702073, 3839.0008992215185, 6272.961285222239, 2025.8799769730358, 1802.078639532187, 810.8988143833127, 636.097457637002, 587.4937110331703, 532.1834700294339, 532.1834700294339, 360.591966015971, 342.50308102781725, 179.9516187172568, 172.58915016340083, 170.2269208668561, 151.40205968597775, 126.1354673283265, 120.19506265369127, 119.66027755752731, 115.27331761708635, 114.40863520026294, 109.07733864097003, 108.65789834905759, 108.62575851773944, 108.53302232720469, 108.53302232720469, 108.53302232720469, 108.53302232720469, 108.53302232720469, 108.53302232720469, 92.54684838977838, 64.56422760994863, 63.396187919439946, 62.236589340108395, 62.236589340108395, 615.4837904309989, 299.2891126524745, 605.6454560216669, 773.9922664572478, 3839.0008992215185, 6077.791278974205, 320.45608282714267, 611.6461059686985, 233.83044464099538, 1078.3849404648058, 6272.961285222239, 3790.7595482059573, 549.9533815386498, 249.16723233125938, 2690.3663352030353], \"Category\": [\"Default\", \"Default\", \"Default\", \"Default\", \"Default\", \"Default\", \"Default\", \"Default\", \"Default\", \"Default\", \"Default\", \"Default\", \"Default\", \"Default\", \"Default\", \"Default\", \"Default\", \"Default\", \"Default\", \"Default\", \"Default\", \"Default\", \"Default\", \"Default\", \"Default\", \"Default\", \"Default\", \"Default\", \"Default\", \"Default\", \"Topic1\", \"Topic1\", \"Topic1\", \"Topic1\", \"Topic1\", \"Topic1\", \"Topic1\", \"Topic1\", \"Topic1\", \"Topic1\", \"Topic1\", \"Topic1\", \"Topic1\", \"Topic1\", \"Topic1\", \"Topic1\", \"Topic1\", \"Topic1\", \"Topic1\", \"Topic1\", \"Topic1\", \"Topic1\", \"Topic1\", \"Topic1\", \"Topic1\", \"Topic1\", \"Topic1\", \"Topic1\", \"Topic1\", \"Topic1\", \"Topic1\", \"Topic1\", \"Topic1\", \"Topic1\", \"Topic1\", \"Topic1\", \"Topic1\", \"Topic1\", \"Topic1\", \"Topic1\", \"Topic1\", \"Topic1\", \"Topic1\", \"Topic1\", \"Topic1\", \"Topic1\", \"Topic1\", \"Topic1\", \"Topic1\", \"Topic1\", \"Topic1\", \"Topic1\", \"Topic1\", \"Topic1\", \"Topic1\", \"Topic2\", \"Topic2\", \"Topic2\", \"Topic2\", \"Topic2\", \"Topic2\", \"Topic2\", \"Topic2\", \"Topic2\", \"Topic2\", \"Topic2\", \"Topic2\", \"Topic2\", \"Topic2\", \"Topic2\", \"Topic2\", \"Topic2\", \"Topic2\", \"Topic2\", \"Topic2\", \"Topic2\", \"Topic2\", \"Topic2\", \"Topic2\", \"Topic2\", \"Topic2\", \"Topic2\", \"Topic2\", \"Topic2\", \"Topic2\", \"Topic2\", \"Topic2\", \"Topic2\", \"Topic2\", \"Topic2\", \"Topic2\", \"Topic2\", \"Topic2\", \"Topic2\", \"Topic2\", \"Topic2\", \"Topic2\", \"Topic2\", \"Topic2\", \"Topic2\", \"Topic2\", \"Topic2\", \"Topic2\", \"Topic2\", \"Topic2\", \"Topic2\", \"Topic2\", \"Topic2\", \"Topic3\", \"Topic3\", \"Topic3\", \"Topic3\", \"Topic3\", \"Topic3\", \"Topic3\", \"Topic3\", \"Topic3\", \"Topic3\", \"Topic3\", \"Topic3\", \"Topic3\", \"Topic3\", \"Topic3\", \"Topic3\", \"Topic3\", \"Topic3\", \"Topic3\", \"Topic3\", \"Topic3\", \"Topic3\", \"Topic3\", \"Topic3\", \"Topic3\", \"Topic3\", \"Topic3\", \"Topic3\", \"Topic3\", \"Topic3\", \"Topic3\", \"Topic3\", \"Topic3\", \"Topic3\", \"Topic3\", \"Topic3\", \"Topic3\", \"Topic3\", \"Topic3\", \"Topic3\", \"Topic3\", \"Topic3\", \"Topic3\", \"Topic3\", \"Topic3\", \"Topic3\", \"Topic3\", \"Topic3\", \"Topic3\", \"Topic3\", \"Topic3\", \"Topic3\", \"Topic3\", \"Topic3\", \"Topic3\", \"Topic3\", \"Topic4\", \"Topic4\", \"Topic4\", \"Topic4\", \"Topic4\", \"Topic4\", \"Topic4\", \"Topic4\", \"Topic4\", \"Topic4\", \"Topic4\", \"Topic4\", \"Topic4\", \"Topic4\", \"Topic4\", \"Topic4\", \"Topic4\", \"Topic4\", \"Topic4\", \"Topic4\", \"Topic4\", \"Topic4\", \"Topic4\", \"Topic4\", \"Topic4\", \"Topic4\", \"Topic4\", \"Topic4\", \"Topic4\", \"Topic4\", \"Topic4\", \"Topic4\", \"Topic4\", \"Topic4\", \"Topic4\", \"Topic4\", \"Topic4\", \"Topic4\", \"Topic4\", \"Topic4\", \"Topic4\", \"Topic4\", \"Topic5\", \"Topic5\", \"Topic5\", \"Topic5\", \"Topic5\", \"Topic5\", \"Topic5\", \"Topic5\", \"Topic5\", \"Topic5\", \"Topic5\", \"Topic5\", \"Topic5\", \"Topic5\", \"Topic5\", \"Topic5\", \"Topic5\", \"Topic5\", \"Topic5\", \"Topic5\", \"Topic5\", \"Topic5\", \"Topic5\", \"Topic5\", \"Topic5\", \"Topic5\", \"Topic5\", \"Topic5\", \"Topic5\", \"Topic5\", \"Topic5\", \"Topic5\", \"Topic5\", \"Topic5\", \"Topic5\", \"Topic5\", \"Topic5\", \"Topic5\", \"Topic5\", \"Topic5\", \"Topic5\", \"Topic5\", \"Topic5\", \"Topic5\", \"Topic5\"], \"logprob\": [30.0, 29.0, 28.0, 27.0, 26.0, 25.0, 24.0, 23.0, 22.0, 21.0, 20.0, 19.0, 18.0, 17.0, 16.0, 15.0, 14.0, 13.0, 12.0, 11.0, 10.0, 9.0, 8.0, 7.0, 6.0, 5.0, 4.0, 3.0, 2.0, 1.0, -4.4442, -4.6392, -4.7532, -4.8905, -5.2231, -5.2979, -5.3496, -5.3871, -5.4671, -5.5357, -5.5462, -5.5615, -5.5692, -5.6164, -5.6562, -5.7921, -5.8435, -5.9644, -5.9681, -5.9859, -5.9947, -5.9958, -5.9985, -5.9986, -5.9986, -5.9987, -6.0046, -6.0064, -6.0729, -6.0339, -4.8154, -5.0942, -4.1722, -3.8574, -5.7426, -5.0043, -5.1001, -3.0958, -4.6378, -3.2223, -3.5895, -5.4015, -5.198, -3.7098, -3.7854, -4.519, -4.3075, -4.7338, -4.1616, -4.416, -4.9765, -5.0785, -5.0761, -4.5473, -5.256, -3.6236, -4.2922, -4.4049, -4.5364, -4.7196, -4.693, -4.8544, -4.8883, -5.1157, -5.1244, -5.2698, -5.0873, -5.312, -5.3482, -5.4007, -5.4989, -5.4874, -5.5076, -5.518, -5.5415, -5.5385, -5.5558, -5.5548, -5.2891, -5.6055, -5.6196, -5.6275, -5.6307, -5.6374, -5.6375, -3.2741, -5.6316, -5.4376, -5.4376, -5.078, -3.2889, -4.6055, -3.4482, -3.2761, -3.796, -3.0285, -4.6724, -4.8283, -3.6279, -4.1958, -4.9538, -5.2406, -4.3316, -4.9986, -4.734, -4.7628, -4.895, -4.8186, -4.6337, -4.921, -4.9222, -4.9392, -5.0446, -5.0808, -5.1255, -5.1827, -5.2495, -5.3183, -5.413, -5.4434, -5.4958, -5.322, -5.5543, -5.5576, -5.5464, -5.5588, -5.6373, -5.601, -5.6557, -5.6751, -5.7128, -5.7176, -5.7228, -5.7421, -5.7694, -5.7182, -5.8463, -5.8509, -5.8452, -4.9148, -4.415, -5.6201, -4.36, -4.6403, -4.6754, -5.123, -4.5565, -4.952, -3.5737, -5.3464, -4.4458, -3.742, -3.5245, -3.8096, -3.9921, -3.9426, -4.732, -4.7193, -4.2834, -4.0655, -4.695, -5.1692, -5.0109, -5.1754, -3.1291, -3.2102, -3.394, -3.4585, -3.4659, -3.4669, -3.4669, -3.467, -3.4671, -3.4671, -3.6544, -4.5023, -5.1972, -5.2327, -5.4173, -5.4235, -5.5156, -5.5306, -5.5896, -5.6623, -5.6754, -5.7122, -5.7288, -5.7364, -5.7557, -5.7564, -5.7604, -5.7625, -5.7926, -5.7979, -3.0901, -3.4472, -2.9218, -3.3212, -3.3341, -2.8176, -3.1856, -4.8764, -4.8712, -4.7949, -5.1273, -5.3628, -2.8967, -3.1398, -3.2194, -3.3184, -3.3184, -3.7084, -3.7599, -4.4058, -4.4477, -4.4616, -4.5794, -4.7631, -4.8116, -4.8161, -4.8537, -4.8613, -4.9093, -4.9132, -4.9135, -4.9144, -4.9144, -4.9144, -4.9144, -4.9144, -4.9144, -5.0752, -5.4391, -5.4575, -5.4762, -5.4762, -3.3164, -4.1377, -3.7093, -3.8004, -3.9241, -4.0549, -4.8078, -4.7685, -4.8661, -4.7932, -4.7661, -4.7887, -4.8546, -4.8899, -4.857], \"loglift\": [30.0, 29.0, 28.0, 27.0, 26.0, 25.0, 24.0, 23.0, 22.0, 21.0, 20.0, 19.0, 18.0, 17.0, 16.0, 15.0, 14.0, 13.0, 12.0, 11.0, 10.0, 9.0, 8.0, 7.0, 6.0, 5.0, 4.0, 3.0, 2.0, 1.0, 0.9819, 0.9817, 0.9816, 0.9814, 0.9807, 0.9806, 0.9805, 0.9804, 0.9802, 0.98, 0.9799, 0.9799, 0.9798, 0.9797, 0.9794, 0.9791, 0.9789, 0.9784, 0.9783, 0.9783, 0.9782, 0.9782, 0.9782, 0.9782, 0.9782, 0.9782, 0.9782, 0.9779, 0.9779, 0.9779, 0.9551, 0.8874, 0.7898, 0.7513, 0.9503, 0.8295, 0.782, 0.2657, 0.6116, 0.1707, 0.263, 0.7999, 0.7298, 0.1146, 0.0797, 0.3534, 0.2278, 0.3884, -0.1132, 0.0756, 0.4683, 0.5185, 0.4324, -0.3393, 0.572, 1.558, 1.5573, 1.5571, 1.5569, 1.5564, 1.5563, 1.5561, 1.556, 1.5553, 1.5553, 1.5547, 1.5546, 1.5545, 1.554, 1.554, 1.5537, 1.5537, 1.5536, 1.5536, 1.5535, 1.5535, 1.5534, 1.5533, 1.5532, 1.5531, 1.553, 1.553, 1.553, 1.5529, 1.5529, 1.5366, 1.5529, 1.5469, 1.5469, 1.4008, 0.7595, 1.1901, 0.7598, 0.5483, 0.7392, 0.3329, 1.1348, 1.0265, -0.2349, 0.2958, 0.8648, 1.1968, -0.4792, 0.751, 0.0953, 0.1096, 0.3179, -0.9535, 1.6356, 1.6348, 1.6348, 1.6347, 1.6343, 1.6343, 1.6341, 1.6337, 1.6337, 1.6333, 1.6329, 1.6325, 1.6325, 1.6322, 1.6322, 1.6321, 1.632, 1.6318, 1.6317, 1.6315, 1.6315, 1.6313, 1.6312, 1.6312, 1.6311, 1.631, 1.6308, 1.6308, 1.6303, 1.6302, 1.6302, 1.5972, 1.536, 1.606, 1.3766, 1.3762, 1.2567, 1.4094, 1.1328, 1.245, 0.2788, 1.4254, 0.7671, 0.0825, -0.1631, 0.0555, 0.2159, 0.1058, 0.7765, 0.7254, 0.2083, -0.6724, 0.1774, 1.1665, 0.5861, 0.0739, 1.9663, 1.9662, 1.9661, 1.966, 1.966, 1.966, 1.966, 1.966, 1.966, 1.966, 1.9658, 1.964, 1.9612, 1.961, 1.9598, 1.9598, 1.959, 1.959, 1.9585, 1.9578, 1.9577, 1.9574, 1.9572, 1.9572, 1.957, 1.9569, 1.9569, 1.9569, 1.9566, 1.9565, 1.9174, 1.9158, 1.8495, 1.6394, 1.4952, 0.5755, 0.6795, 1.4426, -1.0187, -1.4335, -0.6356, -0.754, 2.5106, 2.5103, 2.5102, 2.5101, 2.5101, 2.5093, 2.5092, 2.507, 2.5068, 2.5067, 2.5061, 2.505, 2.5047, 2.5047, 2.5044, 2.5044, 2.5041, 2.504, 2.504, 2.504, 2.504, 2.504, 2.504, 2.504, 2.504, 2.5025, 2.4987, 2.4986, 2.4983, 2.4983, 2.3666, 2.2664, 1.9898, 1.6535, -0.0716, -0.6619, 1.5279, 0.9208, 1.7847, 0.329, -1.4047, -0.9236, 0.941, 1.6974, -0.649]}, \"token.table\": {\"Topic\": [1, 2, 3, 4, 1, 3, 2, 1, 2, 3, 3, 3, 5, 1, 3, 3, 1, 2, 1, 3, 1, 2, 3, 5, 3, 4, 1, 3, 4, 5, 1, 3, 4, 1, 3, 5, 4, 1, 3, 1, 2, 3, 3, 2, 4, 1, 2, 3, 1, 2, 4, 4, 5, 2, 3, 3, 3, 1, 4, 5, 2, 2, 3, 1, 5, 5, 1, 2, 3, 4, 5, 1, 5, 5, 4, 5, 2, 3, 3, 1, 1, 1, 3, 1, 4, 5, 5, 5, 4, 3, 2, 2, 4, 5, 4, 1, 1, 2, 3, 1, 4, 1, 1, 2, 3, 1, 1, 1, 3, 1, 1, 1, 2, 5, 1, 2, 3, 2, 1, 2, 4, 5, 1, 2, 4, 1, 1, 5, 4, 4, 5, 4, 1, 1, 3, 4, 1, 2, 3, 2, 2, 2, 2, 1, 2, 3, 4, 1, 2, 4, 5, 5, 3, 1, 4, 5, 4, 2, 4, 3, 5, 1, 2, 3, 4, 5, 3, 4, 1, 3, 5, 3, 1, 1, 1, 2, 3, 4, 4, 1, 3, 1, 2, 3, 5, 1, 5, 5, 2, 5, 4, 4, 3, 5, 1, 3, 5, 1, 4, 5, 5, 3, 2, 3, 3, 2, 2, 1, 4, 1, 2, 1, 2, 3, 3, 4, 3, 4, 3, 5, 5, 4, 1, 2, 2, 2, 4, 5, 1, 3, 3, 5, 5, 3, 1, 2, 2, 1, 3, 1, 2, 3, 4, 5, 1, 5, 1, 2, 1, 3, 1, 2, 3, 4, 5, 3, 2, 4, 5, 2, 1, 2, 2, 1, 1, 3, 1, 1, 3, 4, 1, 2, 3, 4, 5, 3, 5, 4, 3, 4, 2, 4, 1, 2, 5, 4, 4, 1, 3, 2, 1, 2, 2, 1, 4, 1, 2, 3, 5, 2, 3, 5, 5, 1, 5, 3, 3, 4, 4, 3, 4, 1], \"Freq\": [0.4037751541541039, 0.28284005297102877, 0.23940213907669974, 0.07404189868351539, 0.22905636486955694, 0.7688129474334634, 0.994168992793267, 0.9974609627145538, 0.9779635963855121, 0.021732524364122492, 0.996696414212055, 0.9967406024164204, 0.9991596317987779, 0.9965940739810818, 0.994967333210759, 0.9937142166948222, 0.8240203037695261, 0.1753907070343574, 0.31472012713194675, 0.6836304748296591, 0.26650645698995107, 0.4497528772075883, 0.24123108868407006, 0.04237341157162402, 0.049552054527463314, 0.9497477117763802, 0.7929731636855555, 0.07879789310241349, 0.06603485407878314, 0.06215045089767824, 0.6291305983229964, 0.3488544076009032, 0.022362462025698925, 0.1929220162582687, 0.6032900338923827, 0.20436654264647108, 0.9965177215323179, 0.9088704871456423, 0.08979202403125623, 0.6630449146881504, 0.018783142059154403, 0.31743510079970944, 0.9946939347352901, 0.9972201122748601, 0.9927848827314115, 0.2580673196665948, 0.06519595444208712, 0.6764080273366537, 0.14459945732489854, 0.231082386346967, 0.6240608158232462, 0.9935847108197191, 0.9982747020541807, 0.99782792981546, 0.9961453992904866, 0.9952350076437287, 0.9967003945306773, 0.9984198107325253, 0.1332285289634982, 0.864360700104647, 0.9966109046422232, 0.03722356375229229, 0.9603679448091411, 0.9990785742996171, 0.9940911181818399, 0.9983583494038666, 0.48684541865541114, 0.1302422200790292, 0.25683765799584557, 0.05053398139066333, 0.07554048764583693, 0.9953717880522276, 0.9912609872241128, 0.9965864009247218, 0.9983532265703471, 0.9950888465484934, 0.9949141007193331, 0.9980726746496831, 0.9971540724438004, 0.9925804369452368, 0.996353617220438, 0.8576647489741983, 0.14168470522701515, 0.8188106539299873, 0.16852035250375041, 0.011895554294382382, 0.9944820656361099, 0.9973444239344454, 0.9893041445221429, 0.9963234749198201, 0.9944582051590674, 0.9927624174336133, 0.9986709578767925, 0.990998032889743, 0.9893742608856716, 0.9952519481648442, 0.5330759006904388, 0.23475564732302517, 0.23186634704828027, 0.9679246354181246, 0.031223375336068532, 0.9990547045196907, 0.30053788494029965, 0.6978006064131096, 0.9937182948073029, 0.9953927715924085, 0.9986394114855924, 0.8321143388075444, 0.16642286776150886, 0.9943487947164764, 0.9982137381199526, 0.33294992142720353, 0.6548628288844445, 0.011037013969962548, 0.29140168270376066, 0.28937100895669615, 0.41831879189529403, 0.994822656456177, 0.050913406372122126, 0.6909676579073717, 0.049095070430260616, 0.2072902973722115, 0.30095457516491914, 0.586475582372663, 0.10996417169487431, 0.9973533146507729, 0.21384005396252043, 0.7818526973004652, 0.9946303680903898, 0.9936307364904725, 0.9950888465484934, 0.9993989603339078, 0.9951844895442091, 0.2013392401043458, 0.7939603996567599, 0.9941215055985316, 0.33429457228961723, 0.4496341214018643, 0.21610322113888053, 0.9917707856644435, 0.9988605164045367, 0.9967914844033807, 0.9960976209192391, 0.4697008490141857, 0.44082790988707876, 0.08919675837481243, 0.9995317965656539, 0.13332452422061547, 0.14594696438351396, 0.7202679917953959, 0.9964282835858704, 0.9801308305416493, 0.9940015583069403, 0.9969416386928295, 0.999535909759463, 0.9977761991942958, 0.9984000730142208, 0.998844506182744, 0.9956888791180508, 0.9929663981425687, 0.9900573066205347, 0.3317156324227871, 0.4463398823699282, 0.19104041657856852, 0.0329978901362982, 0.9950888465484934, 0.9968913681635336, 0.9948093739198286, 0.34838864537349307, 0.05778958572546094, 0.5927560364411565, 0.9978917998656665, 0.9982863841070863, 0.996019560435034, 0.4197075710698626, 0.3639829689966159, 0.210993606940975, 0.0050658729157497, 0.9987002178297095, 0.5978775126378946, 0.40199901278008326, 0.498649170555067, 0.498649170555067, 0.6241104810230177, 0.3744662886138106, 0.5131923697285802, 0.48325614816107965, 0.9950888465484934, 0.9934635285691695, 0.9927924392886379, 0.99600098254535, 0.9902070205515796, 0.9908323639178677, 0.988953925822487, 0.22970919654000033, 0.7696972331825384, 0.9977761991942958, 0.9950458769499013, 0.9873298522964663, 0.9985311634969603, 0.9901231671546726, 0.9984011856983515, 0.9952560156018929, 0.9918934661026239, 0.9965470268591843, 0.9975463102913872, 0.9976509494797987, 0.9953309428645133, 0.9899186881890824, 0.005970235808043962, 0.9910591441352977, 0.14402592004005976, 0.8533535762373541, 0.9955527274268933, 0.04795800118629961, 0.9517182649212215, 0.40512508501668293, 0.5923419803653016, 0.9969068029029171, 0.9937506034283419, 0.9988915825657037, 0.9939679032501708, 0.993923739101741, 0.9969697491271395, 0.9965332420303968, 0.997120446269179, 0.9984040613947143, 0.9801308305416493, 0.9992162634167101, 0.9986266581350963, 0.9943173014180747, 0.9950888465484934, 0.9939452321547383, 0.9950865736147289, 0.9966187405015935, 0.9948469923321429, 0.9931175614413481, 0.5771979933534317, 0.4230056216065339, 0.4881267173150614, 0.2934818048912567, 0.16515325902625852, 0.033317597622092694, 0.01992679283617984, 0.553844896493186, 0.44147056966848164, 0.9978041608578434, 0.9986128755129328, 0.9985867380391773, 0.993442188568038, 0.4439112625228818, 0.16634332335457136, 0.09921367357349806, 0.24861005102745531, 0.04179149765782505, 0.9904714708475715, 0.9908902338497642, 0.9984682322326662, 0.9942393173932382, 0.9918806767984631, 0.9960534868889162, 0.9949880258167471, 0.9974976779120235, 0.9945488585789801, 0.09558619476445238, 0.9027585061087169, 0.9989288839000032, 0.6897276636700466, 0.20955084743563246, 0.10003683671550294, 0.40519584016531424, 0.08098640815804133, 0.20549971320884103, 0.2759341463625773, 0.03218352376313043, 0.9926809939660454, 0.9947118079623836, 0.9994853807600521, 0.8108173658189678, 0.1882254599222604, 0.9991161919451582, 0.9876015682744483, 0.3475486922256716, 0.22868445547934524, 0.42377684405212, 0.9920864482376123, 0.9963562829141265, 0.9966223040926303, 0.9986809510898969, 0.9983291076914639, 0.005970235808043962, 0.9910591441352977, 0.9960881306282331, 0.9717992041960121, 0.026600343180547777, 0.5517510284811126, 0.17526209139988283, 0.15949777630042247, 0.11313214365495082, 0.9943916699063334, 0.9654418158302854, 0.030407616246623165, 0.9950888465484934, 0.7762093053526284, 0.22207057666505678, 0.9942251348192571, 0.11033673786263973, 0.8892227039580787, 0.9993301172103585, 0.992239221819988, 0.9950124065556049, 0.9953309428645133], \"Term\": [\"a\", \"a\", \"a\", \"a\", \"about\", \"about\", \"action\", \"administered\", \"africa\", \"africa\", \"after\", \"against\", \"age\", \"all\", \"already\", \"america\", \"amp\", \"amp\", \"an\", \"an\", \"and\", \"and\", \"and\", \"and\", \"another\", \"another\", \"are\", \"are\", \"are\", \"are\", \"as\", \"as\", \"as\", \"at\", \"at\", \"at\", \"authority\", \"be\", \"be\", \"been\", \"been\", \"been\", \"benefit\", \"blown\", \"bus\", \"but\", \"but\", \"but\", \"by\", \"by\", \"by\", \"call\", \"capacity\", \"cases\", \"cause\", \"child\", \"children\", \"china\", \"code\", \"code\", \"coronavirus\", \"could\", \"could\", \"countries\", \"covaxin\", \"covaxinsmin\", \"covid\", \"covid\", \"covid\", \"covid\", \"covid\", \"covidvaccination\", \"covishield\", \"covishieldsmin\", \"crime\", \"dailymonitor\", \"deaths\", \"delta\", \"department\", \"designers\", \"do\", \"dont\", \"dont\", \"doses\", \"doses\", \"doses\", \"dying\", \"each\", \"easy\", \"education\", \"elsewhere\", \"everyone\", \"expired\", \"failure\", \"find\", \"fireworks\", \"for\", \"for\", \"for\", \"free\", \"free\", \"from\", \"full\", \"full\", \"fully\", \"givenkazeni\", \"go\", \"government\", \"government\", \"graphic\", \"had\", \"has\", \"has\", \"has\", \"have\", \"have\", \"have\", \"head\", \"health\", \"health\", \"health\", \"health\", \"help\", \"help\", \"help\", \"here\", \"hospital\", \"hospital\", \"httpstco\", \"httpstcombbxzcwqqz\", \"httpstcookiugfz\", \"httpstcotivkdqlw\", \"huge\", \"if\", \"if\", \"im\", \"in\", \"in\", \"in\", \"increased\", \"india\", \"indian\", \"indiassyou\", \"is\", \"is\", \"is\", \"israel\", \"just\", \"just\", \"just\", \"kills\", \"laigude\", \"latest\", \"less\", \"liars\", \"limit\", \"load\", \"midst\", \"million\", \"minister\", \"money\", \"more\", \"more\", \"more\", \"more\", \"mulago\", \"myocarditis\", \"near\", \"need\", \"need\", \"need\", \"no\", \"not\", \"now\", \"of\", \"of\", \"of\", \"of\", \"off\", \"on\", \"on\", \"one\", \"one\", \"other\", \"other\", \"our\", \"our\", \"overstretched\", \"overwhelm\", \"oxygen\", \"pa\", \"palestinian\", \"parts\", \"pay\", \"people\", \"people\", \"pin\", \"please\", \"pleased\", \"pmcgsvaccines\", \"ppes\", \"provide\", \"public\", \"puts\", \"question\", \"quickly\", \"rebound\", \"release\", \"remember\", \"retweet\", \"retweet\", \"rich\", \"rich\", \"risk\", \"rt\", \"rt\", \"s\", \"s\", \"same\", \"sdos\", \"sdose\", \"search\", \"see\", \"seen\", \"sending\", \"sent\", \"shawajason\", \"smurlidhar\", \"so\", \"south\", \"speaks\", \"ssoxygen\", \"stand\", \"still\", \"support\", \"surging\", \"technology\", \"that\", \"that\", \"the\", \"the\", \"the\", \"the\", \"the\", \"them\", \"them\", \"these\", \"third\", \"this\", \"threat\", \"to\", \"to\", \"to\", \"to\", \"to\", \"total\", \"trajectory\", \"tried\", \"ugandans\", \"uk\", \"up\", \"urgent\", \"urgently\", \"us\", \"vaccinated\", \"vaccinated\", \"vaccination\", \"vaccine\", \"vaccine\", \"vaccine\", \"vaccines\", \"vaccines\", \"vaccines\", \"vaccines\", \"vaccines\", \"variant\", \"via\", \"war\", \"was\", \"was\", \"wave\", \"ways\", \"we\", \"we\", \"we\", \"wecandothis\", \"welcome\", \"what\", \"where\", \"who\", \"whoindiassindia\", \"whoindiassindia\", \"why\", \"will\", \"will\", \"with\", \"with\", \"with\", \"with\", \"wolfofwallst\", \"workers\", \"workers\", \"workerssworld\", \"world\", \"world\", \"yet\", \"you\", \"you\", \"your\", \"youre\", \"zip\", \"zweli\"]}, \"R\": 30, \"lambda.step\": 0.01, \"plot.opts\": {\"xlab\": \"PC1\", \"ylab\": \"PC2\"}, \"topic.order\": [2, 4, 1, 3, 5]};\n\nfunction LDAvis_load_lib(url, callback){\n  var s = document.createElement('script');\n  s.src = url;\n  s.async = true;\n  s.onreadystatechange = s.onload = callback;\n  s.onerror = function(){console.warn(\"failed to load library \" + url);};\n  document.getElementsByTagName(\"head\")[0].appendChild(s);\n}\n\nif(typeof(LDAvis) !== \"undefined\"){\n   // already loaded: just create the visualization\n   !function(LDAvis){\n       new LDAvis(\"#\" + \"ldavis_el280561401114325040323962130327\", ldavis_el280561401114325040323962130327_data);\n   }(LDAvis);\n}else if(typeof define === \"function\" && define.amd){\n   // require.js is available: use it to load d3/LDAvis\n   require.config({paths: {d3: \"https://d3js.org/d3.v5\"}});\n   require([\"d3\"], function(d3){\n      window.d3 = d3;\n      LDAvis_load_lib(\"https://cdn.jsdelivr.net/gh/bmabey/pyLDAvis@3.3.1/pyLDAvis/js/ldavis.v3.0.0.js\", function(){\n        new LDAvis(\"#\" + \"ldavis_el280561401114325040323962130327\", ldavis_el280561401114325040323962130327_data);\n      });\n    });\n}else{\n    // require.js not available: dynamically load d3 & LDAvis\n    LDAvis_load_lib(\"https://d3js.org/d3.v5.js\", function(){\n         LDAvis_load_lib(\"https://cdn.jsdelivr.net/gh/bmabey/pyLDAvis@3.3.1/pyLDAvis/js/ldavis.v3.0.0.js\", function(){\n                 new LDAvis(\"#\" + \"ldavis_el280561401114325040323962130327\", ldavis_el280561401114325040323962130327_data);\n            })\n         });\n}\n</script>"
     },
     "metadata": {},
     "execution_count": 48
    }
   ],
   "source": [
    "import pyLDAvis.gensim_models as gensimvis\n",
    "import pickle \n",
    "import pyLDAvis\n",
    "# Visualize the topics\n",
    "pyLDAvis.enable_notebook()\n",
    "\n",
    "LDAvis_prepared = gensimvis.prepare(lda_model, corpus, id2word)\n",
    "LDAvis_prepared\n"
   ]
  },
  {
   "cell_type": "code",
   "execution_count": null,
   "metadata": {},
   "outputs": [],
   "source": []
  }
 ]
}